{
 "cells": [
  {
   "cell_type": "code",
   "execution_count": 1,
   "id": "dcd0640d",
   "metadata": {},
   "outputs": [],
   "source": [
    "import numpy as np\n",
    "import matplotlib.pyplot as plt\n",
    "import pandas as pd"
   ]
  },
  {
   "cell_type": "code",
   "execution_count": 2,
   "id": "21eee96c",
   "metadata": {},
   "outputs": [],
   "source": [
    "### Equation 3.1 of Pragya's thesis ####\n",
    "def calculate_exp(dec, beam_days, transit_deg):\n",
    "    dec = np.deg2rad(dec)\n",
    "    t = (transit_deg/(np.cos(dec)*360))*24*beam_days\n",
    "    return t"
   ]
  },
  {
   "cell_type": "code",
   "execution_count": 3,
   "id": "58cebd92",
   "metadata": {},
   "outputs": [
    {
     "name": "stdout",
     "output_type": "stream",
     "text": [
      "Average number of beams 983.8218760421369\n",
      "Uptime in days 1400.887722729364\n",
      "Beam days = 1345.9218627929686\n",
      "Exposure is 6526.580150430716 hours or 271.94083960127983 days\n"
     ]
    }
   ],
   "source": [
    "##### Exposure for SGR in side lobes ####\n",
    "# ra = 293.732000\n",
    "# dec = 21.896720\n",
    "\n",
    "# HA_range = 91.5\n",
    "\n",
    "##### Exposure for R117 ####\n",
    "ra = 347.27041667\n",
    "dec = 48.70705556\n",
    "\n",
    "HA_range = 24\n",
    "\n",
    "transit_deg = 2 * HA_range\n",
    "\n",
    "\n",
    "data = np.load('exposure_files/CHIME-FRB-uptime_20180828_20230725.npz', allow_pickle=True)\n",
    "\n",
    "beam_days = (data['avg_beams']/1024) * data['uptime_days']\n",
    "\n",
    "print(\"Average number of beams\", data['avg_beams'])\n",
    "print(\"Uptime in days\", data['uptime_days'])\n",
    "print(\"Beam days =\", beam_days)\n",
    "\n",
    "transit = calculate_exp(dec,beam_days,transit_deg)\n",
    "print(\"Exposure is {} hours or {} days\".format(transit, transit/24))\n",
    "\n"
   ]
  },
  {
   "cell_type": "code",
   "execution_count": 8,
   "id": "d5d6c45c",
   "metadata": {},
   "outputs": [
    {
     "name": "stdout",
     "output_type": "stream",
     "text": [
      "Fluence threshold is 10205.656248246454 Jy ms\n"
     ]
    }
   ],
   "source": [
    "##### Fluence threshold for side lobe events ######\n",
    "\n",
    "##### equation used ######\n",
    "\n",
    "### event id used 246320834 #####\n",
    "\n",
    "G = 5 ### From Holography paper Hsiu-Hsien ####\n",
    "\n",
    "Br = 1.004e-3 #### From Holography paper Hsiu-Hsien ####\n",
    "\n",
    "f = 2.91  #### lower limit fluence of the burst from Bridgets pipeline ####\n",
    "\n",
    "l1_snr = 11.36\n",
    "\n",
    "ref_snr = 8 ### Our detection S/N ####\n",
    "\n",
    "f_thresh = f * (G/Br) * (ref_snr/l1_snr)\n",
    "\n",
    "print(\"Fluence threshold is {} Jy ms\".format(f_thresh))"
   ]
  },
  {
   "cell_type": "code",
   "execution_count": 14,
   "id": "e341bfb1",
   "metadata": {},
   "outputs": [
    {
     "name": "stdout",
     "output_type": "stream",
     "text": [
      "The total exposure is 111.14333333333335 hrs\n"
     ]
    }
   ],
   "source": [
    "####### Exposure for main lobe events ######\n",
    "\n",
    "data = np.load('exposure_293.732_21.897_res_4s_src_SGR1935.npz', allow_pickle = True)\n",
    "\n",
    "exp_u = data['exp_mins_u']\n",
    "\n",
    "tot_exp = np.sum(exp_u)/60\n",
    "\n",
    "print(\"The total exposure is {} hrs\".format(tot_exp))"
   ]
  },
  {
   "cell_type": "code",
   "execution_count": null,
   "id": "1d7b45fe",
   "metadata": {},
   "outputs": [],
   "source": [
    "###### Fluence threshold main lobe is notebook in /data/user-data/ksand/frb-exposure/...."
   ]
  }
 ],
 "metadata": {
  "kernelspec": {
   "display_name": "Python 3",
   "language": "python",
   "name": "python3"
  },
  "language_info": {
   "codemirror_mode": {
    "name": "ipython",
    "version": 3
   },
   "file_extension": ".py",
   "mimetype": "text/x-python",
   "name": "python",
   "nbconvert_exporter": "python",
   "pygments_lexer": "ipython3",
   "version": "3.8.8"
  }
 },
 "nbformat": 4,
 "nbformat_minor": 5
}
