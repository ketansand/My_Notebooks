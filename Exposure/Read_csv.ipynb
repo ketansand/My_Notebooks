{
 "cells": [
  {
   "cell_type": "code",
   "execution_count": 3,
   "id": "71deddad",
   "metadata": {},
   "outputs": [],
   "source": [
    "import pandas as pd\n",
    "import numpy as np\n",
    "import matplotlib.pyplot as plt"
   ]
  },
  {
   "cell_type": "code",
   "execution_count": 48,
   "id": "a7f20857",
   "metadata": {},
   "outputs": [
    {
     "name": "stdout",
     "output_type": "stream",
     "text": [
      "0     0.00679\n",
      "1     0.03241\n",
      "2     0.01086\n",
      "3     0.02023\n",
      "4     0.04425\n",
      "5     0.01196\n",
      "6     0.00839\n",
      "7     0.00754\n",
      "8     0.00987\n",
      "9     0.00497\n",
      "10    0.01809\n",
      "11    0.01234\n",
      "12    0.00557\n",
      "13    0.00637\n",
      "14    0.00705\n",
      "15    0.01362\n",
      "16    0.00592\n",
      "17    0.01480\n",
      "18    0.00839\n",
      "19    0.01152\n",
      "20    0.01184\n",
      "21    0.01316\n",
      "22    0.02352\n",
      "23    0.00839\n",
      "24    0.00565\n",
      "25    0.01083\n",
      "26    0.03010\n",
      "27    0.00711\n",
      "28    0.00732\n",
      "29    0.01302\n",
      "30    0.02089\n",
      "31    0.00674\n",
      "Name: Dec_err_90, dtype: float64\n"
     ]
    }
   ],
   "source": [
    "data = pd.read_csv('/Users/ketansand/Downloads/Rn3_Exposure.csv')\n",
    "events = []\n",
    "\n",
    "for i in range(len(data['Event_IDs'])):\n",
    "    x = data['Event_IDs'][i].split(',')[0]\n",
    "    events.append(int(x))\n",
    "\n",
    "events = np.array(events)\n",
    "\n",
    "data['Dec_err_90'] = 1.645*data['Dec_error']\n",
    "data['RA_err_90'] = 1.645*data['RA_error']\n",
    "\n",
    "decimals = 5   \n",
    "data['Dec_err_90'] = data['Dec_err_90'].apply(lambda x: round(x, decimals))\n",
    "data['RA_err_90'] = data['RA_err_90'].apply(lambda x: round(x, decimals))\n",
    "data['Dec'] = data['Dec'].apply(lambda x: round(x, decimals))\n",
    "data['RA'] = data['RA'].apply(lambda x: round(x, decimals))\n",
    "\n",
    "\n",
    "data_new = data[['Dec','RA','Dec_err_90','RA_err_90']].copy()\n",
    "data_new['Event_id'] = pd.Series(events)\n",
    "\n",
    "data_new = data_new[['Event_id','RA','RA_err_90','Dec','Dec_err_90']]\n",
    "print(data_new['Dec_err_90'])"
   ]
  },
  {
   "cell_type": "code",
   "execution_count": 49,
   "id": "29247329",
   "metadata": {},
   "outputs": [],
   "source": [
    "data_new.to_csv('baseband_src_list.txt', header=None, index=None, sep=' ', mode='w')\n",
    "data_new['Event_id'].to_csv('src_list.txt', header=None, index=None, sep=' ', mode='w')"
   ]
  },
  {
   "cell_type": "code",
   "execution_count": 11,
   "id": "67ad4ded",
   "metadata": {},
   "outputs": [
    {
     "name": "stdout",
     "output_type": "stream",
     "text": [
      "0    26804245\n",
      "1    27052203\n",
      "2    25546149\n",
      "3    20050501\n",
      "4    21297602\n",
      "5    23908435\n",
      "6    25849106\n",
      "7    23723094\n",
      "8    28013095\n",
      "Name: event_id, dtype: int64\n"
     ]
    }
   ],
   "source": [
    "event_ids = data['event_id']\n",
    "event_ids = event_ids.astype(int)\n",
    "print(event_ids)\n",
    "np.savetxt('eventid.txt', event_ids)"
   ]
  },
  {
   "cell_type": "code",
   "execution_count": null,
   "id": "f3a4a856",
   "metadata": {},
   "outputs": [],
   "source": []
  }
 ],
 "metadata": {
  "kernelspec": {
   "display_name": "Python 3",
   "language": "python",
   "name": "python3"
  },
  "language_info": {
   "codemirror_mode": {
    "name": "ipython",
    "version": 3
   },
   "file_extension": ".py",
   "mimetype": "text/x-python",
   "name": "python",
   "nbconvert_exporter": "python",
   "pygments_lexer": "ipython3",
   "version": "3.8.8"
  }
 },
 "nbformat": 4,
 "nbformat_minor": 5
}
