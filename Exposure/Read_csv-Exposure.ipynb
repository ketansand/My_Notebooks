{
 "cells": [
  {
   "cell_type": "code",
   "execution_count": 1,
   "id": "71deddad",
   "metadata": {},
   "outputs": [],
   "source": [
    "import pandas as pd\n",
    "import numpy as np\n",
    "import matplotlib.pyplot as plt"
   ]
  },
  {
   "cell_type": "code",
   "execution_count": 3,
   "id": "a7f20857",
   "metadata": {},
   "outputs": [
    {
     "name": "stdout",
     "output_type": "stream",
     "text": [
      "     Event_id         RA       Dec  RA_err_90  Dec_err_90\n",
      "0    60100515  180.07817  61.67682    0.01409     0.00679\n",
      "1    36835571  176.72860  72.25120    0.09738     0.03241\n",
      "2   157073938  203.41320  49.07610    0.02122     0.01086\n",
      "3    57583131   40.41820  13.62560    0.01464     0.02023\n",
      "4    94243065  272.57150  55.55790    0.09228     0.04425\n",
      "5   114185370   19.95533  82.89191    0.07795     0.01196\n",
      "6    45371331   39.13340  88.93180    0.53841     0.00839\n",
      "7    41750859  240.23121  82.59767    0.06857     0.00754\n",
      "8    21841625  266.90920  89.12480    0.78680     0.00987\n",
      "9    41252817   73.32449  24.06784    0.00952     0.00497\n",
      "10   32329516  185.33930  70.69130    0.05116     0.01809\n",
      "11   54720885   11.78150  46.86150    0.02106     0.01234\n",
      "12   74317193    8.26532  28.83100    0.00582     0.00557\n",
      "13   46439431  261.34270  55.06885    0.01272     0.00637\n",
      "14   38440671  277.20968  24.76992    0.00711     0.00705\n",
      "15  145286975   64.17176   7.93892    0.01026     0.01362\n",
      "16   70836867  119.19734  86.60875    0.08144     0.00592\n",
      "17   35579228  306.52070  88.61770    0.61671     0.01480\n",
      "18   31644043  328.39666  89.11903    0.69287     0.00839\n",
      "19  136785433   17.04064  18.47435    0.01302     0.01152\n",
      "20   28021224  229.79370  82.21280    0.09508     0.01184\n",
      "21   60678575   84.10620  72.51930    0.04507     0.01316\n",
      "22  134432536  269.02680  65.80470    0.04935     0.02352\n",
      "23   13168374  354.83190  89.01400    0.67067     0.00839\n",
      "24   71571699   25.92808  44.28999    0.01211     0.00565\n",
      "25   60792403  199.58659  42.99587    0.01293     0.01083\n",
      "26   61913156  271.81350  19.76860    0.03125     0.03010\n",
      "27   25677682  249.32548  41.44505    0.00876     0.00711\n",
      "28   69246471  106.90893  42.83740    0.00918     0.00732\n",
      "29  148353736  124.19936  48.78113    0.01963     0.01302\n",
      "30  143460991  221.58640  71.78870    0.06317     0.02089\n",
      "31  141528888   58.30130  40.02940    0.01497     0.00674\n"
     ]
    }
   ],
   "source": [
    "data = pd.read_csv('/Users/ketansand/Downloads/Rn3_Exposure.csv')\n",
    "events = []\n",
    "\n",
    "for i in range(len(data['Event_IDs'])):\n",
    "    x = data['Event_IDs'][i].split(',')[0]\n",
    "    events.append(int(x))\n",
    "\n",
    "events = np.array(events)\n",
    "\n",
    "data['Dec_err_90'] = 1.645*data['Dec_error'] ##### For 90% error calculation\n",
    "data['RA_err_90'] = 1.645*data['RA_error']\n",
    "\n",
    "decimals = 5   \n",
    "data['Dec_err_90'] = data['Dec_err_90'].apply(lambda x: round(x, decimals)) ### Rounding up value to 5 decimal places\n",
    "data['RA_err_90'] = data['RA_err_90'].apply(lambda x: round(x, decimals))\n",
    "data['Dec'] = data['Dec'].apply(lambda x: round(x, decimals))\n",
    "data['RA'] = data['RA'].apply(lambda x: round(x, decimals))\n",
    "\n",
    "\n",
    "data_new = data[['Dec','RA','Dec_err_90','RA_err_90']].copy()\n",
    "data_new['Event_id'] = pd.Series(events)\n",
    "\n",
    "data_new = data_new[['Event_id','RA','Dec','RA_err_90','Dec_err_90']]\n",
    "print(data_new)"
   ]
  },
  {
   "cell_type": "code",
   "execution_count": 4,
   "id": "437ebefe",
   "metadata": {},
   "outputs": [],
   "source": [
    "data_new.to_csv('baseband_src_list.txt', header=None, index=None, sep=' ', mode='w')\n",
    "data_new['Event_id'].to_csv('src_list.txt', header=None, index=None, sep=' ', mode='w')"
   ]
  },
  {
   "cell_type": "code",
   "execution_count": 11,
   "id": "67ad4ded",
   "metadata": {},
   "outputs": [
    {
     "name": "stdout",
     "output_type": "stream",
     "text": [
      "0    26804245\n",
      "1    27052203\n",
      "2    25546149\n",
      "3    20050501\n",
      "4    21297602\n",
      "5    23908435\n",
      "6    25849106\n",
      "7    23723094\n",
      "8    28013095\n",
      "Name: event_id, dtype: int64\n"
     ]
    }
   ],
   "source": [
    "event_ids = data['event_id']\n",
    "event_ids = event_ids.astype(int)\n",
    "print(event_ids)\n",
    "np.savetxt('eventid.txt', event_ids)"
   ]
  },
  {
   "cell_type": "code",
   "execution_count": null,
   "id": "f3a4a856",
   "metadata": {},
   "outputs": [],
   "source": []
  }
 ],
 "metadata": {
  "kernelspec": {
   "display_name": "Python 3",
   "language": "python",
   "name": "python3"
  },
  "language_info": {
   "codemirror_mode": {
    "name": "ipython",
    "version": 3
   },
   "file_extension": ".py",
   "mimetype": "text/x-python",
   "name": "python",
   "nbconvert_exporter": "python",
   "pygments_lexer": "ipython3",
   "version": "3.8.8"
  }
 },
 "nbformat": 4,
 "nbformat_minor": 5
}
