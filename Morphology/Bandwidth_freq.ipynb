{
 "cells": [
  {
   "cell_type": "code",
   "execution_count": 1,
   "id": "d1b6cc55",
   "metadata": {},
   "outputs": [],
   "source": [
    "import numpy as np\n",
    "import gc\n",
    "import os\n",
    "import glob\n",
    "import json\n",
    "import matplotlib.pyplot as plt\n",
    "import pandas as pd"
   ]
  },
  {
   "cell_type": "code",
   "execution_count": 2,
   "id": "d840bf8a",
   "metadata": {},
   "outputs": [
    {
     "name": "stdout",
     "output_type": "stream",
     "text": [
      "['73726599' '203798724' '71785167' '195132396' '92844954' '60073678'\n",
      " '166812476' '71665813' '83984528' '180666196' '175929272' '23789294'\n",
      " '67522832' '151677988' '171855709' '154913824' '69509443' '180667327'\n",
      " '153859596' '23891929' '176060009' '194488374' '92773515' '194488454'\n",
      " '71784833' '65395717' '171681248' '40750224' '154910364' '40363753'\n",
      " '200973875' '71784400' '194488393' '163534005' '163362088' '84081108'\n",
      " '155079679' '67522901' '163181014' '203935225' '188553320']\n",
      "(41,)\n"
     ]
    }
   ],
   "source": [
    "basepath = '/data/user-data/ksand/R3/fitburst_run_pol_DM/'\n",
    "entries = os.listdir(basepath)\n",
    "#entries.remove('.ipynb_checkpoints')\n",
    "entries = np.array(entries)\n",
    "print(entries)\n",
    "print(entries.shape)"
   ]
  },
  {
   "cell_type": "code",
   "execution_count": 3,
   "id": "74d54f51",
   "metadata": {},
   "outputs": [
    {
     "name": "stdout",
     "output_type": "stream",
     "text": [
      "73726599 1\n",
      "203798724 1\n",
      "71785167 1\n",
      "195132396 1\n",
      "92844954 1\n",
      "60073678 1\n",
      "166812476 2\n",
      "71665813 1\n",
      "83984528 1\n",
      "180666196 1\n",
      "175929272 1\n",
      "23789294 1\n",
      "67522832 1\n",
      "151677988 1\n",
      "171855709 1\n",
      "154913824 1\n",
      "69509443 1\n",
      "180667327 1\n",
      "153859596 1\n",
      "23891929 1\n",
      "176060009 2\n",
      "194488374 1\n",
      "92773515 1\n",
      "194488454 1\n",
      "71784833 1\n",
      "65395717 1\n",
      "171681248 1\n",
      "40750224 1\n",
      "154910364 1\n",
      "40363753 1\n",
      "200973875 3\n",
      "71784400 1\n",
      "194488393 1\n",
      "163534005 1\n",
      "163362088 1\n",
      "84081108 1\n",
      "155079679 1\n",
      "67522901 1\n",
      "163181014 1\n",
      "203935225 1\n",
      "188553320 1\n",
      "['73726599', '203798724', '71785167', '195132396', '92844954', '60073678', '166812476', '71665813', '83984528', '180666196', '175929272', '23789294', '67522832', '151677988', '171855709', '154913824', '69509443', '180667327', '153859596', '23891929', '176060009', '194488374', '92773515', '194488454', '71784833', '65395717', '171681248', '40750224', '154910364', '40363753', '200973875', '200973875', '71784400', '194488393', '163534005', '163362088', '84081108', '155079679', '67522901', '163181014', '203935225', '188553320']\n"
     ]
    }
   ],
   "source": [
    "basepath = '/data/user-data/ksand/R3/fitburst_run_pol_DM/'\n",
    "event_ids = []\n",
    "pm_files = []\n",
    "result_files = []\n",
    "input_files = []\n",
    "summary = []\n",
    "for event in entries:\n",
    "    if (event != '.ipynb_checkpoints'):        \n",
    "        path_to_event = os.path.join(basepath, event)\n",
    "        trials = np.array(os.listdir(path_to_event))\n",
    "    \n",
    "        print(event, len(trials))\n",
    "        count = 0\n",
    "\n",
    "\n",
    "        for trial in trials:\n",
    "            if (trial != '.ipynb_checkpoints'):\n",
    "                path_to_file = os.path.join(path_to_event, trial)\n",
    "                #print(path_to_file)\n",
    "                event_ids.append(event)\n",
    "                np.array(pm_files.append(glob.glob(path_to_file + '/pm*.npz')))\n",
    "                #print(pm_files)\n",
    "                np.array(result_files.append(glob.glob(path_to_file + '/result*.npz')))\n",
    "                np.array(input_files.append(glob.glob(path_to_file + '/R3*.npz')))\n",
    "                np.array(summary.append(glob.glob(path_to_file + '/summary*.png')))\n",
    "                count = count + 1\n",
    "print(event_ids)"
   ]
  },
  {
   "cell_type": "code",
   "execution_count": 5,
   "id": "3f016b68",
   "metadata": {},
   "outputs": [
    {
     "name": "stdout",
     "output_type": "stream",
     "text": [
      "('arr_0', array([{'dm': [0.9139973318032555], 'scattering_timescale': [0.0005445876732825848], 'amplitude': array([-3.95844643]), 'arrival_time': array([0.01461754]), 'burst_width': array([0.00445039]), 'spectral_index': array([37.48579032]), 'spectral_running': array([-80.37272734])},\n",
      "       {'dm': [0.01056797552279626], 'scattering_timescale': [2.8583324174365087e-06], 'amplitude': array([0.11005729]), 'arrival_time': array([9.26354324e-05]), 'burst_width': array([1.20307222e-05]), 'spectral_index': array([2.23915656]), 'spectral_running': array([4.8079496])}],\n",
      "      dtype=object))\n",
      "('arr_0', array([{'dm': [0.6742548369207753], 'scattering_timescale': [0.0008712638476957361], 'amplitude': array([-3.51162766]), 'arrival_time': array([0.01579086]), 'burst_width': array([0.0044133]), 'spectral_index': array([1.485364]), 'spectral_running': array([19.14846147])},\n",
      "       {'dm': [0.09207583272835798], 'scattering_timescale': [8.575861444539986e-05], 'amplitude': array([0.12100814]), 'arrival_time': array([0.00112686]), 'burst_width': array([0.00034836]), 'spectral_index': array([0.98966122]), 'spectral_running': array([3.01435175])}],\n",
      "      dtype=object))\n",
      "('arr_0', array([{'dm': [0.14283398596607533], 'scattering_timescale': [0.0019754749614856585], 'amplitude': array([-3.89324673, -3.2441097 ]), 'arrival_time': array([0.00596947, 0.02954768]), 'burst_width': array([0.00098506, 0.02880891]), 'spectral_index': array([-35.22534751,  -0.72370611]), 'spectral_running': array([-131.78914942,    5.12090876])},\n",
      "       {'dm': [0.010744072580818694], 'scattering_timescale': [0.00016129390319955927], 'amplitude': array([0.16871489, 0.4171759 ]), 'arrival_time': array([0.00010584, 0.00231228]), 'burst_width': array([0.00011544, 0.00079365]), 'spectral_index': array([5.80879896, 2.71177602]), 'spectral_running': array([22.03976853, 14.89611728])}],\n",
      "      dtype=object))\n",
      "('arr_0', array([{'dm': [0.14703738629131252], 'scattering_timescale': [0.0002190872377365384], 'amplitude': array([-29.85904723]), 'arrival_time': array([0.0087609]), 'burst_width': array([0.00435099]), 'spectral_index': array([344.5819037]), 'spectral_running': array([-462.66935758])},\n",
      "       {'dm': [0.002352020109162142], 'scattering_timescale': [6.431775952885888e-06], 'amplitude': array([2.26017813]), 'arrival_time': array([8.43943488e-05]), 'burst_width': array([3.65691208e-05]), 'spectral_index': array([28.70158711]), 'spectral_running': array([39.48625982])}],\n",
      "      dtype=object))\n",
      "('arr_0', array([{'dm': [0.06917764383975769], 'scattering_timescale': [0.0035051934380391447], 'amplitude': array([-2.53664026]), 'arrival_time': array([0.00760296]), 'burst_width': array([0.00132326]), 'spectral_index': array([1.52671725]), 'spectral_running': array([-125.9413697])},\n",
      "       {'dm': [0.05834720414555048], 'scattering_timescale': [0.0002412138306931206], 'amplitude': array([0.01252735]), 'arrival_time': array([8.8653053e-05]), 'burst_width': array([9.11301367e-05]), 'spectral_index': array([0.41847011]), 'spectral_running': array([6.13619508])}],\n",
      "      dtype=object))\n",
      "('arr_0', array([{'dm': [0.20798925872567345], 'scattering_timescale': [0.00034003425753827555], 'amplitude': array([-7.84883492]), 'arrival_time': array([0.02676261]), 'burst_width': array([0.0045802]), 'spectral_index': array([86.7956338]), 'spectral_running': array([-140.4322622])},\n",
      "       {'dm': [0.02252549804792609], 'scattering_timescale': [1.6495889595966512e-05], 'amplitude': array([0.80184096]), 'arrival_time': array([0.00019025]), 'burst_width': array([0.00014491]), 'spectral_index': array([12.30845067]), 'spectral_running': array([20.28931375])}],\n",
      "      dtype=object))\n",
      "('arr_0', array([{'dm': [0.0007806533258546838], 'scattering_timescale': [0.0006304477082149706], 'amplitude': array([-3.36740221]), 'arrival_time': array([0.00690044]), 'burst_width': array([0.00156306]), 'spectral_index': array([-26.692375]), 'spectral_running': array([-99.79959335])},\n",
      "       {'dm': [0.0017839436690695175], 'scattering_timescale': [1.2589436960951187e-06], 'amplitude': array([0.032117]), 'arrival_time': array([4.20737911e-06]), 'burst_width': array([2.58234408e-06]), 'spectral_index': array([1.11492025]), 'spectral_running': array([4.14005011])}],\n",
      "      dtype=object))\n",
      "('arr_0', array([{'dm': [-0.08116465771232709], 'scattering_timescale': [0.0006667862166409172], 'amplitude': array([-4.72125435]), 'arrival_time': array([0.01315159]), 'burst_width': array([0.00132841]), 'spectral_index': array([-56.33310655]), 'spectral_running': array([-165.06658923])},\n",
      "       {'dm': [0.0030024270597843695], 'scattering_timescale': [4.017094273082407e-05], 'amplitude': array([0.34815263]), 'arrival_time': array([0.0001077]), 'burst_width': array([5.21729228e-05]), 'spectral_index': array([9.51200515]), 'spectral_running': array([27.85041194])}],\n",
      "      dtype=object))\n",
      "('arr_0', array([{'dm': [0.4188841887409371], 'scattering_timescale': [0.0009210961664091217], 'amplitude': array([-4.27958744]), 'arrival_time': array([0.00987587]), 'burst_width': array([0.00274521]), 'spectral_index': array([-44.01222214]), 'spectral_running': array([-114.00605499])},\n",
      "       {'dm': [0.0006937129880272211], 'scattering_timescale': [5.831862426985176e-07], 'amplitude': array([0.10505885]), 'arrival_time': array([3.90198134e-06]), 'burst_width': array([3.07712803e-06]), 'spectral_index': array([2.6321152]), 'spectral_running': array([6.85699126])}],\n",
      "      dtype=object))\n",
      "('arr_0', array([{'dm': [0.6354970402211565], 'scattering_timescale': [0.000504743101598493], 'amplitude': array([-2.69671191]), 'arrival_time': array([0.02313062]), 'burst_width': array([0.00226094]), 'spectral_index': array([17.20448516]), 'spectral_running': array([-59.92887489])},\n",
      "       {'dm': [0.03709099936724901], 'scattering_timescale': [3.983879782244559e-05], 'amplitude': array([0.05196305]), 'arrival_time': array([0.00013441]), 'burst_width': array([0.00010232]), 'spectral_index': array([1.64561277]), 'spectral_running': array([5.60404128])}],\n",
      "      dtype=object))\n",
      "('arr_0', array([{'dm': [-0.07582728708495601], 'scattering_timescale': [0.0008355497001863946], 'amplitude': array([-5.6754705 , -3.03629611, -2.67436514]), 'arrival_time': array([-1.45431193,  0.01515955,  0.09589272]), 'burst_width': array([0.50011939, 0.00322726, 0.00811618]), 'spectral_index': array([-0.9877726 ,  7.84924594, -3.15290317]), 'spectral_running': array([ -0.54458091, -14.02656538,  -1.23904859])}],\n",
      "      dtype=object))\n",
      "('arr_0', array([{'dm': [0.7531227460633639], 'scattering_timescale': [0.00044885591661919804], 'amplitude': array([-7.10510123]), 'arrival_time': array([0.01347954]), 'burst_width': array([0.00407973]), 'spectral_index': array([79.24214815]), 'spectral_running': array([-138.47403281])},\n",
      "       {'dm': [0.014772319713883427], 'scattering_timescale': [2.2743360446195415e-05], 'amplitude': array([0.21487846]), 'arrival_time': array([8.90673879e-05]), 'burst_width': array([8.67137245e-05]), 'spectral_index': array([3.53321621]), 'spectral_running': array([6.23938374])}],\n",
      "      dtype=object))\n",
      "('arr_0', array([{'dm': [-0.4515771603623164], 'scattering_timescale': [0.002576647493321235], 'amplitude': array([-3.90045847]), 'arrival_time': array([0.00955944]), 'burst_width': array([0.00110157]), 'spectral_index': array([-46.09023734]), 'spectral_running': array([-165.9801683])},\n",
      "       {'dm': [0.16828797819177752], 'scattering_timescale': [0.0006679349696483842], 'amplitude': array([0.21094003]), 'arrival_time': array([0.00052739]), 'burst_width': array([0.00017368]), 'spectral_index': array([7.17730119]), 'spectral_running': array([26.21685172])}],\n",
      "      dtype=object))\n",
      "('arr_0', array([{'dm': [0.12246709106002843], 'scattering_timescale': [0.0007219449724662454], 'amplitude': array([-9.59478099, -2.75962032]), 'arrival_time': array([-0.03975139,  0.0298193 ]), 'burst_width': array([0.07929584, 0.00243752]), 'spectral_index': array([-30.19957797,  17.01351891]), 'spectral_running': array([  5.80306578, -62.38499434])},\n",
      "       {'dm': [0.08757600709697526], 'scattering_timescale': [0.0004400336931885123], 'amplitude': array([2.55640737e+05, 9.03837899e-02]), 'arrival_time': array([1.39097416e+04, 6.21191756e-04]), 'burst_width': array([8.23700344e+03, 3.36258582e-04]), 'spectral_index': array([4.26912482e+06, 2.94960583e+00]), 'spectral_running': array([8.12817626e+06, 1.05334257e+01])}],\n",
      "      dtype=object))\n",
      "('arr_0', array([{'dm': [-0.19705695054429218], 'scattering_timescale': [0.00039007150213881444], 'amplitude': array([-3.45499683]), 'arrival_time': array([0.02539428]), 'burst_width': array([0.00345638]), 'spectral_index': array([8.59032394]), 'spectral_running': array([-1.13110208])},\n",
      "       {'dm': [0.027328235419295542], 'scattering_timescale': [1.1727315585477589e-05], 'amplitude': array([0.22303416]), 'arrival_time': array([0.00027195]), 'burst_width': array([0.00015302]), 'spectral_index': array([3.63402359]), 'spectral_running': array([6.39168273])}],\n",
      "      dtype=object))\n",
      "('arr_0', array([{'dm': [1.1231852305973662], 'scattering_timescale': [0.0014963748756965092], 'amplitude': array([-2.73118037]), 'arrival_time': array([0.01024742]), 'burst_width': array([0.00205929]), 'spectral_index': array([8.06805708]), 'spectral_running': array([-40.35783551])},\n",
      "       {'dm': [0.03627692946650294], 'scattering_timescale': [0.00020647810225764607], 'amplitude': array([0.01502383]), 'arrival_time': array([0.00017481]), 'burst_width': array([0.00012877]), 'spectral_index': array([0.47455884]), 'spectral_running': array([2.30407919])}],\n",
      "      dtype=object))\n",
      "('arr_0', array([{'dm': [0.5075361715157084], 'scattering_timescale': [0.0005796594580449354], 'amplitude': array([ -2.57923612, -19.15906554]), 'arrival_time': array([0.01130547, 3.34449933]), 'burst_width': array([ 0.00287119, -0.68803271]), 'spectral_index': array([0.35001992, 2.25542766]), 'spectral_running': array([-77.89763713,   3.28090015])}],\n",
      "      dtype=object))\n",
      "('arr_0', array([{'dm': [0.06181600599359653], 'scattering_timescale': [4.326433332914455e-05], 'amplitude': array([-8.58930095]), 'arrival_time': array([0.02146264]), 'burst_width': array([0.00378451]), 'spectral_index': array([82.56277842]), 'spectral_running': array([-117.17316521])}],\n",
      "      dtype=object))\n",
      "('arr_0', array([{'dm': [0.3025657992203605], 'scattering_timescale': [0.001517902128114872], 'amplitude': array([-3.00434467]), 'arrival_time': array([0.00778149]), 'burst_width': array([0.00126857]), 'spectral_index': array([-11.31867105]), 'spectral_running': array([-56.72620836])},\n",
      "       {'dm': [0.09390149963137755], 'scattering_timescale': [0.0006317182797319466], 'amplitude': array([0.05545691]), 'arrival_time': array([0.00039419]), 'burst_width': array([0.00017676]), 'spectral_index': array([1.98023145]), 'spectral_running': array([8.7505735])}],\n",
      "      dtype=object))\n",
      "('arr_0', array([{'dm': [0.648105079114903], 'scattering_timescale': [0.0013842639433023953], 'amplitude': array([-2.91686838]), 'arrival_time': array([0.00824115]), 'burst_width': array([0.00195342]), 'spectral_index': array([21.00035777]), 'spectral_running': array([-98.11555205])},\n",
      "       {'dm': [0.04725354018283144], 'scattering_timescale': [0.0001735340262099989], 'amplitude': array([0.02577554]), 'arrival_time': array([0.00018558]), 'burst_width': array([0.00011604]), 'spectral_index': array([1.0665938]), 'spectral_running': array([4.96707285])}],\n",
      "      dtype=object))\n",
      "('arr_0', array([{'dm': [0.5361666324728226], 'scattering_timescale': [0.00018248946346320803], 'amplitude': array([-4.59685936]), 'arrival_time': array([0.01038649]), 'burst_width': array([0.00327286]), 'spectral_index': array([48.8675536]), 'spectral_running': array([-104.72021767])},\n",
      "       {'dm': [8.293524439159345e-05], 'scattering_timescale': [1.0686892170688426e-07], 'amplitude': array([0.0513815]), 'arrival_time': array([2.33651128e-06]), 'burst_width': array([7.6521952e-07]), 'spectral_index': array([1.043081]), 'spectral_running': array([2.234735])}],\n",
      "      dtype=object))\n",
      "('arr_0', array([{'dm': [-0.04948117127124947], 'scattering_timescale': [0.003834675497255292], 'amplitude': array([-3.77167861]), 'arrival_time': array([0.00886822]), 'burst_width': array([0.00034762]), 'spectral_index': array([3.02152354]), 'spectral_running': array([21.74779834])},\n",
      "       {'dm': [0.06660182538121957], 'scattering_timescale': [0.0007354067829270842], 'amplitude': array([0.14488621]), 'arrival_time': array([0.00086682]), 'burst_width': array([0.00053684]), 'spectral_index': array([1.22777077]), 'spectral_running': array([3.56959505])}],\n",
      "      dtype=object))\n",
      "('arr_0', array([{'dm': [0.16655318640750966], 'scattering_timescale': [0.0004899856618734248], 'amplitude': array([-4.20160525]), 'arrival_time': array([0.01455469]), 'burst_width': array([0.00379337]), 'spectral_index': array([25.7028381]), 'spectral_running': array([-38.94355513])},\n",
      "       {'dm': [0.028052716924747305], 'scattering_timescale': [1.4406596662564629e-05], 'amplitude': array([0.16962725]), 'arrival_time': array([0.00025031]), 'burst_width': array([0.0001252]), 'spectral_index': array([2.83859231]), 'spectral_running': array([5.03300465])}],\n",
      "      dtype=object))\n",
      "('arr_0', array([{'dm': [0.29217898288975114], 'scattering_timescale': [0.0008673662285474781], 'amplitude': array([-3.52812615]), 'arrival_time': array([0.00690288]), 'burst_width': array([0.00220418]), 'spectral_index': array([29.45083295]), 'spectral_running': array([-92.3977023])},\n",
      "       {'dm': [0.03759310085714652], 'scattering_timescale': [0.00014185110274740953], 'amplitude': array([0.04682018]), 'arrival_time': array([0.00020753]), 'burst_width': array([0.00010989]), 'spectral_index': array([1.35417783]), 'spectral_running': array([4.15189544])}],\n",
      "      dtype=object))\n",
      "('arr_0', array([{'dm': [-0.0011003589196327476], 'scattering_timescale': [0.0007605798868064094], 'amplitude': array([-4.06120423]), 'arrival_time': array([0.00776849]), 'burst_width': array([0.00179685]), 'spectral_index': array([-38.2064995]), 'spectral_running': array([-129.00159916])},\n",
      "       {'dm': [0.011164879707663077], 'scattering_timescale': [5.6073202973813214e-06], 'amplitude': array([0.18276139]), 'arrival_time': array([5.23813439e-05]), 'burst_width': array([2.37192576e-06]), 'spectral_index': array([5.88553618]), 'spectral_running': array([20.26724288])}],\n",
      "      dtype=object))\n",
      "('arr_0', array([{'dm': [0.512597651740883], 'scattering_timescale': [0.0003725127948542123], 'amplitude': array([-3.12874217]), 'arrival_time': array([0.03478408]), 'burst_width': array([0.00533769]), 'spectral_index': array([18.03984957]), 'spectral_running': array([-32.98874196])},\n",
      "       {'dm': [0.0017223346139212746], 'scattering_timescale': [1.5139127002346827e-06], 'amplitude': array([0.12325384]), 'arrival_time': array([7.46890974e-05]), 'burst_width': array([2.81016361e-06]), 'spectral_index': array([2.39477246]), 'spectral_running': array([4.83826109])}],\n",
      "      dtype=object))\n",
      "('arr_0', array([{'dm': [-0.03774941238688323], 'scattering_timescale': [0.0005636675081902035], 'amplitude': array([-3.2541888]), 'arrival_time': array([0.01846571]), 'burst_width': array([0.00260442]), 'spectral_index': array([19.47355845]), 'spectral_running': array([-49.67855094])},\n",
      "       {'dm': [0.10009004268670783], 'scattering_timescale': [4.2965273743529105e-05], 'amplitude': array([0.14804018]), 'arrival_time': array([0.00057217]), 'burst_width': array([0.00018463]), 'spectral_index': array([3.63765672]), 'spectral_running': array([9.28743288])}],\n",
      "      dtype=object))\n",
      "('arr_0', array([{'dm': [-0.11498196688336788], 'scattering_timescale': [0.0011418704956572979], 'amplitude': array([-4.68214298, -5.12415528, -3.01520946, -6.7290468 , -4.90921701,\n",
      "              -5.64734583]), 'arrival_time': array([ 0.00634115,  0.01240308,  0.01171154,  0.00824007,  0.01789221,\n",
      "              -0.39018081]), 'burst_width': array([ 0.00042241,  0.0026164 ,  0.00269188,  0.09990828,  0.00554834,\n",
      "              -0.06122277]), 'spectral_index': array([10.05313036, -2.65298439, 10.59316488,  6.55727534, -4.90127131,\n",
      "               1.60661142]), 'spectral_running': array([-16.88783802,   7.44891439, -24.08950343,   5.531196  ,\n",
      "               -3.39788588,  -4.23981629])}                                                                                                                                ],\n",
      "      dtype=object))\n",
      "('arr_0', array([{'dm': [0.31785468368658865], 'scattering_timescale': [0.0012450959224440826], 'amplitude': array([-3.83146686]), 'arrival_time': array([0.00598842]), 'burst_width': array([0.00297366]), 'spectral_index': array([26.93087696]), 'spectral_running': array([-56.36149528])},\n",
      "       {'dm': [0.0682246548384566], 'scattering_timescale': [0.0002862324603425974], 'amplitude': array([0.1169664]), 'arrival_time': array([0.00055048]), 'burst_width': array([0.00028925]), 'spectral_index': array([2.39253938]), 'spectral_running': array([5.17184261])}],\n",
      "      dtype=object))\n",
      "('arr_0', array([{'dm': [1.691080011691745], 'scattering_timescale': [0.008325477685242815], 'amplitude': array([-13.36939038]), 'arrival_time': array([0.01406578]), 'burst_width': array([0.00134181]), 'spectral_index': array([-138.60184338]), 'spectral_running': array([-194.04019833])},\n",
      "       {'dm': [0.019587238586392438], 'scattering_timescale': [0.00015168559508474568], 'amplitude': array([0.11164252]), 'arrival_time': array([0.00011753]), 'burst_width': array([1.3997728e-05]), 'spectral_index': array([1.4498795]), 'spectral_running': array([2.03310869])}],\n",
      "      dtype=object))\n"
     ]
    },
    {
     "name": "stdout",
     "output_type": "stream",
     "text": [
      "('arr_0', array([{'dm': [1.491809436620067], 'scattering_timescale': [-148.2157276177868], 'amplitude': array([-3.46366387]), 'arrival_time': array([0.0168376]), 'burst_width': array([0.00279721]), 'spectral_index': array([21.99362182]), 'spectral_running': array([-55.71322586])}],\n",
      "      dtype=object))\n",
      "('arr_0', array([{'dm': [1.486954167039672], 'scattering_timescale': [-0.0027373713648160694], 'amplitude': array([-0.42107552, -3.34592807]), 'arrival_time': array([-4.26001689,  0.01686526]), 'burst_width': array([-1.52790862e+01,  3.02253798e-03]), 'spectral_index': array([ 5.9700915 , 19.94990845]), 'spectral_running': array([-13.74972241, -50.08177504])}],\n",
      "      dtype=object))\n",
      "('arr_0', array([{'dm': [0.7993613365596052], 'scattering_timescale': [0.003127825907769791], 'amplitude': array([-8.85917923]), 'arrival_time': array([0.00556877]), 'burst_width': array([0.00374494]), 'spectral_index': array([89.34137398]), 'spectral_running': array([-121.39379244])},\n",
      "       {'dm': [0.1691295598610994], 'scattering_timescale': [0.0005120183028126698], 'amplitude': array([0.82331245]), 'arrival_time': array([0.00197951]), 'burst_width': array([0.00047109]), 'spectral_index': array([11.473042]), 'spectral_running': array([17.25088467])}],\n",
      "      dtype=object))\n",
      "('arr_0', array([{'dm': [0.44084816105456726], 'scattering_timescale': [0.0005621622549867206], 'amplitude': array([-5.42651989]), 'arrival_time': array([0.00538533]), 'burst_width': array([0.00257368]), 'spectral_index': array([73.93788799]), 'spectral_running': array([-179.46302326])},\n",
      "       {'dm': [0.02021380463330104], 'scattering_timescale': [7.156224516796658e-05], 'amplitude': array([0.055849]), 'arrival_time': array([0.00012905]), 'burst_width': array([5.82574111e-05]), 'spectral_index': array([1.27737301]), 'spectral_running': array([3.09011398])}],\n",
      "      dtype=object))\n",
      "('arr_0', array([{'dm': [0.24146975496586234], 'scattering_timescale': [-0.2639110272225055], 'amplitude': array([-7.41854809]), 'arrival_time': array([0.01414337]), 'burst_width': array([0.00342363]), 'spectral_index': array([84.77176511]), 'spectral_running': array([-153.27340538])}],\n",
      "      dtype=object))\n",
      "('arr_0', array([{'dm': [0.600576733822456], 'scattering_timescale': [0.0008533938721220296], 'amplitude': array([-6.19387355]), 'arrival_time': array([0.01851178]), 'burst_width': array([0.00344958]), 'spectral_index': array([67.84484611]), 'spectral_running': array([-119.93135925])},\n",
      "       {'dm': [0.12981297398334637], 'scattering_timescale': [0.00034616928404160286], 'amplitude': array([0.46885694]), 'arrival_time': array([0.00116803]), 'burst_width': array([0.00043942]), 'spectral_index': array([7.83368553]), 'spectral_running': array([14.04117533])}],\n",
      "      dtype=object))\n",
      "('arr_0', array([{'dm': [0.026537818676190452], 'scattering_timescale': [-0.0005095130669564976], 'amplitude': array([-7.98358739]), 'arrival_time': array([0.02329415]), 'burst_width': array([0.00427093]), 'spectral_index': array([81.75131861]), 'spectral_running': array([-126.21928836])}],\n",
      "      dtype=object))\n",
      "('arr_0', array([{'dm': [-0.19408095546805992], 'scattering_timescale': [0.0004653731082245133], 'amplitude': array([-5.47817427]), 'arrival_time': array([0.03273619]), 'burst_width': array([0.00357404]), 'spectral_index': array([57.11206039]), 'spectral_running': array([-103.32035836])},\n",
      "       {'dm': [0.13054885403215302], 'scattering_timescale': [0.00037365591395390103], 'amplitude': array([0.53167974]), 'arrival_time': array([0.00120313]), 'burst_width': array([0.00043997]), 'spectral_index': array([9.050406]), 'spectral_running': array([16.5243312])}],\n",
      "      dtype=object))\n",
      "('arr_0', array([{'dm': [0.15381157126084882], 'scattering_timescale': [0.0007929323712307244], 'amplitude': array([-3.72817304]), 'arrival_time': array([0.00428923]), 'burst_width': array([0.00259106]), 'spectral_index': array([29.12287135]), 'spectral_running': array([-82.40133787])},\n",
      "       {'dm': [0.05456165646302577], 'scattering_timescale': [0.0002598696362681678], 'amplitude': array([0.06640696]), 'arrival_time': array([0.00035489]), 'burst_width': array([0.00019311]), 'spectral_index': array([1.75263265]), 'spectral_running': array([4.92863655])}],\n",
      "      dtype=object))\n",
      "('arr_0', array([{'dm': [-0.27299884254521284], 'scattering_timescale': [0.00026896389848309174], 'amplitude': array([-4.85350807, -6.19517514]), 'arrival_time': array([0.01795274, 1.26204824]), 'burst_width': array([0.00388582, 1.51784329]), 'spectral_index': array([36.31884205, -6.16617471]), 'spectral_running': array([-55.25687117,  -2.54333444])},\n",
      "       {'dm': [0.000527234681451884], 'scattering_timescale': [1.045010621352378e-06], 'amplitude': array([2.07226895e-01, 1.15827219e+05]), 'arrival_time': array([1.51051876e-05, 5.05730256e+05]), 'burst_width': array([3.62604583e-06, 5.91038370e+05]), 'spectral_index': array([3.22130536e+00, 2.67055668e+05]), 'spectral_running': array([5.36763422e+00, 7.94062182e+05])}],\n",
      "      dtype=object))\n",
      "('arr_0', array([{'dm': [0.6933500509441943], 'scattering_timescale': [-77.69284315189516], 'amplitude': array([-5.88237053]), 'arrival_time': array([0.0026067]), 'burst_width': array([0.00387722]), 'spectral_index': array([48.50388388]), 'spectral_running': array([-72.69132662])}],\n",
      "      dtype=object))\n",
      "('arr_0', array([{'dm': [-0.024078767513960264], 'scattering_timescale': [0.00072064141160564], 'amplitude': array([-3.3152755 , -2.81012734]), 'arrival_time': array([0.04371202, 0.06296724]), 'burst_width': array([0.00221983, 0.00221612]), 'spectral_index': array([-17.4217577 ,  13.97882771]), 'spectral_running': array([-55.57157446, -74.21810833])},\n",
      "       {'dm': [0.0010732825915763212], 'scattering_timescale': [7.150692255148446e-06], 'amplitude': array([0.14508393, 0.05513063]), 'arrival_time': array([9.29999481e-05, 1.89666089e-04]), 'burst_width': array([1.56515860e-05, 2.02539971e-04]), 'spectral_index': array([4.44278055, 2.31549051]), 'spectral_running': array([14.02755535, 11.88553856])}],\n",
      "      dtype=object))\n"
     ]
    }
   ],
   "source": [
    "centers = []\n",
    "peaks = []\n",
    "uppers = []\n",
    "lowers = []\n",
    "bws = []\n",
    "for result_file in result_files:\n",
    "    #print(result_file)\n",
    "    if len(result_file) > 0:\n",
    "        data_result = np.load(result_file[0], allow_pickle = True)\n",
    "        try:\n",
    "            model = data_result['arr_0'][2] ##load the fitburst model\n",
    "        except:\n",
    "            model = data_result['arr_0'][1]\n",
    "        y = np.sum(model, axis=1)\n",
    "        y_lim = np.max(y)/10\n",
    "        freq = np.linspace(400,800,1024)\n",
    "        low = np.min(np.where(y>y_lim))\n",
    "        #print(freq[low])\n",
    "        lowers.append(freq[low])\n",
    "        high = np.max(np.where(y>y_lim))\n",
    "        #print(freq[high])\n",
    "        uppers.append(freq[high])\n",
    "        center = (freq[low] + freq[high])/2\n",
    "        centers.append(center)\n",
    "        bw = freq[high]-freq[low]\n",
    "        #print(center, bw)\n",
    "        bws.append(bw)\n",
    "        peak = np.argmax(y)\n",
    "        #print(freq[peak])\n",
    "        peaks.append(freq[peak])\n",
    "        \n",
    "        \n",
    "#         plt.imshow(model, origin='lower')\n",
    "#         plt.show()\n",
    "        \n",
    "#         plt.plot(freq,y)\n",
    "#         plt.axvline(freq[low], color = 'r')\n",
    "#         plt.axvline(freq[high], color = 'b')\n",
    "#         plt.axvline(freq[peak], color = 'g')\n",
    "#         plt.axvline(center, color = 'k')\n",
    "#         plt.show()\n",
    "#         gc.collect()\n",
    "print(peaks, \"\\n\")\n",
    "print(bws, \"\\n\")\n",
    "print(uppers, \"\\n\")\n",
    "print(lowers, \"\\n\")\n",
    "print(centers)"
   ]
  },
  {
   "cell_type": "code",
   "execution_count": 10,
   "id": "07e4a8c4",
   "metadata": {},
   "outputs": [
    {
     "data": {
      "text/plain": [
       "13719"
      ]
     },
     "execution_count": 10,
     "metadata": {},
     "output_type": "execute_result"
    }
   ],
   "source": []
  },
  {
   "cell_type": "code",
   "execution_count": 56,
   "id": "e6429c0b",
   "metadata": {},
   "outputs": [
    {
     "data": {
      "image/png": "[encoded data removed]",
      "text/plain": [
       "<Figure size 432x288 with 1 Axes>"
      ]
     },
     "metadata": {
      "needs_background": "light"
     },
     "output_type": "display_data"
    },
    {
     "name": "stdout",
     "output_type": "stream",
     "text": [
      "[400.         400.39100684 400.78201369 ... 799.21798631 799.60899316\n",
      " 800.        ]\n",
      "412.9032258064516\n",
      "0\n",
      "136\n",
      "426.58846529814275 53.176930596285445\n"
     ]
    },
    {
     "data": {
      "image/png": "[encoded data removed]",
      "text/plain": [
       "<Figure size 432x288 with 1 Axes>"
      ]
     },
     "metadata": {
      "needs_background": "light"
     },
     "output_type": "display_data"
    }
   ],
   "source": [
    "file = '/data/user-data/ksand/R3/fitburst_run_spectrum/195132396/Trial1_20220626/result_onlyfit)R3_195132396_DM_348.94_dsamp_64.npz'\n",
    "data_result = np.load(file, allow_pickle = True)\n",
    "model = data_result['arr_0'][1]\n",
    "plt.imshow(model, origin='lower')\n",
    "plt.show()\n",
    "x = np.arange(0,model.shape[0])\n",
    "y = np.sum(model, axis=1)\n",
    "freq = np.linspace(400,800,1024)\n",
    "print(freq)\n",
    "\n",
    "peak = np.argmax(y)\n",
    "print(freq[peak])\n",
    "low = np.min(np.where(y>1)) ## The threshold can change\n",
    "print(low)\n",
    "high = np.max(np.where(y>1))\n",
    "print(high)\n",
    "center = (freq[low] + freq[high])/2\n",
    "bw = freq[high]-freq[low]\n",
    "\n",
    "print(center, bw)\n",
    "\n",
    "plt.plot(freq,y)\n",
    "plt.axvline(freq[low], color = 'r')\n",
    "plt.axvline(freq[high], color = 'b')\n",
    "plt.axvline(freq[peak], color = 'g')\n",
    "plt.axvline(center, color = 'k')\n",
    "plt.show()"
   ]
  },
  {
   "cell_type": "code",
   "execution_count": 52,
   "id": "b0b9710f",
   "metadata": {},
   "outputs": [
    {
     "name": "stdout",
     "output_type": "stream",
     "text": [
      "474.68230694037146\n",
      "0\n",
      "463\n",
      "490.51808406647115 181.0361681329423\n"
     ]
    }
   ],
   "source": [
    "peak = np.argmax(y)\n",
    "print(freq[peak])\n",
    "low = np.min(np.where(y>1))\n",
    "print(low)\n",
    "high = np.max(np.where(y>1))\n",
    "print(high)\n",
    "center = (freq[low] + freq[high])/2\n",
    "bw = freq[high]-freq[low]\n",
    "\n",
    "print(center, bw)"
   ]
  },
  {
   "cell_type": "code",
   "execution_count": null,
   "id": "8fbfe93f",
   "metadata": {},
   "outputs": [],
   "source": []
  }
 ],
 "metadata": {
  "kernelspec": {
   "display_name": "Python 3 (ipykernel)",
   "language": "python",
   "name": "python3"
  },
  "language_info": {
   "codemirror_mode": {
    "name": "ipython",
    "version": 3
   },
   "file_extension": ".py",
   "mimetype": "text/x-python",
   "name": "python",
   "nbconvert_exporter": "python",
   "pygments_lexer": "ipython3",
   "version": "3.7.9"
  }
 },
 "nbformat": 4,
 "nbformat_minor": 5
}
