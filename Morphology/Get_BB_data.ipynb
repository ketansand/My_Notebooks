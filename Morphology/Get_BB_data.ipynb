{
 "cells": [
  {
   "cell_type": "code",
   "execution_count": 1,
   "id": "9b1d7698",
   "metadata": {},
   "outputs": [
    {
     "name": "stderr",
     "output_type": "stream",
     "text": [
      "--------------------------------------------------------------------------\n",
      "[[19961,1],0]: A high-performance Open MPI point-to-point messaging module\n",
      "was unable to find any relevant network interfaces:\n",
      "\n",
      "Module: OpenFabrics (openib)\n",
      "  Host: 1bae6bb3b670\n",
      "\n",
      "Another transport will be used instead, although this may result in\n",
      "lower performance.\n",
      "\n",
      "NOTE: You can disable this warning by setting the MCA parameter\n",
      "btl_base_warn_component_unused to 0.\n",
      "--------------------------------------------------------------------------\n"
     ]
    },
    {
     "data": {
      "text/plain": [
       "19"
      ]
     },
     "execution_count": 1,
     "metadata": {},
     "output_type": "execute_result"
    }
   ],
   "source": [
    "import os\n",
    "import numpy as np\n",
    "import glob\n",
    "import json\n",
    "import matplotlib.pyplot as plt\n",
    "import gc\n",
    "import pandas as pd\n",
    "from baseband_analysis.analysis.toa import get_TOA\n",
    "from baseband_analysis.core import BBData\n",
    "from chime_frb_api import frb_master\n",
    "import datetime as dt\n",
    "from astropy.time import Time\n",
    "gc.collect()"
   ]
  },
  {
   "cell_type": "code",
   "execution_count": 2,
   "id": "6a0b9c41",
   "metadata": {},
   "outputs": [
    {
     "name": "stdout",
     "output_type": "stream",
     "text": [
      "[ 23789294  23891929  40363753  40750224  40750656  60073678  65395717\n",
      "  65511496  67522832  67522901  69509443  71665813  71784400  71784833\n",
      "  71785167  73726599  83984528  84081108  92773515  92844954 135577833\n",
      " 151677988 153859596 154910364 154913824 155079679 163181014 163362088\n",
      " 163534005 166812476 171681248 171855709 175004577 175929272 176060009\n",
      " 180666196 180667327 188553320 194488374 194488393 194488454 195132396\n",
      " 200973875 203798724 203935225]\n"
     ]
    }
   ],
   "source": [
    "basepath = '/data/user-data/ksand/R3/fitburst_run_final/'\n",
    "entries = os.listdir(basepath)\n",
    "entries.remove('.ipynb_checkpoints')\n",
    "entries = np.array(entries).astype(int)\n",
    "entries = np.sort(entries)\n",
    "print(entries)"
   ]
  },
  {
   "cell_type": "code",
   "execution_count": 3,
   "id": "4245b0fe",
   "metadata": {},
   "outputs": [],
   "source": [
    "basepath = '/data/user-data/ksand/R3/fitburst_run_final/'\n",
    "event_ids = []\n",
    "pm_files = []\n",
    "result_files = []\n",
    "input_files = []\n",
    "summary = []\n",
    "for event in entries:\n",
    "    if (event != '.ipynb_checkpoints'): \n",
    "        path_to_event = os.path.join(basepath, str(event))\n",
    "        trials = np.array(os.listdir(path_to_event))\n",
    "#         print(event, len(trials))\n",
    "        count = 0\n",
    "\n",
    "\n",
    "        for trial in trials:\n",
    "            if (trial != '.ipynb_checkpoints'):\n",
    "                path_to_file = os.path.join(path_to_event, trial)\n",
    "                #print(event, path_to_file, \"\\n\")\n",
    "                #print(path_to_file)\n",
    "                event_ids.append(int(event))\n",
    "                np.array(pm_files.append(glob.glob(path_to_file + '/pm*.npz')))\n",
    "                #print(pm_files)\n",
    "                np.array(result_files.append(glob.glob(path_to_file + '/result*.npz')))\n",
    "                np.array(input_files.append(glob.glob(path_to_file + '/R3*.npz')))\n",
    "                np.array(summary.append(glob.glob(path_to_file + '/summary*.png')))\n",
    "                count = count + 1"
   ]
  },
  {
   "cell_type": "code",
   "execution_count": 4,
   "id": "3ac09ea5",
   "metadata": {},
   "outputs": [],
   "source": [
    "DMs = []\n",
    "downsamps = []\n",
    "for pm_file in pm_files:\n",
    "    if len(pm_file) > 0:\n",
    "        data_pm = np.load(pm_file[0], allow_pickle = True)\n",
    "        dm = data_pm['arr_0'].item(0)['DM']\n",
    "        ds = data_pm['arr_0'].item(0)['ds']\n",
    "        DMs.append(float(dm))\n",
    "        downsamps.append(int(ds))\n",
    "print(downsamps)"
   ]
  },
  {
   "cell_type": "code",
   "execution_count": 12,
   "id": "e4f57062",
   "metadata": {},
   "outputs": [],
   "source": [
    "scatterings = []\n",
    "widths = []\n",
    "sc_error = []\n",
    "width_err = []\n",
    "dm_offset = []\n",
    "dm_offset_err = []\n",
    "event_id_neg = []\n",
    "for result_file in result_files:\n",
    "    #print(result_file)\n",
    "    if len(result_file) > 0:\n",
    "        data_result = np.load(result_file[0], allow_pickle = True)\n",
    "        scatterings.append(float(data_result['arr_0'][0]['scattering_timescale'][0]))\n",
    "        if (data_result['arr_0'][0]['scattering_timescale'][0]) < 0:\n",
    "            print(result_file[0])\n",
    "        widths.append(data_result['arr_0'][0]['burst_width'][:].astype(float))\n",
    "#         print(data_result['arr_0'][0]['burst_width'][:].astype(float))\n",
    "        dm_offset.append(float(data_result['arr_0'][0]['dm'][0]))\n",
    "        try:\n",
    "            width_err.append(data_result['arr_0'][1]['burst_width'][:].astype(float))\n",
    "            sc_error.append(float(data_result['arr_0'][1]['scattering_timescale'][0]))\n",
    "            dm_offset_err.append(float(data_result['arr_0'][1]['dm'][0]))\n",
    "        except:\n",
    "            width_err.append(float('0'))\n",
    "            sc_error.append(float('0'))\n",
    "            dm_offset_err.append(float('0'))\n",
    "        #width = data_result['arr_0'][0]['burst_width']\n",
    "# for i in range(len(downsamps)):\n",
    "#     print(downsamps[i]*2.56e-6, widths[i], width_err[i])\n",
    "#print(scatterings, \"\\n\")\n",
    "#print(widths, \"\\n\")\n",
    "# print(dm_offset,\"\\n\")\n",
    "# print(width_err,\"\\n\")\n",
    "# print(sc_error,\"\\n\")\n",
    "# print(dm_offset_err)"
   ]
  },
  {
   "cell_type": "code",
   "execution_count": 15,
   "id": "02b56537",
   "metadata": {},
   "outputs": [],
   "source": [
    "centers = []\n",
    "peaks = []\n",
    "uppers = []\n",
    "lowers = []\n",
    "bws = []\n",
    "for result_file in result_files:\n",
    "    #print(result_file)\n",
    "    if len(result_file) > 0:\n",
    "        data_result = np.load(result_file[0], allow_pickle = True)\n",
    "        try:\n",
    "            model = data_result['arr_0'][2] ##load the fitburst model\n",
    "        except:\n",
    "            model = data_result['arr_0'][1]\n",
    "        y = np.sum(model, axis=1)\n",
    "        y_lim = np.max(y)/10\n",
    "        freq = np.linspace(400,800,1024)\n",
    "        low = np.min(np.where(y>y_lim))\n",
    "        lowers.append(float(freq[low]))\n",
    "        high = np.max(np.where(y>y_lim))\n",
    "        uppers.append(float(freq[high]))\n",
    "        center = (freq[low] + freq[high])/2\n",
    "        centers.append(float(center))\n",
    "        bw = freq[high]-freq[low]\n",
    "        #print(center, bw)\n",
    "        bws.append(float(bw))\n",
    "        peak = np.argmax(y)\n",
    "        #print(freq[peak])\n",
    "        peaks.append(float(freq[peak]))"
   ]
  },
  {
   "cell_type": "code",
   "execution_count": 17,
   "id": "a9cfdb41",
   "metadata": {},
   "outputs": [],
   "source": [
    "R3_df_pol = pd.DataFrame(list(zip(event_ids, DMs, downsamps, scatterings, widths, width_err, \n",
    "                                 sc_error, dm_offset, dm_offset_err, peaks, bws, centers))\n",
    "                     ,columns =['Event_id', 'DM_struc', 'Downsample', 'Scattering(s)', 'Widths(s)', \n",
    "                               'Width_err(s)','Sc_err(s)','dm_offset','dm_offset_err','Peak_freq','Bandwidth','Center_Freq'])\n"
   ]
  },
  {
   "cell_type": "code",
   "execution_count": 19,
   "id": "7a1753df",
   "metadata": {},
   "outputs": [],
   "source": [
    "R3_df_pol.to_csv('R3_bb_pub.csv')"
   ]
  },
  {
   "cell_type": "code",
   "execution_count": null,
   "id": "f51ccf13",
   "metadata": {},
   "outputs": [],
   "source": []
  }
 ],
 "metadata": {
  "kernelspec": {
   "display_name": "Python 3 (ipykernel)",
   "language": "python",
   "name": "python3"
  },
  "language_info": {
   "codemirror_mode": {
    "name": "ipython",
    "version": 3
   },
   "file_extension": ".py",
   "mimetype": "text/x-python",
   "name": "python",
   "nbconvert_exporter": "python",
   "pygments_lexer": "ipython3",
   "version": "3.7.9"
  }
 },
 "nbformat": 4,
 "nbformat_minor": 5
}
