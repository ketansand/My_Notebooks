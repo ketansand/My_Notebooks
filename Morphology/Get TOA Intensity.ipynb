{
 "cells": [
  {
   "cell_type": "code",
   "execution_count": 29,
   "id": "a98f62aa",
   "metadata": {},
   "outputs": [],
   "source": [
    "import numpy as np\n",
    "import pandas as pd\n",
    "from datetime import datetime, timedelta\n",
    "from astropy.time import Time\n",
    "from chime_frb_api import frb_master\n",
    "import gc"
   ]
  },
  {
   "cell_type": "code",
   "execution_count": 33,
   "id": "08a0452a",
   "metadata": {},
   "outputs": [],
   "source": [
    "def get_UTC_timestamp(event_id):\n",
    "    frb_master_base_url = \"http://frb-vsop.chime:8001\"\n",
    "    master = frb_master.FRBMaster(base_url = frb_master_base_url)\n",
    "    print(event_id)\n",
    "\n",
    "    event = master.events.get_event(event_number=int(event_id))\n",
    "    \n",
    "    burst_time_str = event['measured_parameters'][0]['datetime'][0:19]\n",
    "    burst_time = datetime.strptime(burst_time_str, \"%Y-%m-%d %H:%M:%S\")\n",
    "\n",
    "    year = burst_time.strftime(\"%Y\")\n",
    "    month = burst_time.strftime(\"%m\")\n",
    "    day = burst_time.strftime(\"%d\")\n",
    "\n",
    "    file = '/data/chime/intensity/processed/{}/{}/{}/astro_{}'.format(year, month, day, event_id)\n",
    "    gc.collect()\n",
    "    print(\"File stored in\", file)\n",
    "    round2 = False\n",
    "    round3 = False\n",
    "    complete = False\n",
    "    if \"locked\" in event:\n",
    "        if \"intensity-fitburst\" in event[\"locked\"]:\n",
    "            locked_id = event[\"locked\"][\"intensity-fitburst\"]\n",
    "            for mp in event[\"measured_parameters\"]:\n",
    "                if mp[\"pipeline\"][\"name\"] == \"intensity-fitburst\":\n",
    "                    if (mp[\"measurement_id\"] == locked_id) \\\n",
    "                        and not (mp[\"pipeline\"][\"status\"] == \"ERROR\"):\n",
    "                        if mp[\"pipeline\"][\"logs\"] == \"Round 2 - \":\n",
    "                            round2_results = mp\n",
    "                            round2 = True\n",
    "                            UTC_2 = round2_results[\"sub_burst_timestamp_UTC\"]\n",
    "                        if mp[\"pipeline\"][\"logs\"] == \"Round 3 - \":\n",
    "                            round3_results = mp\n",
    "                            round3 = True\n",
    "                            UTC_3 = round3_results[\"sub_burst_timestamp_UTC\"]\n",
    "    else:\n",
    "        print(\"No locked data for the event\")\n",
    "        \n",
    "    \n",
    "    return UTC_2, UTC_3, round2_results, round3_results"
   ]
  },
  {
   "cell_type": "code",
   "execution_count": 52,
   "id": "eee6e90a",
   "metadata": {},
   "outputs": [
    {
     "name": "stdout",
     "output_type": "stream",
     "text": [
      "[139459007 144520399 154779432 157779605 162981697 163181404 165238765\n",
      " 175084048 175930797 176156139 188760049 188760957 198142107]\n"
     ]
    }
   ],
   "source": [
    "R3_e_fon = [157779605, 162981697, 163181404, 165238765, 175084048, 175930797]\n",
    "R3_e_fon = np.array(R3_e_fon)\n",
    "\n",
    "R3_int_pub = [139459007, 144520399, 154779432, 163181404, 176156139, 188760049, 188760957, 198142107]\n",
    "R3_int_pub = np.array(R3_int_pub)\n",
    "\n",
    "R3_all_int = [139459007, 144520399, 154779432, 163181404, 176156139, 188760049, 188760957, 198142107, 157779605, 162981697, 165238765, 175084048, 175930797]\n",
    "R3_all_int = np.sort(np.array(R3_all_int))\n",
    "print(R3_all_int)\n",
    "\n",
    "R2_events = [139459007, 154779432, 176156139, 188760049, 188760957, 198142107]\n",
    "R2_events = np.array(R2_events)\n",
    "R3_events=[144520399, 157779605, 162981697, 165238765, 175084048, 175930797]\n",
    "R3_events = np.array(R3_events)\n"
   ]
  },
  {
   "cell_type": "code",
   "execution_count": 50,
   "id": "99651b91",
   "metadata": {},
   "outputs": [
    {
     "name": "stderr",
     "output_type": "stream",
     "text": [
      "[2023-01-08 04:42:03,425] INFO Authorization Status: None\n",
      "[2023-01-08 04:42:03,426] INFO Authorization Method: Tokens\n"
     ]
    },
    {
     "name": "stdout",
     "output_type": "stream",
     "text": [
      "157779605\n"
     ]
    },
    {
     "name": "stderr",
     "output_type": "stream",
     "text": [
      "[2023-01-08 04:42:03,629] INFO Authorization Token : Expired\n",
      "[2023-01-08 04:42:03,630] INFO Reauthorize Method: Tokens\n",
      "[2023-01-08 04:42:04,044] WARNING It is required that you pass in a value for the \"algorithms\" argument when calling decode().\n",
      "[2023-01-08 04:42:04,045] INFO Reauthorize Result: Passed\n",
      "[2023-01-08 04:42:04,410] INFO Authorization Status: None\n",
      "[2023-01-08 04:42:04,410] INFO Authorization Method: Tokens\n",
      "[2023-01-08 04:42:04,598] INFO Authorization Token : Expired\n",
      "[2023-01-08 04:42:04,599] INFO Reauthorize Method: Tokens\n"
     ]
    },
    {
     "name": "stdout",
     "output_type": "stream",
     "text": [
      "File stored in /data/chime/intensity/processed/2021/02/14/astro_157779605\n",
      "162981697\n"
     ]
    },
    {
     "name": "stderr",
     "output_type": "stream",
     "text": [
      "[2023-01-08 04:42:04,903] WARNING It is required that you pass in a value for the \"algorithms\" argument when calling decode().\n",
      "[2023-01-08 04:42:04,904] INFO Reauthorize Result: Passed\n",
      "[2023-01-08 04:42:05,152] INFO Authorization Status: None\n",
      "[2023-01-08 04:42:05,153] INFO Authorization Method: Tokens\n",
      "[2023-01-08 04:42:05,254] INFO Authorization Token : Expired\n",
      "[2023-01-08 04:42:05,255] INFO Reauthorize Method: Tokens\n"
     ]
    },
    {
     "name": "stdout",
     "output_type": "stream",
     "text": [
      "File stored in /data/chime/intensity/processed/2021/03/01/astro_162981697\n",
      "163181404\n"
     ]
    },
    {
     "name": "stderr",
     "output_type": "stream",
     "text": [
      "[2023-01-08 04:42:05,415] WARNING It is required that you pass in a value for the \"algorithms\" argument when calling decode().\n",
      "[2023-01-08 04:42:05,415] INFO Reauthorize Result: Passed\n",
      "[2023-01-08 04:42:05,593] INFO Authorization Status: None\n",
      "[2023-01-08 04:42:05,594] INFO Authorization Method: Tokens\n",
      "[2023-01-08 04:42:05,625] INFO Authorization Token : Expired\n",
      "[2023-01-08 04:42:05,626] INFO Reauthorize Method: Tokens\n",
      "[2023-01-08 04:42:05,679] WARNING It is required that you pass in a value for the \"algorithms\" argument when calling decode().\n",
      "[2023-01-08 04:42:05,680] INFO Reauthorize Result: Passed\n"
     ]
    },
    {
     "name": "stdout",
     "output_type": "stream",
     "text": [
      "File stored in /data/chime/intensity/processed/2021/03/02/astro_163181404\n",
      "165238765\n"
     ]
    },
    {
     "name": "stderr",
     "output_type": "stream",
     "text": [
      "[2023-01-08 04:42:05,812] INFO Authorization Status: None\n",
      "[2023-01-08 04:42:05,812] INFO Authorization Method: Tokens\n"
     ]
    },
    {
     "name": "stdout",
     "output_type": "stream",
     "text": [
      "File stored in /data/chime/intensity/processed/2021/03/20/astro_165238765\n",
      "175084048\n"
     ]
    },
    {
     "name": "stderr",
     "output_type": "stream",
     "text": [
      "[2023-01-08 04:42:06,136] INFO Authorization Token : Expired\n",
      "[2023-01-08 04:42:06,137] INFO Reauthorize Method: Tokens\n",
      "[2023-01-08 04:42:06,775] WARNING It is required that you pass in a value for the \"algorithms\" argument when calling decode().\n",
      "[2023-01-08 04:42:06,776] INFO Reauthorize Result: Passed\n",
      "[2023-01-08 04:42:07,209] INFO Authorization Status: None\n",
      "[2023-01-08 04:42:07,210] INFO Authorization Method: Tokens\n"
     ]
    },
    {
     "name": "stdout",
     "output_type": "stream",
     "text": [
      "File stored in /data/chime/intensity/processed/2021/06/26/astro_175084048\n",
      "175930797\n"
     ]
    },
    {
     "name": "stderr",
     "output_type": "stream",
     "text": [
      "[2023-01-08 04:42:07,597] INFO Authorization Token : Expired\n",
      "[2023-01-08 04:42:07,599] INFO Reauthorize Method: Tokens\n",
      "[2023-01-08 04:42:08,299] WARNING It is required that you pass in a value for the \"algorithms\" argument when calling decode().\n",
      "[2023-01-08 04:42:08,300] INFO Reauthorize Result: Passed\n"
     ]
    },
    {
     "name": "stdout",
     "output_type": "stream",
     "text": [
      "File stored in /data/chime/intensity/processed/2021/07/11/astro_175930797\n"
     ]
    }
   ],
   "source": [
    "tstamp_utc = []\n",
    "for i in range(len(R3_e_fon)):\n",
    "    utc2, utc3, r2, r3 = get_UTC_timestamp(R3_e_fon[i])\n",
    "    tstamp_utc.append(utc3)\n",
    "    "
   ]
  },
  {
   "cell_type": "code",
   "execution_count": 51,
   "id": "ef75896d",
   "metadata": {},
   "outputs": [
    {
     "name": "stdout",
     "output_type": "stream",
     "text": [
      "[['2021-02-14 00:12:42.949611'], ['2021-03-01 23:21:50.418838'], ['2021-03-02 23:28:27.391257'], ['2021-03-20 21:41:56.454417'], ['2021-06-26 15:52:16.182347'], ['2021-07-11 14:32:49.256215']]\n",
      "[['2021-02-14 00:12:42.949611']\n",
      " ['2021-03-01 23:21:50.418838']\n",
      " ['2021-03-02 23:28:27.391257']\n",
      " ['2021-03-20 21:41:56.454417']\n",
      " ['2021-06-26 15:52:16.182347']\n",
      " ['2021-07-11 14:32:49.256215']]\n"
     ]
    }
   ],
   "source": [
    "print(tstamp_utc)\n",
    "tstamp_utc = np.array(tstamp_utc)\n",
    "print(tstamp_utc)"
   ]
  },
  {
   "cell_type": "code",
   "execution_count": 33,
   "id": "d8f13b57",
   "metadata": {},
   "outputs": [
    {
     "name": "stderr",
     "output_type": "stream",
     "text": [
      "[2022-12-18 12:29:26,028] INFO Authorization Status: None\n",
      "[2022-12-18 12:29:26,028] INFO Authorization Method: Tokens\n",
      "[2022-12-18 12:29:26,075] INFO Authorization Token : Expired\n",
      "[2022-12-18 12:29:26,076] INFO Reauthorize Method: Tokens\n",
      "[2022-12-18 12:29:26,160] WARNING It is required that you pass in a value for the \"algorithms\" argument when calling decode().\n",
      "[2022-12-18 12:29:26,160] INFO Reauthorize Result: Passed\n"
     ]
    },
    {
     "name": "stdout",
     "output_type": "stream",
     "text": [
      "157779605\n",
      "{'beam_numbers': [2169, 2169], 'event_type': 'KNOWN-FRB', 'fpga_time': 40839054335, 'id': 157779605, 'locked': {'header-localization': '2021-03-20T10:37:54.866000', 'intensity-dm-pipeline': 1616236743.325}, 'measured_parameters': [{'beam_number': 2169, 'datetime': '2021-02-14 00:12:42.979097', 'dec': 65.71693371859847, 'dec_error': 0.5714627078082191, 'dm': 350.5924987792969, 'dm_error': 0.40437427163124, 'flux': 1115.7165881299748, 'flux_error': 39206.29600656679, 'galactic_dm': {'dm': 104.31504821777344, 'dm_model': 'NE2001'}, 'measurement_id': 1613261606.441, 'pipeline': {'logs': 'event added manually in frb-master from l4', 'name': 'realtime', 'status': 'completed'}, 'ra': 26.387606853839596, 'ra_error': 1.218938041344481, 'snr': 10.615053176879883, 'spectral_index': 0, 'spectral_index_error': 4, 'width': 0.491519982460886}, {'beam_number': 2169, 'datetime': '2021-02-14 00:12:42.939778', 'dec': 65.7167819412612, 'dec_error': 0.5618971109709561, 'dm': 346.953125, 'dm_error': 0.808748543262481, 'flux': 820.450052521734, 'flux_error': 26445.557486662372, 'galactic_dm': {'dm': 104.31504821777344, 'dm_model': 'NE2001'}, 'measurement_id': 1613261606.441, 'pipeline': {'logs': 'event added manually in frb-master from l4', 'name': 'realtime', 'status': 'completed'}, 'ra': 26.386651028565062, 'ra_error': 1.203567133403611, 'snr': 11.036927223205566, 'spectral_index': 0, 'spectral_index_error': 4, 'width': 0.983039964921772}, {'dec': 65.71829278601568, 'dec_error': 0.24753960135114902, 'measurement_id': '2021-03-20T08:41:37.102000', 'pipeline': {'name': 'header-localization', 'status': 'SUCCESS'}, 'ra': 26.388985956348527, 'ra_error': 0.22533699551934402}, {'beam_number': 2169, 'datetime': '2021-02-14 00:12:42.937813 UTC+00:00', 'dm_snr': 347.96158388671114, 'dm_snr_error': 0.5447118983595131, 'measurement_id': 1616229775.558, 'pipeline': {'logs': '', 'name': 'intensity-dm-pipeline', 'status': 'SUCCESS'}, 'pulse_end_bins': [8240], 'pulse_start_bins': [8236], 'snr': 6.7865185148554215, 'width': 0.0019660800000000003}, {'dec': 65.71838546546962, 'dec_error': 0.24734669329625003, 'measurement_id': '2021-03-20T10:37:54.866000', 'pipeline': {'name': 'header-localization', 'status': 'SUCCESS'}, 'ra': 26.388836835400138, 'ra_error': 0.22522040342239502}, {'beam_number': 2169, 'datetime': '2021-02-14 00:12:42.937813 UTC+00:00', 'dm_snr': 347.9566808486674, 'dm_snr_error': 0.556402053706757, 'measurement_id': 1616236743.325, 'pipeline': {'logs': '', 'name': 'intensity-dm-pipeline', 'status': 'SUCCESS'}, 'pulse_end_bins': [8240], 'pulse_start_bins': [8236], 'snr': 6.7865185148554215, 'width': 0.0019660800000000003}, {'chi2_list': [407.656480828388, 416.5063469406433, 420.7076431873089], 'dec_list': [66.3676454485909, 65.58554439769753, 65.69065565036162], 'dec_list_error': [0.06825635174950401, 0.736061739136538, 0.570234304509142], 'dof': 571, 'measurement_id': 1622362881.861, 'nchain_end': 1500, 'nchain_start': 5000, 'nwalkers_end': 64, 'nwalkers_start': 64, 'pipeline': {'logs': 'Version: frbps-v3. Successfully completed.', 'name': 'intensity-localization', 'status': 'SUCCESS'}, 'ra_list': [30.48148295573884, 20.48750846662083, 35.88422753404221], 'ra_list_error': [0.679148245945958, 2.586378790336053, 3.498088869099858], 'x_list': [-1.211643239223789, 2.8754901420085712, -3.458489842219563], 'x_list_error': [0.27224773464671803, 1.069038757013189, 1.440033735694532], 'y_list': [17.176723510115792, 16.50891812272876, 16.674745557356154], 'y_list_error': [0.06825635174950401, 0.736061739136538, 0.570234304509142]}, {'fitburst_reference_frequency': 400.1953125, 'fitburst_reference_frequency_scattering': 600.0, 'fixed': {'dm': True}, 'ftest_statistic': 1.0, 'is_bandpass_calibrated': False, 'sub_burst_timestamp_UTC': ['2021-02-14 00:12:42.937009'], 'pulse_emission_region': [], 'pipeline': {'name': 'intensity-fitburst', 'status': 'SUCCESS', 'logs': 'Round 1 - '}, 'beam_number': 2169, 'snr': 2.6722460166396873, 'sub_burst_dm': [348.772], 'sub_burst_dm_error': [348.772], 'sub_burst_fluence': [1.3727213306470772e-10], 'sub_burst_fluence_error': [2.133765139159722e-09], 'sub_burst_spectral_index': [40.86815528824439], 'sub_burst_spectral_index_error': [58.55464155321127], 'sub_burst_spectral_running': [-37.99998421090835], 'sub_burst_spectral_running_error': [54.73538464094915], 'sub_burst_timestamp': [104547.93700923762], 'sub_burst_timestamp_error': [0.000664188838339], 'sub_burst_width': [0.0005746283691630001], 'sub_burst_width_error': [0.00034204581177100005], 'measurement_id': 1642025758.184}, {'fitburst_reference_frequency': 400.1953125, 'fitburst_reference_frequency_scattering': 600.0, 'fixed': {'dm': True}, 'ftest_statistic': 1.0, 'is_bandpass_calibrated': False, 'sub_burst_timestamp_UTC': ['2021-02-14 00:12:42.937009'], 'pulse_emission_region': [[8236, 8238]], 'pipeline': {'name': 'intensity-fitburst', 'status': 'SUCCESS', 'logs': 'Round 2 - '}, 'beam_number': 2169, 'snr': 2.672246016645133, 'sub_burst_dm': [348.772], 'sub_burst_dm_error': [348.772], 'sub_burst_fluence': [1.3727213306470772e-10], 'sub_burst_fluence_error': [2.1337651391597235e-09], 'sub_burst_spectral_index': [40.86815528824439], 'sub_burst_spectral_index_error': [58.55464155321127], 'sub_burst_spectral_running': [-37.99998421090835], 'sub_burst_spectral_running_error': [54.73538464094915], 'sub_burst_timestamp': [104547.93700923762], 'sub_burst_timestamp_error': [0.000664188838339], 'sub_burst_width': [0.0005746283691630001], 'sub_burst_width_error': [0.00034204581177100005], 'measurement_id': 1642025758.184}, {'fitburst_reference_frequency': 400.1953125, 'fitburst_reference_frequency_scattering': 600.0, 'fixed': {'dm': True}, 'ftest_statistic': 1.0, 'is_bandpass_calibrated': False, 'sub_burst_timestamp_UTC': ['2021-02-14 00:12:42.936435'], 'pulse_emission_region': [[8236, 8239]], 'pipeline': {'name': 'intensity-fitburst', 'status': 'SUCCESS', 'logs': 'Round 3 - '}, 'beam_number': 2169, 'snr': 2.389366370315753, 'sub_burst_dm': [348.772], 'sub_burst_dm_error': [348.772], 'sub_burst_scattering_timescale': [0.0019660800000000003], 'sub_burst_scattering_timescale_error': [0.004303291377666], 'sub_burst_fluence': [1.3727213306470772e-10], 'sub_burst_fluence_error': [2.974937918204904e-09], 'sub_burst_spectral_index': [40.86815528824439], 'sub_burst_spectral_index_error': [79.54134847339853], 'sub_burst_spectral_running': [-37.99998421090835], 'sub_burst_spectral_running_error': [72.5010496842484], 'sub_burst_timestamp': [104547.93643460925], 'sub_burst_timestamp_error': [0.0016947855022610002], 'sub_burst_width': [0.00019154278972100002], 'sub_burst_width_error': [0.001202915375998], 'measurement_id': 1642025758.184}, {'pipeline': {'name': 'intensity-calibration', 'status': 'SUCCESS', 'logs': ''}, 'beam_number': 2169, 'sub_burst_flux': [0.161024017241019], 'sub_burst_flux_error': [0.12600037397753702], 'sub_burst_fluence': [-0.058739350583091], 'sub_burst_fluence_error': [0.16363475936773902], 'sub_burst_start_bins': [137], 'sub_burst_end_bins': [149], 'dm': 348.772, 'calibration_source_name': 'SNR_G130.7+03.1', 'calibration_source_date': '2021-02-11', 'measurement_id': 1642025891.262}, {'beam_number': 2169, 'pipeline': {'name': 'intensity-mcmc-scattered_pulse_model', 'status': 'SUCCESS', 'logs': {}}, 'dm': 349.67477958210407, 'timestamp': 104547.96374941348, 'width': 0.002490761682706, 'scattering_timescale': 0.004449279738833, 'fluence': 4.431300531318556e-10, 'spectral_index': 49.67740244828664, 'spectral_running': -47.89831355239519, 'dm_error': 0.269367289609711, 'timestamp_error': 0.004226461867878, 'width_error': 0.0005387173547020001, 'scattering_timescale_error': 0.001521040766722, 'fluence_error': 6.020914946018034e-09, 'spectral_index_error': 6.147197788173834, 'spectral_running_error': 5.952989659090592, 'measurement_id': 1643460385.837}, {'ra_list': [23.621461789938685, 29.359089862452365, 23.570538306901238, 32.20723016200426, 20.768816970010768], 'dec_list': [65.67487556304773, 65.71611237486472, 65.6250870676381, 65.66662471673257, 65.59531546819343], 'ra_list_error': [0.087637565813601, 0.076237344452959, 0.11078288170698801, 0.12471663366594501, 0.155653025342844], 'dec_list_error': [0.017687075893697002, 0.011259290788199, 0.013111937964909, 0.097226839980228, 0.07229699157536501], 'x_list': [1.579505324387622, -0.781578249321066, 1.603536144000339, -1.954931251967044, 2.758852191179589], 'y_list': [16.50136817987223, 16.51024994041505, 16.452775128104605, 16.51410962840795, 16.507686938188805], 'x_list_error': [0.036099137931034, 0.03135322108198, 0.045720720720720004, 0.051388888888888005, 0.06431254367575101], 'y_list_error': [0.017687075893697002, 0.011259290788199, 0.013111937964909, 0.097226839980228, 0.07229699157536501], 'chi2_list': [576.6982166280809, 577.3392145667324, 580.7678895224187, 587.7119951283446, 606.7148060351179], 'dof': 571, 'nchain_start': 5000, 'nchain_end': 1500, 'nwalkers_start': 64, 'nwalkers_end': 64, 'pipeline': {'name': 'intensity-localization', 'status': 'SUCCESS', 'logs': 'Version: frbps-v4. Successfully completed.'}, 'measurement_id': 1646692955.528}, {'pipeline': {'name': 'baseband', 'status': 'COMPLETE', 'log': 'Automatic baseband pipeline. The timestamp represents TOA at 400 MHz.', 'version': 'e7abf9d'}, 'datetime': '2022-09-30 01:18:58.925007 ', 'measurement_id': 1664500740.118}]}\n"
     ]
    }
   ],
   "source": [
    "from chime_frb_api import frb_master\n",
    "frb_master_base_url = \"http://frb-vsop.chime:8001\"\n",
    "master = frb_master.FRBMaster(base_url = frb_master_base_url)\n",
    "\n",
    "\n",
    "event_id = 157779605\n",
    "print(event_id)\n",
    "\n",
    "event = master.events.get_event(event_number=int(event_id))\n",
    "print(event)"
   ]
  },
  {
   "cell_type": "code",
   "execution_count": 34,
   "id": "86173a45",
   "metadata": {},
   "outputs": [
    {
     "ename": "ImportError",
     "evalue": "attempted relative import with no known parent package",
     "output_type": "error",
     "traceback": [
      "\u001b[0;31m---------------------------------------------------------------------------\u001b[0m",
      "\u001b[0;31mImportError\u001b[0m                               Traceback (most recent call last)",
      "\u001b[0;32m/tmp/ipykernel_10994/4084591621.py\u001b[0m in \u001b[0;36m<module>\u001b[0;34m\u001b[0m\n\u001b[0;32m----> 1\u001b[0;31m \u001b[0;32mfrom\u001b[0m \u001b[0;34m.\u001b[0m \u001b[0;32mimport\u001b[0m \u001b[0mtelescopes\u001b[0m\u001b[0;34m\u001b[0m\u001b[0;34m\u001b[0m\u001b[0m\n\u001b[0m",
      "\u001b[0;31mImportError\u001b[0m: attempted relative import with no known parent package"
     ]
    }
   ],
   "source": [
    "#fpga:\n",
    "freq_bottom = 400.0\n",
    "freq_top = 800.0\n",
    "num_channels = 1024\n",
    "num_counts_per_sample = 384\n",
    "num_counts_per_second = 390625\n",
    "time_per_sample = 2.56e-6 "
   ]
  },
  {
   "cell_type": "code",
   "execution_count": null,
   "id": "ec140b56",
   "metadata": {},
   "outputs": [],
   "source": []
  }
 ],
 "metadata": {
  "kernelspec": {
   "display_name": "Python 3 (ipykernel)",
   "language": "python",
   "name": "python3"
  },
  "language_info": {
   "codemirror_mode": {
    "name": "ipython",
    "version": 3
   },
   "file_extension": ".py",
   "mimetype": "text/x-python",
   "name": "python",
   "nbconvert_exporter": "python",
   "pygments_lexer": "ipython3",
   "version": "3.7.9"
  }
 },
 "nbformat": 4,
 "nbformat_minor": 5
}
