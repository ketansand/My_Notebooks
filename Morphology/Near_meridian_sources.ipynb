{
 "cells": [
  {
   "cell_type": "code",
   "execution_count": 1,
   "id": "d3225feb",
   "metadata": {},
   "outputs": [
    {
     "data": {
      "text/plain": [
       "182"
      ]
     },
     "execution_count": 1,
     "metadata": {},
     "output_type": "execute_result"
    }
   ],
   "source": [
    "from baseband_analysis.core import BBData\n",
    "import os\n",
    "import gc\n",
    "from chime_frb_api import frb_master\n",
    "import datetime as dt\n",
    "import numpy as np\n",
    "import h5py as h5\n",
    "gc.collect()"
   ]
  },
  {
   "cell_type": "code",
   "execution_count": 2,
   "id": "e32cecac",
   "metadata": {},
   "outputs": [
    {
     "name": "stdout",
     "output_type": "stream",
     "text": [
      "[ 23789294  23891929  40363753  40750224  60073678  65395717  67522832\n",
      "  67522901  69509443  71665813  71784400  71784833  71785167  73726599\n",
      "  83984528  84081108  92773515  92844954 151677988 153859596 154910364\n",
      " 154913824 155079679 163181014 163362088 163534005 166812476 171681248\n",
      " 171855709 175004577 175929272 176060009 180666196 180667327 188553320\n",
      " 194488374 194488393 194488454 195132396 200973875 203798724 203935225]\n",
      "(42,)\n"
     ]
    }
   ],
   "source": [
    "basepath = '/data/user-data/ksand/R3/fitburst_run/'\n",
    "entries = os.listdir(basepath)\n",
    "entries.remove('.ipynb_checkpoints')\n",
    "entries = np.array(entries)\n",
    "entries = entries.astype(int)\n",
    "entries = np.sort(entries)\n",
    "print(entries)\n",
    "print(entries.shape)"
   ]
  },
  {
   "cell_type": "code",
   "execution_count": 63,
   "id": "dd093a1c",
   "metadata": {},
   "outputs": [],
   "source": [
    "dsamp_low = [32, 32, 1, 16, 512, 512, 256, 16, 32, 256, 256, 64, 64, 128, \n",
    "             32, 256, 64, 16, 1024, 128, 64, 32, 1024, 64, 512, 64, 16, 512, \n",
    "             512, 1024, 128, 16, 512, 256, 256, 512, 8, 16, 64, 256, 512, 8]\n",
    "\n",
    "dsamp_low = np.array(dsamp_low)"
   ]
  },
  {
   "cell_type": "code",
   "execution_count": 65,
   "id": "ee7a3560",
   "metadata": {},
   "outputs": [
    {
     "name": "stderr",
     "output_type": "stream",
     "text": [
      "[2022-06-27 02:02:09,473] INFO Authorization Status: None\n",
      "[2022-06-27 02:02:09,474] INFO Authorization Method: Tokens\n",
      "[2022-06-27 02:02:09,523] INFO Authorization Token : Expired\n",
      "[2022-06-27 02:02:09,524] INFO Reauthorize Method: Tokens\n",
      "[2022-06-27 02:02:09,598] WARNING It is required that you pass in a value for the \"algorithms\" argument when calling decode().\n",
      "[2022-06-27 02:02:09,599] INFO Reauthorize Result: Passed\n",
      "[2022-06-27 02:02:09,710] INFO Authorization Status: None\n",
      "[2022-06-27 02:02:09,711] INFO Authorization Method: Tokens\n",
      "[2022-06-27 02:02:09,738] INFO Authorization Token : Expired\n",
      "[2022-06-27 02:02:09,739] INFO Reauthorize Method: Tokens\n",
      "[2022-06-27 02:02:09,785] WARNING It is required that you pass in a value for the \"algorithms\" argument when calling decode().\n",
      "[2022-06-27 02:02:09,786] INFO Reauthorize Result: Passed\n"
     ]
    },
    {
     "name": "stdout",
     "output_type": "stream",
     "text": [
      "2018-12-25 03:53:03\n",
      "2018-12-26 03:43:30\n"
     ]
    },
    {
     "name": "stderr",
     "output_type": "stream",
     "text": [
      "[2022-06-27 02:02:09,873] INFO Authorization Status: None\n",
      "[2022-06-27 02:02:09,875] INFO Authorization Method: Tokens\n",
      "[2022-06-27 02:02:10,011] INFO Authorization Token : Expired\n",
      "[2022-06-27 02:02:10,012] INFO Reauthorize Method: Tokens\n",
      "[2022-06-27 02:02:10,343] WARNING It is required that you pass in a value for the \"algorithms\" argument when calling decode().\n",
      "[2022-06-27 02:02:10,345] INFO Reauthorize Result: Passed\n",
      "[2022-06-27 02:02:10,570] INFO Authorization Status: None\n",
      "[2022-06-27 02:02:10,571] INFO Authorization Method: Tokens\n",
      "[2022-06-27 02:02:10,604] INFO Authorization Token : Expired\n",
      "[2022-06-27 02:02:10,605] INFO Reauthorize Method: Tokens\n",
      "[2022-06-27 02:02:10,662] WARNING It is required that you pass in a value for the \"algorithms\" argument when calling decode().\n",
      "[2022-06-27 02:02:10,663] INFO Reauthorize Result: Passed\n"
     ]
    },
    {
     "name": "stdout",
     "output_type": "stream",
     "text": [
      "2019-06-04 17:11:39\n",
      "2019-06-05 16:56:04\n"
     ]
    },
    {
     "name": "stderr",
     "output_type": "stream",
     "text": [
      "[2022-06-27 02:02:10,772] INFO Authorization Status: None\n",
      "[2022-06-27 02:02:10,773] INFO Authorization Method: Tokens\n",
      "[2022-06-27 02:02:10,797] INFO Authorization Token : Expired\n",
      "[2022-06-27 02:02:10,797] INFO Reauthorize Method: Tokens\n",
      "[2022-06-27 02:02:10,843] WARNING It is required that you pass in a value for the \"algorithms\" argument when calling decode().\n",
      "[2022-06-27 02:02:10,844] INFO Reauthorize Result: Passed\n",
      "[2022-06-27 02:02:10,949] INFO Authorization Status: None\n",
      "[2022-06-27 02:02:10,950] INFO Authorization Method: Tokens\n",
      "[2022-06-27 02:02:10,978] INFO Authorization Token : Expired\n",
      "[2022-06-27 02:02:10,978] INFO Reauthorize Method: Tokens\n",
      "[2022-06-27 02:02:11,023] WARNING It is required that you pass in a value for the \"algorithms\" argument when calling decode().\n",
      "[2022-06-27 02:02:11,023] INFO Reauthorize Result: Passed\n"
     ]
    },
    {
     "name": "stdout",
     "output_type": "stream",
     "text": [
      "2019-10-30 07:41:52\n",
      "2019-12-18 04:09:27\n"
     ]
    },
    {
     "name": "stderr",
     "output_type": "stream",
     "text": [
      "[2022-06-27 02:02:11,132] INFO Authorization Status: None\n",
      "[2022-06-27 02:02:11,136] INFO Authorization Method: Tokens\n",
      "[2022-06-27 02:02:11,278] INFO Authorization Token : Expired\n",
      "[2022-06-27 02:02:11,279] INFO Reauthorize Method: Tokens\n",
      "[2022-06-27 02:02:11,518] WARNING It is required that you pass in a value for the \"algorithms\" argument when calling decode().\n",
      "[2022-06-27 02:02:11,519] INFO Reauthorize Result: Passed\n",
      "[2022-06-27 02:02:11,731] INFO Authorization Status: None\n",
      "[2022-06-27 02:02:11,732] INFO Authorization Method: Tokens\n",
      "[2022-06-27 02:02:11,795] INFO Authorization Token : Expired\n",
      "[2022-06-27 02:02:11,797] INFO Reauthorize Method: Tokens\n"
     ]
    },
    {
     "name": "stdout",
     "output_type": "stream",
     "text": [
      "2020-01-04 03:16:14\n"
     ]
    },
    {
     "name": "stderr",
     "output_type": "stream",
     "text": [
      "[2022-06-27 02:02:11,905] WARNING It is required that you pass in a value for the \"algorithms\" argument when calling decode().\n",
      "[2022-06-27 02:02:11,907] INFO Reauthorize Result: Passed\n",
      "[2022-06-27 02:02:12,051] INFO Authorization Status: None\n",
      "[2022-06-27 02:02:12,052] INFO Authorization Method: Tokens\n",
      "[2022-06-27 02:02:12,079] INFO Authorization Token : Expired\n",
      "[2022-06-27 02:02:12,080] INFO Reauthorize Method: Tokens\n",
      "[2022-06-27 02:02:12,121] WARNING It is required that you pass in a value for the \"algorithms\" argument when calling decode().\n",
      "[2022-06-27 02:02:12,122] INFO Reauthorize Result: Passed\n"
     ]
    },
    {
     "name": "stdout",
     "output_type": "stream",
     "text": [
      "2020-01-04 03:18:20\n",
      "2020-01-20 01:49:14\n"
     ]
    },
    {
     "name": "stderr",
     "output_type": "stream",
     "text": [
      "[2022-06-27 02:02:12,218] INFO Authorization Status: None\n",
      "[2022-06-27 02:02:12,219] INFO Authorization Method: Tokens\n",
      "[2022-06-27 02:02:12,275] INFO Authorization Token : Expired\n",
      "[2022-06-27 02:02:12,276] INFO Reauthorize Method: Tokens\n",
      "[2022-06-27 02:02:12,361] WARNING It is required that you pass in a value for the \"algorithms\" argument when calling decode().\n",
      "[2022-06-27 02:02:12,362] INFO Reauthorize Result: Passed\n",
      "[2022-06-27 02:02:12,483] INFO Authorization Status: None\n",
      "[2022-06-27 02:02:12,485] INFO Authorization Method: Tokens\n",
      "[2022-06-27 02:02:12,620] INFO Authorization Token : Expired\n",
      "[2022-06-27 02:02:12,621] INFO Reauthorize Method: Tokens\n"
     ]
    },
    {
     "name": "stdout",
     "output_type": "stream",
     "text": [
      "2020-02-03 01:07:23\n"
     ]
    },
    {
     "name": "stderr",
     "output_type": "stream",
     "text": [
      "[2022-06-27 02:02:12,853] WARNING It is required that you pass in a value for the \"algorithms\" argument when calling decode().\n",
      "[2022-06-27 02:02:12,854] INFO Reauthorize Result: Passed\n",
      "[2022-06-27 02:02:13,047] INFO Authorization Status: None\n",
      "[2022-06-27 02:02:13,048] INFO Authorization Method: Tokens\n",
      "[2022-06-27 02:02:13,061] INFO Authorization Token : Expired\n",
      "[2022-06-27 02:02:13,062] INFO Reauthorize Method: Tokens\n",
      "[2022-06-27 02:02:13,087] WARNING It is required that you pass in a value for the \"algorithms\" argument when calling decode().\n",
      "[2022-06-27 02:02:13,088] INFO Reauthorize Result: Passed\n",
      "[2022-06-27 02:02:13,186] INFO Authorization Status: None\n",
      "[2022-06-27 02:02:13,187] INFO Authorization Method: Tokens\n"
     ]
    },
    {
     "name": "stdout",
     "output_type": "stream",
     "text": [
      "2020-02-04 00:57:31\n",
      "2020-02-04 01:03:26\n"
     ]
    },
    {
     "name": "stderr",
     "output_type": "stream",
     "text": [
      "[2022-06-27 02:02:13,220] INFO Authorization Token : Expired\n",
      "[2022-06-27 02:02:13,221] INFO Reauthorize Method: Tokens\n",
      "[2022-06-27 02:02:13,276] WARNING It is required that you pass in a value for the \"algorithms\" argument when calling decode().\n",
      "[2022-06-27 02:02:13,277] INFO Reauthorize Result: Passed\n",
      "[2022-06-27 02:02:13,396] INFO Authorization Status: None\n",
      "[2022-06-27 02:02:13,397] INFO Authorization Method: Tokens\n",
      "[2022-06-27 02:02:13,449] INFO Authorization Token : Expired\n",
      "[2022-06-27 02:02:13,449] INFO Reauthorize Method: Tokens\n",
      "[2022-06-27 02:02:13,543] WARNING It is required that you pass in a value for the \"algorithms\" argument when calling decode().\n",
      "[2022-06-27 02:02:13,544] INFO Reauthorize Result: Passed\n"
     ]
    },
    {
     "name": "stdout",
     "output_type": "stream",
     "text": [
      "2020-02-04 01:17:21\n"
     ]
    },
    {
     "name": "stderr",
     "output_type": "stream",
     "text": [
      "[2022-06-27 02:02:13,663] INFO Authorization Status: None\n",
      "[2022-06-27 02:02:13,664] INFO Authorization Method: Tokens\n",
      "[2022-06-27 02:02:13,690] INFO Authorization Token : Expired\n",
      "[2022-06-27 02:02:13,691] INFO Reauthorize Method: Tokens\n",
      "[2022-06-27 02:02:13,736] WARNING It is required that you pass in a value for the \"algorithms\" argument when calling decode().\n",
      "[2022-06-27 02:02:13,737] INFO Reauthorize Result: Passed\n"
     ]
    },
    {
     "name": "stdout",
     "output_type": "stream",
     "text": [
      "2020-02-20 00:10:09\n",
      "2020-05-12 18:38:20\n"
     ]
    },
    {
     "name": "stderr",
     "output_type": "stream",
     "text": [
      "[2022-06-27 02:02:13,869] INFO Authorization Status: None\n",
      "[2022-06-27 02:02:13,870] INFO Authorization Method: Tokens\n",
      "[2022-06-27 02:02:14,002] INFO Authorization Token : Expired\n",
      "[2022-06-27 02:02:14,003] INFO Reauthorize Method: Tokens\n",
      "[2022-06-27 02:02:14,227] WARNING It is required that you pass in a value for the \"algorithms\" argument when calling decode().\n",
      "[2022-06-27 02:02:14,228] INFO Reauthorize Result: Passed\n",
      "[2022-06-27 02:02:14,435] INFO Authorization Status: None\n",
      "[2022-06-27 02:02:14,436] INFO Authorization Method: Tokens\n",
      "[2022-06-27 02:02:14,468] INFO Authorization Token : Expired\n",
      "[2022-06-27 02:02:14,470] INFO Reauthorize Method: Tokens\n",
      "[2022-06-27 02:02:14,529] WARNING It is required that you pass in a value for the \"algorithms\" argument when calling decode().\n",
      "[2022-06-27 02:02:14,530] INFO Reauthorize Result: Passed\n"
     ]
    },
    {
     "name": "stdout",
     "output_type": "stream",
     "text": [
      "2020-05-13 18:31:04\n"
     ]
    },
    {
     "name": "stderr",
     "output_type": "stream",
     "text": [
      "[2022-06-27 02:02:14,652] INFO Authorization Status: None\n",
      "[2022-06-27 02:02:14,653] INFO Authorization Method: Tokens\n",
      "[2022-06-27 02:02:14,705] INFO Authorization Token : Expired\n",
      "[2022-06-27 02:02:14,707] INFO Reauthorize Method: Tokens\n",
      "[2022-06-27 02:02:14,796] WARNING It is required that you pass in a value for the \"algorithms\" argument when calling decode().\n",
      "[2022-06-27 02:02:14,797] INFO Reauthorize Result: Passed\n"
     ]
    },
    {
     "name": "stdout",
     "output_type": "stream",
     "text": [
      "2020-06-13 16:37:44\n"
     ]
    },
    {
     "name": "stderr",
     "output_type": "stream",
     "text": [
      "[2022-06-27 02:02:14,933] INFO Authorization Status: None\n",
      "[2022-06-27 02:02:14,934] INFO Authorization Method: Tokens\n",
      "[2022-06-27 02:02:14,959] INFO Authorization Token : Expired\n",
      "[2022-06-27 02:02:14,960] INFO Reauthorize Method: Tokens\n",
      "[2022-06-27 02:02:15,004] WARNING It is required that you pass in a value for the \"algorithms\" argument when calling decode().\n",
      "[2022-06-27 02:02:15,005] INFO Reauthorize Result: Passed\n"
     ]
    },
    {
     "name": "stdout",
     "output_type": "stream",
     "text": [
      "2020-06-14 16:26:52\n"
     ]
    },
    {
     "name": "stderr",
     "output_type": "stream",
     "text": [
      "[2022-06-27 02:02:15,178] INFO Authorization Status: None\n",
      "[2022-06-27 02:02:15,179] INFO Authorization Method: Tokens\n",
      "[2022-06-27 02:02:15,315] INFO Authorization Token : Expired\n",
      "[2022-06-27 02:02:15,315] INFO Reauthorize Method: Tokens\n"
     ]
    },
    {
     "name": "stdout",
     "output_type": "stream",
     "text": [
      "2021-01-11 02:30:09\n"
     ]
    },
    {
     "name": "stderr",
     "output_type": "stream",
     "text": [
      "[2022-06-27 02:02:15,537] WARNING It is required that you pass in a value for the \"algorithms\" argument when calling decode().\n",
      "[2022-06-27 02:02:15,539] INFO Reauthorize Result: Passed\n",
      "[2022-06-27 02:02:15,809] INFO Authorization Status: None\n",
      "[2022-06-27 02:02:15,810] INFO Authorization Method: Tokens\n",
      "[2022-06-27 02:02:15,919] INFO Authorization Token : Expired\n",
      "[2022-06-27 02:02:15,921] INFO Reauthorize Method: Tokens\n"
     ]
    },
    {
     "name": "stdout",
     "output_type": "stream",
     "text": [
      "2021-01-27 01:27:25\n"
     ]
    },
    {
     "name": "stderr",
     "output_type": "stream",
     "text": [
      "[2022-06-27 02:02:16,035] WARNING It is required that you pass in a value for the \"algorithms\" argument when calling decode().\n",
      "[2022-06-27 02:02:16,036] INFO Reauthorize Result: Passed\n",
      "[2022-06-27 02:02:16,231] INFO Authorization Status: None\n",
      "[2022-06-27 02:02:16,232] INFO Authorization Method: Tokens\n",
      "[2022-06-27 02:02:16,256] INFO Authorization Token : Expired\n",
      "[2022-06-27 02:02:16,257] INFO Reauthorize Method: Tokens\n",
      "[2022-06-27 02:02:16,299] WARNING It is required that you pass in a value for the \"algorithms\" argument when calling decode().\n",
      "[2022-06-27 02:02:16,300] INFO Reauthorize Result: Passed\n"
     ]
    },
    {
     "name": "stdout",
     "output_type": "stream",
     "text": [
      "2021-01-30 01:03:21\n"
     ]
    },
    {
     "name": "stderr",
     "output_type": "stream",
     "text": [
      "[2022-06-27 02:02:16,486] INFO Authorization Status: None\n",
      "[2022-06-27 02:02:16,487] INFO Authorization Method: Tokens\n",
      "[2022-06-27 02:02:16,557] INFO Authorization Token : Expired\n",
      "[2022-06-27 02:02:16,559] INFO Reauthorize Method: Tokens\n",
      "[2022-06-27 02:02:16,658] WARNING It is required that you pass in a value for the \"algorithms\" argument when calling decode().\n",
      "[2022-06-27 02:02:16,660] INFO Reauthorize Result: Passed\n"
     ]
    },
    {
     "name": "stdout",
     "output_type": "stream",
     "text": [
      "2021-01-30 01:29:42\n"
     ]
    },
    {
     "name": "stderr",
     "output_type": "stream",
     "text": [
      "[2022-06-27 02:02:16,861] INFO Authorization Status: None\n",
      "[2022-06-27 02:02:16,863] INFO Authorization Method: Tokens\n"
     ]
    },
    {
     "name": "stdout",
     "output_type": "stream",
     "text": [
      "2021-01-31 01:23:59\n"
     ]
    },
    {
     "name": "stderr",
     "output_type": "stream",
     "text": [
      "[2022-06-27 02:02:17,001] INFO Authorization Token : Expired\n",
      "[2022-06-27 02:02:17,002] INFO Reauthorize Method: Tokens\n",
      "[2022-06-27 02:02:17,223] WARNING It is required that you pass in a value for the \"algorithms\" argument when calling decode().\n",
      "[2022-06-27 02:02:17,224] INFO Reauthorize Result: Passed\n",
      "[2022-06-27 02:02:17,541] INFO Authorization Status: None\n",
      "[2022-06-27 02:02:17,542] INFO Authorization Method: Tokens\n",
      "[2022-06-27 02:02:17,608] INFO Authorization Token : Expired\n",
      "[2022-06-27 02:02:17,609] INFO Reauthorize Method: Tokens\n",
      "[2022-06-27 02:02:17,706] WARNING It is required that you pass in a value for the \"algorithms\" argument when calling decode().\n",
      "[2022-06-27 02:02:17,707] INFO Reauthorize Result: Passed\n"
     ]
    },
    {
     "name": "stdout",
     "output_type": "stream",
     "text": [
      "2021-03-02 23:15:02\n"
     ]
    },
    {
     "name": "stderr",
     "output_type": "stream",
     "text": [
      "[2022-06-27 02:02:17,970] INFO Authorization Status: None\n",
      "[2022-06-27 02:02:17,971] INFO Authorization Method: Tokens\n",
      "[2022-06-27 02:02:17,994] INFO Authorization Token : Expired\n",
      "[2022-06-27 02:02:17,994] INFO Reauthorize Method: Tokens\n",
      "[2022-06-27 02:02:18,036] WARNING It is required that you pass in a value for the \"algorithms\" argument when calling decode().\n",
      "[2022-06-27 02:02:18,037] INFO Reauthorize Result: Passed\n"
     ]
    },
    {
     "name": "stdout",
     "output_type": "stream",
     "text": [
      "2021-03-03 23:06:06\n"
     ]
    },
    {
     "name": "stderr",
     "output_type": "stream",
     "text": [
      "[2022-06-27 02:02:18,254] INFO Authorization Status: None\n",
      "[2022-06-27 02:02:18,255] INFO Authorization Method: Tokens\n",
      "[2022-06-27 02:02:18,307] INFO Authorization Token : Expired\n",
      "[2022-06-27 02:02:18,308] INFO Reauthorize Method: Tokens\n",
      "[2022-06-27 02:02:18,404] WARNING It is required that you pass in a value for the \"algorithms\" argument when calling decode().\n",
      "[2022-06-27 02:02:18,405] INFO Reauthorize Result: Passed\n"
     ]
    },
    {
     "name": "stdout",
     "output_type": "stream",
     "text": [
      "2021-03-04 23:02:53\n"
     ]
    },
    {
     "name": "stderr",
     "output_type": "stream",
     "text": [
      "[2022-06-27 02:02:18,663] INFO Authorization Status: None\n",
      "[2022-06-27 02:02:18,664] INFO Authorization Method: Tokens\n",
      "[2022-06-27 02:02:18,796] INFO Authorization Token : Expired\n",
      "[2022-06-27 02:02:18,797] INFO Reauthorize Method: Tokens\n"
     ]
    },
    {
     "name": "stdout",
     "output_type": "stream",
     "text": [
      "2021-04-02 21:21:44\n"
     ]
    },
    {
     "name": "stderr",
     "output_type": "stream",
     "text": [
      "[2022-06-27 02:02:19,015] WARNING It is required that you pass in a value for the \"algorithms\" argument when calling decode().\n",
      "[2022-06-27 02:02:19,016] INFO Reauthorize Result: Passed\n",
      "[2022-06-27 02:02:19,339] INFO Authorization Status: None\n",
      "[2022-06-27 02:02:19,340] INFO Authorization Method: Tokens\n",
      "[2022-06-27 02:02:19,350] INFO Authorization Token : Expired\n",
      "[2022-06-27 02:02:19,351] INFO Reauthorize Method: Tokens\n",
      "[2022-06-27 02:02:19,367] WARNING It is required that you pass in a value for the \"algorithms\" argument when calling decode().\n",
      "[2022-06-27 02:02:19,368] INFO Reauthorize Result: Passed\n"
     ]
    },
    {
     "name": "stdout",
     "output_type": "stream",
     "text": [
      "2021-05-21 17:56:31\n"
     ]
    },
    {
     "name": "stderr",
     "output_type": "stream",
     "text": [
      "[2022-06-27 02:02:19,600] INFO Authorization Status: None\n",
      "[2022-06-27 02:02:19,601] INFO Authorization Method: Tokens\n",
      "[2022-06-27 02:02:19,631] INFO Authorization Token : Expired\n",
      "[2022-06-27 02:02:19,632] INFO Reauthorize Method: Tokens\n",
      "[2022-06-27 02:02:19,691] WARNING It is required that you pass in a value for the \"algorithms\" argument when calling decode().\n",
      "[2022-06-27 02:02:19,692] INFO Reauthorize Result: Passed\n"
     ]
    },
    {
     "name": "stdout",
     "output_type": "stream",
     "text": [
      "2021-05-23 17:55:23\n"
     ]
    },
    {
     "name": "stderr",
     "output_type": "stream",
     "text": [
      "[2022-06-27 02:02:19,937] INFO Authorization Status: None\n",
      "[2022-06-27 02:02:19,938] INFO Authorization Method: Tokens\n",
      "[2022-06-27 02:02:19,964] INFO Authorization Token : Expired\n",
      "[2022-06-27 02:02:19,965] INFO Reauthorize Method: Tokens\n",
      "[2022-06-27 02:02:20,010] WARNING It is required that you pass in a value for the \"algorithms\" argument when calling decode().\n",
      "[2022-06-27 02:02:20,012] INFO Reauthorize Result: Passed\n"
     ]
    },
    {
     "name": "stdout",
     "output_type": "stream",
     "text": [
      "2021-06-25 15:38:55\n"
     ]
    },
    {
     "name": "stderr",
     "output_type": "stream",
     "text": [
      "[2022-06-27 02:02:20,260] INFO Authorization Status: None\n",
      "[2022-06-27 02:02:20,261] INFO Authorization Method: Tokens\n",
      "[2022-06-27 02:02:20,286] INFO Authorization Token : Expired\n",
      "[2022-06-27 02:02:20,287] INFO Reauthorize Method: Tokens\n",
      "[2022-06-27 02:02:20,335] WARNING It is required that you pass in a value for the \"algorithms\" argument when calling decode().\n",
      "[2022-06-27 02:02:20,336] INFO Reauthorize Result: Passed\n"
     ]
    },
    {
     "name": "stdout",
     "output_type": "stream",
     "text": [
      "2021-07-11 14:24:21\n"
     ]
    },
    {
     "name": "stderr",
     "output_type": "stream",
     "text": [
      "[2022-06-27 02:02:20,581] INFO Authorization Status: None\n",
      "[2022-06-27 02:02:20,582] INFO Authorization Method: Tokens\n",
      "[2022-06-27 02:02:20,722] INFO Authorization Token : Expired\n",
      "[2022-06-27 02:02:20,723] INFO Reauthorize Method: Tokens\n"
     ]
    },
    {
     "name": "stdout",
     "output_type": "stream",
     "text": [
      "2021-07-12 14:23:04\n"
     ]
    },
    {
     "name": "stderr",
     "output_type": "stream",
     "text": [
      "[2022-06-27 02:02:20,946] WARNING It is required that you pass in a value for the \"algorithms\" argument when calling decode().\n",
      "[2022-06-27 02:02:20,947] INFO Reauthorize Result: Passed\n",
      "[2022-06-27 02:02:21,288] INFO Authorization Status: None\n",
      "[2022-06-27 02:02:21,289] INFO Authorization Method: Tokens\n",
      "[2022-06-27 02:02:21,354] INFO Authorization Token : Expired\n",
      "[2022-06-27 02:02:21,355] INFO Reauthorize Method: Tokens\n",
      "[2022-06-27 02:02:21,448] WARNING It is required that you pass in a value for the \"algorithms\" argument when calling decode().\n",
      "[2022-06-27 02:02:21,449] INFO Reauthorize Result: Passed\n"
     ]
    },
    {
     "name": "stdout",
     "output_type": "stream",
     "text": [
      "2021-08-14 12:10:27\n"
     ]
    },
    {
     "name": "stderr",
     "output_type": "stream",
     "text": [
      "[2022-06-27 02:02:21,753] INFO Authorization Status: None\n",
      "[2022-06-27 02:02:21,754] INFO Authorization Method: Tokens\n",
      "[2022-06-27 02:02:21,770] INFO Authorization Token : Expired\n",
      "[2022-06-27 02:02:21,771] INFO Reauthorize Method: Tokens\n",
      "[2022-06-27 02:02:21,797] WARNING It is required that you pass in a value for the \"algorithms\" argument when calling decode().\n",
      "[2022-06-27 02:02:21,798] INFO Reauthorize Result: Passed\n"
     ]
    },
    {
     "name": "stdout",
     "output_type": "stream",
     "text": [
      "2021-08-14 12:22:49\n"
     ]
    },
    {
     "name": "stderr",
     "output_type": "stream",
     "text": [
      "[2022-06-27 02:02:22,043] INFO Authorization Status: None\n",
      "[2022-06-27 02:02:22,044] INFO Authorization Method: Tokens\n",
      "[2022-06-27 02:02:22,100] INFO Authorization Token : Expired\n",
      "[2022-06-27 02:02:22,101] INFO Reauthorize Method: Tokens\n",
      "[2022-06-27 02:02:22,184] WARNING It is required that you pass in a value for the \"algorithms\" argument when calling decode().\n",
      "[2022-06-27 02:02:22,185] INFO Reauthorize Result: Passed\n"
     ]
    },
    {
     "name": "stdout",
     "output_type": "stream",
     "text": [
      "2021-09-29 09:21:04\n"
     ]
    },
    {
     "name": "stderr",
     "output_type": "stream",
     "text": [
      "[2022-06-27 02:02:22,463] INFO Authorization Status: None\n",
      "[2022-06-27 02:02:22,464] INFO Authorization Method: Tokens\n",
      "[2022-06-27 02:02:22,601] INFO Authorization Token : Expired\n",
      "[2022-06-27 02:02:22,602] INFO Reauthorize Method: Tokens\n"
     ]
    },
    {
     "name": "stdout",
     "output_type": "stream",
     "text": [
      "2021-11-01 07:17:54\n"
     ]
    },
    {
     "name": "stderr",
     "output_type": "stream",
     "text": [
      "[2022-06-27 02:02:22,843] WARNING It is required that you pass in a value for the \"algorithms\" argument when calling decode().\n",
      "[2022-06-27 02:02:22,844] INFO Reauthorize Result: Passed\n",
      "[2022-06-27 02:02:23,217] INFO Authorization Status: None\n",
      "[2022-06-27 02:02:23,218] INFO Authorization Method: Tokens\n",
      "[2022-06-27 02:02:23,279] INFO Authorization Token : Expired\n",
      "[2022-06-27 02:02:23,280] INFO Reauthorize Method: Tokens\n",
      "[2022-06-27 02:02:23,388] WARNING It is required that you pass in a value for the \"algorithms\" argument when calling decode().\n",
      "[2022-06-27 02:02:23,389] INFO Reauthorize Result: Passed\n"
     ]
    },
    {
     "name": "stdout",
     "output_type": "stream",
     "text": [
      "2021-11-01 07:18:45\n"
     ]
    },
    {
     "name": "stderr",
     "output_type": "stream",
     "text": [
      "[2022-06-27 02:02:23,674] INFO Authorization Status: None\n",
      "[2022-06-27 02:02:23,675] INFO Authorization Method: Tokens\n",
      "[2022-06-27 02:02:23,701] INFO Authorization Token : Expired\n",
      "[2022-06-27 02:02:23,702] INFO Reauthorize Method: Tokens\n",
      "[2022-06-27 02:02:23,747] WARNING It is required that you pass in a value for the \"algorithms\" argument when calling decode().\n",
      "[2022-06-27 02:02:23,748] INFO Reauthorize Result: Passed\n"
     ]
    },
    {
     "name": "stdout",
     "output_type": "stream",
     "text": [
      "2021-11-01 07:25:05\n"
     ]
    },
    {
     "name": "stderr",
     "output_type": "stream",
     "text": [
      "[2022-06-27 02:02:24,020] INFO Authorization Status: None\n",
      "[2022-06-27 02:02:24,021] INFO Authorization Method: Tokens\n",
      "[2022-06-27 02:02:24,072] INFO Authorization Token : Expired\n",
      "[2022-06-27 02:02:24,073] INFO Reauthorize Method: Tokens\n",
      "[2022-06-27 02:02:24,153] WARNING It is required that you pass in a value for the \"algorithms\" argument when calling decode().\n",
      "[2022-06-27 02:02:24,155] INFO Reauthorize Result: Passed\n"
     ]
    },
    {
     "name": "stdout",
     "output_type": "stream",
     "text": [
      "2021-11-03 06:55:44\n"
     ]
    },
    {
     "name": "stderr",
     "output_type": "stream",
     "text": [
      "[2022-06-27 02:02:24,440] INFO Authorization Status: None\n",
      "[2022-06-27 02:02:24,441] INFO Authorization Method: Tokens\n",
      "[2022-06-27 02:02:24,572] INFO Authorization Token : Expired\n",
      "[2022-06-27 02:02:24,574] INFO Reauthorize Method: Tokens\n"
     ]
    },
    {
     "name": "stdout",
     "output_type": "stream",
     "text": [
      "2021-12-04 05:05:01\n"
     ]
    },
    {
     "name": "stderr",
     "output_type": "stream",
     "text": [
      "[2022-06-27 02:02:24,814] WARNING It is required that you pass in a value for the \"algorithms\" argument when calling decode().\n",
      "[2022-06-27 02:02:24,816] INFO Reauthorize Result: Passed\n",
      "[2022-06-27 02:02:25,162] INFO Authorization Status: None\n",
      "[2022-06-27 02:02:25,163] INFO Authorization Method: Tokens\n",
      "[2022-06-27 02:02:25,178] INFO Authorization Token : Expired\n",
      "[2022-06-27 02:02:25,179] INFO Reauthorize Method: Tokens\n",
      "[2022-06-27 02:02:25,206] WARNING It is required that you pass in a value for the \"algorithms\" argument when calling decode().\n",
      "[2022-06-27 02:02:25,207] INFO Reauthorize Result: Passed\n"
     ]
    },
    {
     "name": "stdout",
     "output_type": "stream",
     "text": [
      "2021-12-21 03:54:13\n",
      "2021-12-22 03:43:10\n"
     ]
    }
   ],
   "source": [
    "# frb_master_base_url = \"http://frb-vsop.chime:8001\"\n",
    "x_loc = []\n",
    "for i in range(len(entries)):\n",
    "    master = frb_master.FRBMaster(base_url = frb_master_base_url)\n",
    "\n",
    "    event_id = entries[i]\n",
    "\n",
    "    r = master.events.get_event(event_number=int(event_id))\n",
    "\n",
    "    burst_time_str = r['measured_parameters'][0]['datetime'][0:19]\n",
    "    burst_time = dt.datetime.strptime(burst_time_str, \"%Y-%m-%d %H:%M:%S\")\n",
    "    print(burst_time)\n",
    "\n",
    "    year = burst_time.strftime(\"%Y\")\n",
    "    month = burst_time.strftime(\"%m\")\n",
    "    day = burst_time.strftime(\"%d\")\n",
    "\n",
    "    file = '/data/chime/baseband/processed/{}/{}/{}/astro_{}/singlebeam_{}.h5'.format(year, month, day, event_id, event_id)\n",
    "    gc.collect()\n",
    "\n",
    "    data = h5.File(file, 'r')\n",
    "\n",
    "    x = data['tiedbeam_locations'][0][2]\n",
    "    if abs(x)<=0.2:\n",
    "        x_loc.append(entries[i])\n",
    "        x_loc.append(dsamp_low[i])"
   ]
  },
  {
   "cell_type": "code",
   "execution_count": 66,
   "id": "bcc8ef85",
   "metadata": {},
   "outputs": [
    {
     "name": "stdout",
     "output_type": "stream",
     "text": [
      "[71665813, 256, 71784833, 64, 84081108, 256, 163181014, 64, 200973875, 256]\n"
     ]
    }
   ],
   "source": [
    "print(x_loc)"
   ]
  },
  {
   "cell_type": "code",
   "execution_count": 56,
   "id": "bcd9ab9b",
   "metadata": {},
   "outputs": [
    {
     "name": "stdout",
     "output_type": "stream",
     "text": [
      "<KeysViewHDF5 ['first_packet_recv_time', 'history', 'index_map', 'reverse_map', 'tiedbeam_baseband', 'tiedbeam_locations', 'tiedbeam_power', 'time0']>\n"
     ]
    }
   ],
   "source": [
    "data = h5.File(file, 'r')\n",
    "print(data.keys())"
   ]
  },
  {
   "cell_type": "code",
   "execution_count": 54,
   "id": "1178bf2f",
   "metadata": {},
   "outputs": [
    {
     "name": "stdout",
     "output_type": "stream",
     "text": [
      "(29.50312583, 65.71675422, 0.98330355, 16.50485282, b'S')\n"
     ]
    }
   ],
   "source": [
    "b = data['tiedbeam_locations'][0]\n",
    "print(b)"
   ]
  },
  {
   "cell_type": "code",
   "execution_count": 57,
   "id": "fbecef21",
   "metadata": {},
   "outputs": [
    {
     "name": "stdout",
     "output_type": "stream",
     "text": [
      "(29.50312583, 65.71675422, 0.4049899, 16.49133782, b'S')\n"
     ]
    }
   ],
   "source": [
    "b = data['tiedbeam_locations'][0]\n",
    "print(b)"
   ]
  },
  {
   "cell_type": "code",
   "execution_count": 2,
   "id": "28bd7d81",
   "metadata": {},
   "outputs": [
    {
     "name": "stdout",
     "output_type": "stream",
     "text": [
      "0.01875\n"
     ]
    }
   ],
   "source": [
    "w = 3e+8/800e+6\n",
    "d = 20\n",
    "print(w/d)"
   ]
  },
  {
   "cell_type": "code",
   "execution_count": null,
   "id": "284e140f",
   "metadata": {},
   "outputs": [],
   "source": []
  }
 ],
 "metadata": {
  "kernelspec": {
   "display_name": "Python 3 (ipykernel)",
   "language": "python",
   "name": "python3"
  },
  "language_info": {
   "codemirror_mode": {
    "name": "ipython",
    "version": 3
   },
   "file_extension": ".py",
   "mimetype": "text/x-python",
   "name": "python",
   "nbconvert_exporter": "python",
   "pygments_lexer": "ipython3",
   "version": "3.7.9"
  }
 },
 "nbformat": 4,
 "nbformat_minor": 5
}
