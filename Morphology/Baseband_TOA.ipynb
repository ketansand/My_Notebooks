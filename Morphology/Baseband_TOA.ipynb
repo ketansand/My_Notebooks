{
 "cells": [
  {
   "cell_type": "code",
   "execution_count": 1,
   "id": "348a857d",
   "metadata": {},
   "outputs": [
    {
     "name": "stderr",
     "output_type": "stream",
     "text": [
      "--------------------------------------------------------------------------\n",
      "[[19564,1],0]: A high-performance Open MPI point-to-point messaging module\n",
      "was unable to find any relevant network interfaces:\n",
      "\n",
      "Module: OpenFabrics (openib)\n",
      "  Host: 1bae6bb3b670\n",
      "\n",
      "Another transport will be used instead, although this may result in\n",
      "lower performance.\n",
      "\n",
      "NOTE: You can disable this warning by setting the MCA parameter\n",
      "btl_base_warn_component_unused to 0.\n",
      "--------------------------------------------------------------------------\n"
     ]
    }
   ],
   "source": [
    "from baseband_analysis.analysis.toa import get_TOA\n",
    "import numpy as np\n",
    "import os\n",
    "import glob\n",
    "from chime_frb_api import frb_master\n",
    "import datetime as dt\n",
    "from baseband_analysis.core import BBData\n",
    "import gc\n",
    "from baseband_analysis.core.signal import tiedbeam_baseband_to_power\n",
    "from baseband_analysis.core.dedispersion import coherent_dedisp\n",
    "from baseband_analysis.analysis.snr import get_snr\n",
    "from astropy.time import Time\n",
    "from IPython.display import clear_output"
   ]
  },
  {
   "cell_type": "code",
   "execution_count": 2,
   "id": "0685dca2",
   "metadata": {},
   "outputs": [
    {
     "name": "stdout",
     "output_type": "stream",
     "text": [
      "[ 23789294  23891929  40363753  40750224  40750656  60073678  65395717\n",
      "  65511496  67522832  67522901  69509443  71665813  71784400  71784833\n",
      "  71785167  73726599  83984528  84081108  92773515  92844954 135577833\n",
      " 151677988 153859596 154910364 154913824 155079679 163181014 163362088\n",
      " 163534005 166812476 171681248 171855709 175004577 175929272 176060009\n",
      " 180666196 180667327 188553320 194488374 194488393 194488454 195132396\n",
      " 200973875 203798724 203935225]\n"
     ]
    }
   ],
   "source": [
    "basepath = '/data/user-data/ksand/R3/fitburst_run_final/'\n",
    "entries = os.listdir(basepath)\n",
    "entries.remove('.ipynb_checkpoints')\n",
    "entries = np.array(entries).astype(int)\n",
    "entries = np.sort(entries)\n",
    "print(entries)"
   ]
  },
  {
   "cell_type": "code",
   "execution_count": 3,
   "id": "c2883d07",
   "metadata": {},
   "outputs": [],
   "source": [
    "basepath = '/data/user-data/ksand/R3/fitburst_run_final/'\n",
    "event_ids = []\n",
    "pm_files = []\n",
    "result_files = []\n",
    "input_files = []\n",
    "summary = []\n",
    "for event in entries:\n",
    "    if (event != '.ipynb_checkpoints'): \n",
    "        path_to_event = os.path.join(basepath, str(event))\n",
    "        trials = np.array(os.listdir(path_to_event))\n",
    "#         print(event, len(trials))\n",
    "        count = 0\n",
    "\n",
    "\n",
    "        for trial in trials:\n",
    "            if (trial != '.ipynb_checkpoints'):\n",
    "                path_to_file = os.path.join(path_to_event, trial)\n",
    "                #print(event, path_to_file, \"\\n\")\n",
    "                #print(path_to_file)\n",
    "                event_ids.append(int(event))\n",
    "                np.array(pm_files.append(glob.glob(path_to_file + '/pm*.npz')))\n",
    "                #print(pm_files)\n",
    "                np.array(result_files.append(glob.glob(path_to_file + '/result*.npz')))\n",
    "                np.array(input_files.append(glob.glob(path_to_file + '/R3*.npz')))\n",
    "                np.array(summary.append(glob.glob(path_to_file + '/summary*.png')))\n",
    "                count = count + 1"
   ]
  },
  {
   "cell_type": "code",
   "execution_count": 4,
   "id": "bf81e0d7",
   "metadata": {},
   "outputs": [
    {
     "name": "stdout",
     "output_type": "stream",
     "text": [
      "[348.732, 348.791, 348.92, 349.89, 348.813, 348.68, 349.11, 349.89, 349.847, 349.097, 348.98, 349.27, 349.37, 349.725, 348.84, 348.73, 349.1944387797214, 349.46, 348.955, 348.792, 350.12, 348.99, 348.8435, 348.838, 348.77503143294547, 349.47, 349.542, 348.83, 348.98, 349.6, 348.93, 348.95, 348.97, 349.38, 348.8165, 348.89570588235296, 349.062, 349.79, 349.9, 349.0277461483363, 348.862, 348.94, 349.2, 349.05, 348.901]\n",
      "20\n"
     ]
    }
   ],
   "source": [
    "DMs = []\n",
    "downsamps = []\n",
    "for pm_file in pm_files:\n",
    "    if len(pm_file) > 0:\n",
    "        data_pm = np.load(pm_file[0], allow_pickle = True)\n",
    "        dm = data_pm['arr_0'].item(0)['DM']\n",
    "        ds = data_pm['arr_0'].item(0)['ds']\n",
    "        DMs.append(float(dm))\n",
    "        downsamps.append(int(ds))\n",
    "print(DMs)\n",
    "DMs = np.array(DMs)\n",
    "print(np.argmax(DMs))\n",
    "downsamps = np.array(downsamps)"
   ]
  },
  {
   "cell_type": "code",
   "execution_count": null,
   "id": "31f2aa0f",
   "metadata": {},
   "outputs": [
    {
     "name": "stderr",
     "output_type": "stream",
     "text": [
      "[2023-01-15 02:25:10,501] INFO Authorization Status: None\n",
      "[2023-01-15 02:25:10,502] INFO Authorization Method: Tokens\n"
     ]
    },
    {
     "name": "stdout",
     "output_type": "stream",
     "text": [
      "23789294\n"
     ]
    },
    {
     "name": "stderr",
     "output_type": "stream",
     "text": [
      "[2023-01-15 02:25:10,820] INFO Authorization Token : Expired\n",
      "[2023-01-15 02:25:10,821] INFO Reauthorize Method: Tokens\n",
      "[2023-01-15 02:25:11,311] WARNING It is required that you pass in a value for the \"algorithms\" argument when calling decode().\n",
      "[2023-01-15 02:25:11,312] INFO Reauthorize Result: Passed\n"
     ]
    },
    {
     "name": "stdout",
     "output_type": "stream",
     "text": [
      "2018-12-25 03:53:03\n",
      "/data/chime/baseband/processed/2018/12/25/astro_23789294/singlebeam_23789294.h5\n",
      "Loading singelebeam file /data/chime/baseband/processed/2018/12/25/astro_23789294/singlebeam_23789294.h5\n"
     ]
    }
   ],
   "source": [
    "TOAs_bb_fixDM = []\n",
    "for i in range(len(entries)):\n",
    "    clear_output(wait=True)\n",
    "    frb_master_base_url = \"http://frb-vsop.chime:8001\"\n",
    "    master = frb_master.FRBMaster(base_url = frb_master_base_url)\n",
    "\n",
    "    event_id = entries[i]\n",
    "    print(event_id)\n",
    "    r = master.events.get_event(event_number=int(event_id))\n",
    "\n",
    "    burst_time_str = r['measured_parameters'][0]['datetime'][0:19]\n",
    "    burst_time = dt.datetime.strptime(burst_time_str, \"%Y-%m-%d %H:%M:%S\")\n",
    "    print(burst_time)\n",
    "\n",
    "    year = burst_time.strftime(\"%Y\")\n",
    "    month = burst_time.strftime(\"%m\")\n",
    "    day = burst_time.strftime(\"%d\")\n",
    "\n",
    "    file = '/data/chime/baseband/processed/{}/{}/{}/astro_{}/singlebeam_{}.h5'.format(year, month, day, event_id, event_id)\n",
    "    gc.collect()\n",
    "    print(file)\n",
    "\n",
    "    print(\"Loading singelebeam file {}\".format(file))\n",
    "    data = BBData.from_file(file)\n",
    "\n",
    "    if \"DM\" in data[\"tiedbeam_baseband\"].attrs.keys():\n",
    "        DM0 = data[\"tiedbeam_baseband\"].attrs[\"DM\"]\n",
    "        print(\"Tiedbeam baseband dm is\", DM0)\n",
    "    else:\n",
    "        DM0 = 0\n",
    "\n",
    "    try:\n",
    "        if DM0 > 1:\n",
    "            print(\"Data is already de-smeared\")\n",
    "            DM_coh  = data['tiedbeam_power'].attrs['DM_coherent']\n",
    "            DM_coh = 382.82\n",
    "            print(\"performing coherent dedispersion\")\n",
    "            tiedbeam_baseband_to_power(data,time_downsample_factor=1,dm = DM_coh,dedisperse=True)           \n",
    "            coherent_dedisp(data, DM_coh)\n",
    "        else:\n",
    "            print(\"Data is not de-smeared, will not perform coherent-dedispersion\")\n",
    "\n",
    "    except KeyError:\n",
    "        print('Coherent de-dispersion was not done on this event.')\n",
    "        if DM is not None:\n",
    "            print('Performing oherent de-dispersion...')\n",
    "            tiedbeam_baseband_to_power(data,time_downsample_factor=1,dm = DM,dedisperse=True)           \n",
    "            coherent_dedisp(data, DM)\n",
    "            try:\n",
    "                data['tiedbeam_power'].attrs['DM_coherent']\n",
    "            except KeyError:\n",
    "                print('Coherent de-dispersion failed.')\n",
    "            else:\n",
    "                print('Coherent de-dispersion performed successfully.')\n",
    "        else:\n",
    "            raise ValueError('Please supply the DM to use for coherent de-dispersion!')\n",
    "\n",
    "    # freq_id, freq, power, _, _, valid_channels, _, DM, downsampling_factor = get_snr(data, \n",
    "    #                                                                                  DM = DMs[i],\n",
    "    #                                                                                  downsample=downsamps[i],\n",
    "    #                                                                                  fill_missing_time = None,\n",
    "    #                                                                                  diagnostic_plots=False,\n",
    "    #                                                                                  spectrum_lim = False,\n",
    "    #                                                                                  return_full=True,\n",
    "    #                                                                                  DM_range = None,\n",
    "    #                                                                                  lte_mask = True,\n",
    "    #                                                                                  raise_missing_signal = False,\n",
    "    #                                                                                  do_rfi_clean = True\n",
    "    #                                                                                 )\n",
    "\n",
    "    TOA = get_TOA(data, DM=348.82, downsampling_factor=downsamps[i])#, power=power, first_valid_bin=0)\n",
    "    t = Time(TOA, format='unix')\n",
    "    TOAs_bb_fixDM.append(t.mjd)\n",
    "    print(t.mjd)"
   ]
  },
  {
   "cell_type": "code",
   "execution_count": 50,
   "id": "f69a3798",
   "metadata": {},
   "outputs": [
    {
     "name": "stdout",
     "output_type": "stream",
     "text": [
      "[58477.16185106008, 58478.15520959571, 58638.716433091045, 58639.70561269861, 58639.71008089679, 58786.32074905812, 58835.17323655196, 58836.17197680902, 58852.1362833927, 58852.137731946015, 58868.0758577926, 58882.04680524802, 58883.039950144615, 58883.04405354814, 58883.0537194434, 58899.007059797106, 58981.77662303259, 58982.771575046674, 59013.69287125802, 59014.68532475482, 59111.406430915566, 59225.104278723964, 59241.060714461775, 59244.04399640264, 59244.062294394615, 59245.05832696872, 59275.96877324059, 59276.962570132644, 59277.96033745101, 59306.89010034776, 59355.747585411315, 59357.74680372812, 59390.652026868105, 59406.600247855546, 59407.59936336849, 59440.50725934581, 59440.515848079536, 59486.389633362036, 59519.30410440554, 59519.30469754965, 59519.30908634315, 59521.28870800225, 59552.2118273624, 59569.162656417844, 59570.15497822374]\n"
     ]
    }
   ],
   "source": [
    "TOA_mjd_bb = []\n",
    "for t in TOAs_bb:\n",
    "    x = Time(t, format='unix')\n",
    "    TOA_mjd_bb.append(x.mjd)\n",
    "print(TOA_mjd_bb)\n",
    "TOA_mjd_bb = np.array(TOA_mjd_bb)\n",
    "oname = 'R3_BB_TOAs'\n",
    "np.savez(oname, TOA_mjd_bb)"
   ]
  },
  {
   "cell_type": "code",
   "execution_count": 53,
   "id": "a9e85a33",
   "metadata": {},
   "outputs": [
    {
     "name": "stdout",
     "output_type": "stream",
     "text": [
      "[58477.161851118966, 58478.15520959953, 58638.716433091045, 58639.70561256462, 58639.71008118883, 58786.32074908104, 58835.17323644542, 58836.17197676984, 58852.13628319428, 58852.13773192104, 58868.07585775069, 58882.046805156475, 58883.03995011363, 58883.04405336504, 58883.05371943958, 58899.00705983135, 58981.77662293164, 58982.771575030754, 59013.69287125226, 59014.68532475957, 59111.40643055071, 59225.10427870111, 59241.06071445797, 59244.04399639504, 59244.06229440225, 59245.058326938, 59275.968773202236, 59276.962570109885, 59277.96033744144, 59306.89010020224, 59355.74758540366, 59357.74680372805, 59390.65202685285, 59406.60024778695, 59407.59936336876, 59440.50725933439, 59440.51584807371, 59486.38963320218, 59519.30410438974, 59519.30469752334, 59519.30908634479, 59521.288707977525, 59552.21182733184, 59569.162656413915, 59570.15497821943]\n"
     ]
    }
   ],
   "source": [
    "print(TOAs_bb_fixDM)\n",
    "oname = 'R3_BB_TOAs_fixDM'\n",
    "np.savez(oname, TOAs_bb_fixDM)"
   ]
  },
  {
   "cell_type": "code",
   "execution_count": 13,
   "id": "1019079f",
   "metadata": {},
   "outputs": [
    {
     "name": "stdout",
     "output_type": "stream",
     "text": [
      "[58477.16185106 58478.1552096  58638.71643309 58639.7056127\n",
      " 58639.7100809  58786.32074906 58835.17323655 58836.17197681\n",
      " 58852.13628339 58852.13773195 58868.07585779 58882.04680525\n",
      " 58883.03995014 58883.04405355 58883.05371944 58899.0070598\n",
      " 58981.77662303 58982.77157505 59013.69287126 59014.68532475\n",
      " 59111.40643092 59225.10427872 59241.06071446 59244.0439964\n",
      " 59244.06229439 59245.05832697 59275.96877324 59276.96257013\n",
      " 59277.96033745 59306.89010035 59355.74758541 59357.74680373\n",
      " 59390.65202687 59406.60024786 59407.59936337 59440.50725935\n",
      " 59440.51584808 59486.38963336 59519.30410441 59519.30469755\n",
      " 59519.30908634 59521.288708   59552.21182736 59569.16265642\n",
      " 59570.15497822]\n",
      "[58477.16185112 58478.1552096  58638.71643309 58639.70561256\n",
      " 58639.71008119 58786.32074908 58835.17323645 58836.17197677\n",
      " 58852.13628319 58852.13773192 58868.07585775 58882.04680516\n",
      " 58883.03995011 58883.04405337 58883.05371944 58899.00705983\n",
      " 58981.77662293 58982.77157503 59013.69287125 59014.68532476\n",
      " 59111.40643055 59225.1042787  59241.06071446 59244.0439964\n",
      " 59244.0622944  59245.05832694 59275.9687732  59276.96257011\n",
      " 59277.96033744 59306.8901002  59355.7475854  59357.74680373\n",
      " 59390.65202685 59406.60024779 59407.59936337 59440.50725933\n",
      " 59440.51584807 59486.3896332  59519.30410439 59519.30469752\n",
      " 59519.30908634 59521.28870798 59552.21182733 59569.16265641\n",
      " 59570.15497822]\n",
      "59111.406430915566 59111.40643055071 3.648528945632279e-07\n",
      "3.648528945632279e-07\n"
     ]
    }
   ],
   "source": [
    "import numpy as np\n",
    "\n",
    "data1 = np.load('R3_BB_TOAs.npz')\n",
    "print(data1['arr_0'])\n",
    "data2 = np.load('R3_BB_TOAs_fixDM.npz')\n",
    "print(data2['arr_0'])\n",
    "print(data1['arr_0'][20],data2['arr_0'][20],data1['arr_0'][20]-data2['arr_0'][20])\n",
    "\n",
    "diff = np.abs(data1['arr_0'] - data2['arr_0'])\n",
    "print(np.max(diff))"
   ]
  },
  {
   "cell_type": "code",
   "execution_count": null,
   "id": "0cc07321",
   "metadata": {},
   "outputs": [],
   "source": []
  }
 ],
 "metadata": {
  "kernelspec": {
   "display_name": "Python 3 (ipykernel)",
   "language": "python",
   "name": "python3"
  },
  "language_info": {
   "codemirror_mode": {
    "name": "ipython",
    "version": 3
   },
   "file_extension": ".py",
   "mimetype": "text/x-python",
   "name": "python",
   "nbconvert_exporter": "python",
   "pygments_lexer": "ipython3",
   "version": "3.7.9"
  }
 },
 "nbformat": 4,
 "nbformat_minor": 5
}
