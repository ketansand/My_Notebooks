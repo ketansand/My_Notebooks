{
 "cells": [
  {
   "cell_type": "code",
   "execution_count": 1,
   "id": "4c80d961",
   "metadata": {},
   "outputs": [
    {
     "data": {
      "text/plain": [
       "0"
      ]
     },
     "execution_count": 1,
     "metadata": {},
     "output_type": "execute_result"
    }
   ],
   "source": [
    "import os\n",
    "import gc\n",
    "from chime_frb_api import frb_master\n",
    "import datetime as dt\n",
    "import numpy as np\n",
    "from IPython.display import clear_output\n",
    "import time\n",
    "import pandas as pd\n",
    "import json\n",
    "gc.collect()"
   ]
  },
  {
   "cell_type": "code",
   "execution_count": 2,
   "id": "c13c853e",
   "metadata": {},
   "outputs": [],
   "source": [
    "R3_fitburst_event = {'event_id': 0,\n",
    "                     'fitburst_snr': 0,\n",
    "                     'fitburst_dm': 0,\n",
    "                     'fitburst_dm_error':0.0,\n",
    "                     'num_sub_bursts':0,\n",
    "                     'pulse_width_ms': [0],\n",
    "                     'pulse_width_ms_error': [0],\n",
    "                     'scattering_time_ms': 0,\n",
    "                     'scattering_time_ms_error': 0,\n",
    "                     'fitburst_amplitude': [0],\n",
    "                     'fitburst_amplitude_error': [0],\n",
    "                     'spectral_index': [0],\n",
    "                     'spectral_index_error': [0],\n",
    "                     'spectral_running': [0],\n",
    "                     'spectral_running_error':[0],\n",
    "                     'Bandwidth':0.0,\n",
    "                     'Central Frequency':0.0,\n",
    "                     'type_of_data': 'intensity'\n",
    "                    }"
   ]
  },
  {
   "cell_type": "code",
   "execution_count": 3,
   "id": "2dece50e",
   "metadata": {},
   "outputs": [
    {
     "name": "stdout",
     "output_type": "stream",
     "text": [
      "[ 15372046  18685272  20425523  20425669  20887861  20887865  23491552\n",
      "  23588210  28293423  28293424  39150325  39150809  39275710  39278375\n",
      "  39278417  40163166  40363754  40750656  47313912  47583802  51101068\n",
      "  51101217  51101285  60073222  65511496  65511653  71784510  73725034\n",
      "  73909400  78294947  81931588  82019295  95827868 100904168 100905566\n",
      " 105757295 130061681 131640713 135577833 139459007 144520399 154779432\n",
      " 163181404 176156139 188760049 188760957 198142107]\n"
     ]
    }
   ],
   "source": [
    "R3_ids_int = [15372046, 18685272, 20425523, 20425669, 20887861, 20887865, 23491552, \n",
    "              23588210, 28293423, 28293424, 39150325, 39150809, 39275710, 39278375, \n",
    "              39278417, 40163166, 40363754, 40750656, 47313912, 47583802, 51101068, \n",
    "              51101217, 51101285, 60073222, 65511496, 65511653, 71784510, 73725034, \n",
    "              73909400, 78294947, 81931588, 82019295, 95827868, 100904168, 100905566, \n",
    "              105757295, 130061681, 131640713, 135577833, 139459007, 144520399, 154779432,\n",
    "             163181404, 176156139, 188760049, 188760957, 198142107]\n",
    "R3_ids_int = np.array(R3_ids_int)\n",
    "print(R3_ids_int)"
   ]
  },
  {
   "cell_type": "code",
   "execution_count": 4,
   "id": "da73969c",
   "metadata": {},
   "outputs": [],
   "source": [
    "R3_int_pub = [139459007, 144520399, 154779432, 176156139, 183057477, 188760049, 188760957, 198142107, 201096712]\n",
    "R3_int_pub = np.array(R3_int_pub)"
   ]
  },
  {
   "cell_type": "code",
   "execution_count": 5,
   "id": "fb331727",
   "metadata": {},
   "outputs": [],
   "source": [
    "R3_e_fon = [157779605, 162981697, 163181404, 165238765, 175084048, 175930797]\n",
    "R3_e_fon = np.array(R3_e_fon)"
   ]
  },
  {
   "cell_type": "code",
   "execution_count": 6,
   "id": "04c01ffa",
   "metadata": {},
   "outputs": [
    {
     "name": "stderr",
     "output_type": "stream",
     "text": [
      "[2023-01-23 21:09:49,480] INFO Authorization Status: None\n",
      "[2023-01-23 21:09:49,481] INFO Authorization Method: Tokens\n"
     ]
    },
    {
     "name": "stdout",
     "output_type": "stream",
     "text": [
      "139459007\n"
     ]
    },
    {
     "name": "stderr",
     "output_type": "stream",
     "text": [
      "[2023-01-23 21:09:49,767] INFO Authorization Token : Expired\n",
      "[2023-01-23 21:09:49,770] INFO Reauthorize Method: Tokens\n",
      "[2023-01-23 21:09:50,256] WARNING It is required that you pass in a value for the \"algorithms\" argument when calling decode().\n",
      "[2023-01-23 21:09:50,258] INFO Reauthorize Result: Passed\n",
      "[2023-01-23 21:09:50,603] INFO Authorization Status: None\n",
      "[2023-01-23 21:09:50,604] INFO Authorization Method: Tokens\n"
     ]
    },
    {
     "name": "stdout",
     "output_type": "stream",
     "text": [
      "2020-10-23 07:48:30\n",
      "/data/chime/intensity/processed/2020/10/23/astro_139459007\n",
      "{'intensity-dm-pipeline': '2020-11-20T03:52:03.124000', 'intensity-fitburst': 1673134971.478}\n",
      "Locked id 1673134971.478\n",
      "1169\n",
      "1169\n",
      "{'event_id': 139459007, 'fitburst_snr': 12.37217054496588, 'fitburst_dm': 350.4014035760195, 'fitburst_dm_error': 0.02291134304379, 'num_sub_bursts': 1, 'pulse_width_ms': [0.002643597325383], 'pulse_width_ms_error': [0.00029773530662000004], 'scattering_time_ms': 0.005287194650766, 'scattering_time_ms_error': 0, 'fitburst_amplitude': [5.268810076356048e-05], 'fitburst_amplitude_error': [1.3552013396675692e-05], 'spectral_index': [1.901619786111957], 'spectral_index_error': [1.610992635653052], 'spectral_running': [-3.959472452646562], 'spectral_running_error': [2.38115063616277], 'Bandwidth': 0.0, 'Central Frequency': 0.0, 'UTC_400': ['2020-10-23 07:48:30.782062'], 'UTC_400_err': [0.001005728054863], 'type_of_data': 'intensity'} \n",
      "\n",
      "144520399\n"
     ]
    },
    {
     "name": "stderr",
     "output_type": "stream",
     "text": [
      "[2023-01-23 21:09:51,064] INFO Authorization Token : Expired\n",
      "[2023-01-23 21:09:51,065] INFO Reauthorize Method: Tokens\n",
      "[2023-01-23 21:09:51,918] WARNING It is required that you pass in a value for the \"algorithms\" argument when calling decode().\n",
      "[2023-01-23 21:09:51,920] INFO Reauthorize Result: Passed\n",
      "[2023-01-23 21:09:52,547] INFO Authorization Status: None\n",
      "[2023-01-23 21:09:52,549] INFO Authorization Method: Tokens\n"
     ]
    },
    {
     "name": "stdout",
     "output_type": "stream",
     "text": [
      "2020-11-23 05:52:02\n",
      "/data/chime/intensity/processed/2020/11/23/astro_144520399\n",
      "{'intensity-dm-pipeline': '2021-06-04T14:35:33.811000', 'intensity-fitburst': 1642016891.529}\n",
      "Locked id 1642016891.529\n",
      "2169\n",
      "2169\n",
      "##########ROUND 3 is a better fit#########\n",
      "{'event_id': 144520399, 'fitburst_snr': 50.00028192274187, 'fitburst_dm': 348.772, 'fitburst_dm_error': 348.772, 'num_sub_bursts': 2, 'pulse_width_ms': [0.0008334742227810001, 0.0022325752734400003], 'pulse_width_ms_error': [0.00018786053053300003, 0.000198223422507], 'scattering_time_ms': 0.000943333714213, 'scattering_time_ms_error': 0.00010878063541500001, 'fitburst_amplitude': [0.00013327515359, 4.316623439573554e-07], 'fitburst_amplitude_error': [1.8194877604430552e-05, 2.409809939543439e-07], 'spectral_index': [11.7504860065688, 59.71866727384841], 'spectral_index_error': [2.194873183791947, 4.669581275457696], 'spectral_running': [-55.98981776334599, -125.57288867029872], 'spectral_running_error': [8.434664253205474, 9.62775670669806], 'Bandwidth': 0.0, 'Central Frequency': 0.0, 'UTC_400': ['2020-11-23 05:52:02.538412', '2020-11-23 05:52:02.545423'], 'UTC_400_err': [0.00017536806774800002, 0.00020256246908900003], 'type_of_data': 'intensity'} \n",
      "\n",
      "154779432\n"
     ]
    },
    {
     "name": "stderr",
     "output_type": "stream",
     "text": [
      "[2023-01-23 21:09:52,819] INFO Authorization Token : Expired\n",
      "[2023-01-23 21:09:52,820] INFO Reauthorize Method: Tokens\n",
      "[2023-01-23 21:09:53,224] WARNING It is required that you pass in a value for the \"algorithms\" argument when calling decode().\n",
      "[2023-01-23 21:09:53,226] INFO Reauthorize Result: Passed\n",
      "[2023-01-23 21:09:53,548] INFO Authorization Status: None\n",
      "[2023-01-23 21:09:53,549] INFO Authorization Method: Tokens\n"
     ]
    },
    {
     "name": "stdout",
     "output_type": "stream",
     "text": [
      "2021-01-29 01:25:15\n",
      "/data/chime/intensity/processed/2021/01/29/astro_154779432\n",
      "{'header-localization': '2021-02-05T21:49:51.713000', 'intensity-dm-pipeline': 1617036960.406, 'intensity-fitburst': 1646160400.648}\n",
      "Locked id 1646160400.648\n",
      "1169\n",
      "1169\n",
      "{'event_id': 154779432, 'fitburst_snr': 13.441582772114677, 'fitburst_dm': 348.772, 'fitburst_dm_error': 348.772, 'num_sub_bursts': 1, 'pulse_width_ms': [0.004642237502703], 'pulse_width_ms_error': [0.000602301481418], 'scattering_time_ms': 0.009284475005406, 'scattering_time_ms_error': 0, 'fitburst_amplitude': [1.417296349470852e-06], 'fitburst_amplitude_error': [2.984596952153771e-06], 'spectral_index': [11.39992699213812], 'spectral_index_error': [7.774890641099922], 'spectral_running': [-7.062285731420766], 'spectral_running_error': [7.084008669780858], 'Bandwidth': 0.0, 'Central Frequency': 0.0, 'UTC_400': ['2021-01-29 01:25:15.312581'], 'UTC_400_err': [0.001004099386984], 'type_of_data': 'intensity'} \n",
      "\n",
      "176156139\n"
     ]
    },
    {
     "name": "stderr",
     "output_type": "stream",
     "text": [
      "[2023-01-23 21:09:54,008] INFO Authorization Token : Expired\n",
      "[2023-01-23 21:09:54,010] INFO Reauthorize Method: Tokens\n",
      "[2023-01-23 21:09:54,723] WARNING It is required that you pass in a value for the \"algorithms\" argument when calling decode().\n",
      "[2023-01-23 21:09:54,724] INFO Reauthorize Result: Passed\n",
      "[2023-01-23 21:09:55,222] INFO Authorization Status: None\n",
      "[2023-01-23 21:09:55,223] INFO Authorization Method: Tokens\n"
     ]
    },
    {
     "name": "stdout",
     "output_type": "stream",
     "text": [
      "2021-07-13 14:13:37\n",
      "/data/chime/intensity/processed/2021/07/13/astro_176156139\n",
      "{'intensity-fitburst': 1673136173.848}\n",
      "Locked id 1673136173.848\n",
      "1169\n",
      "1169\n",
      "{'event_id': 176156139, 'fitburst_snr': 7.397936155269787, 'fitburst_dm': 348.72243200678594, 'fitburst_dm_error': 0.031591091978303, 'num_sub_bursts': 1, 'pulse_width_ms': [0.001577417488698], 'pulse_width_ms_error': [0.000303284541738], 'scattering_time_ms': 0.003154834977396, 'scattering_time_ms_error': 0, 'fitburst_amplitude': [4.3480422369765306e-05], 'fitburst_amplitude_error': [1.4017422189122422e-05], 'spectral_index': [-0.8061330616836221], 'spectral_index_error': [2.598426162337671], 'spectral_running': [-2.389732939868137], 'spectral_running_error': [4.515962606192444], 'Bandwidth': 0.0, 'Central Frequency': 0.0, 'UTC_400': ['2021-07-13 14:13:37.982290'], 'UTC_400_err': [0.000795914065847], 'type_of_data': 'intensity'} \n",
      "\n",
      "183057477\n"
     ]
    },
    {
     "name": "stderr",
     "output_type": "stream",
     "text": [
      "[2023-01-23 21:09:55,513] INFO Authorization Token : Expired\n",
      "[2023-01-23 21:09:55,514] INFO Reauthorize Method: Tokens\n",
      "[2023-01-23 21:09:56,051] WARNING It is required that you pass in a value for the \"algorithms\" argument when calling decode().\n",
      "[2023-01-23 21:09:56,052] INFO Reauthorize Result: Passed\n",
      "[2023-01-23 21:09:56,443] INFO Authorization Status: None\n",
      "[2023-01-23 21:09:56,444] INFO Authorization Method: Tokens\n"
     ]
    },
    {
     "name": "stdout",
     "output_type": "stream",
     "text": [
      "2021-08-29 11:11:26\n",
      "/data/chime/intensity/processed/2021/08/29/astro_183057477\n",
      "{'intensity-fitburst': 1663106132.444}\n",
      "Locked id 1663106132.444\n",
      "1169\n",
      "1169\n",
      "{'event_id': 183057477, 'fitburst_snr': 17.97915343513895, 'fitburst_dm': 349.2944009325112, 'fitburst_dm_error': 0.022756761411079, 'num_sub_bursts': 1, 'pulse_width_ms': [0.0022317226734050004], 'pulse_width_ms_error': [0.000244429814482], 'scattering_time_ms': 0.004463445346810001, 'scattering_time_ms_error': 0, 'fitburst_amplitude': [8.358712462883596e-08], 'fitburst_amplitude_error': [1.068157675326413e-07], 'spectral_index': [57.42647449050458], 'spectral_index_error': [9.719755427596555], 'spectral_running': [-109.15549103343841], 'spectral_running_error': [18.27878693589127], 'Bandwidth': 0.0, 'Central Frequency': 0.0, 'UTC_400': ['2021-08-29 11:11:26.896288'], 'UTC_400_err': [0.00044709107754100003], 'type_of_data': 'intensity'} \n",
      "\n",
      "188760049\n"
     ]
    },
    {
     "name": "stderr",
     "output_type": "stream",
     "text": [
      "[2023-01-23 21:09:56,934] INFO Authorization Token : Expired\n",
      "[2023-01-23 21:09:56,935] INFO Reauthorize Method: Tokens\n",
      "[2023-01-23 21:09:57,824] WARNING It is required that you pass in a value for the \"algorithms\" argument when calling decode().\n",
      "[2023-01-23 21:09:57,825] INFO Reauthorize Result: Passed\n",
      "[2023-01-23 21:09:58,378] INFO Authorization Status: None\n",
      "[2023-01-23 21:09:58,379] INFO Authorization Method: Tokens\n"
     ]
    },
    {
     "name": "stdout",
     "output_type": "stream",
     "text": [
      "2021-09-30 09:10:17\n",
      "/data/chime/intensity/processed/2021/09/30/astro_188760049\n",
      "{'intensity-calibration': '2021-10-13T14:49:39.582000', 'intensity-dm-pipeline': 1632993318.792, 'intensity-fitburst': 1674504440.665, 'header-localization': 1652116695.536}\n",
      "Locked id 1674504440.665\n",
      "3169\n",
      "3169\n",
      "{'event_id': 188760049, 'fitburst_snr': 13.216994551872503, 'fitburst_dm': 349.91169051072626, 'fitburst_dm_error': 0.08785871850671301, 'num_sub_bursts': 1, 'pulse_width_ms': [0.0020598968150100003], 'pulse_width_ms_error': [0.00023132013280200003], 'scattering_time_ms': 0.004119793630020001, 'scattering_time_ms_error': 0, 'fitburst_amplitude': [0.00013033656712200002], 'fitburst_amplitude_error': [2.9773518151463624e-05], 'spectral_index': [7.2338814162032055], 'spectral_index_error': [8.056960208539941], 'spectral_running': [-136.13232803471593], 'spectral_running_error': [66.67933465896508], 'Bandwidth': 0.0, 'Central Frequency': 0.0, 'UTC_400': ['2021-09-30 09:10:17.126028'], 'UTC_400_err': [0.001177738493086], 'type_of_data': 'intensity'} \n",
      "\n",
      "188760957\n"
     ]
    },
    {
     "name": "stderr",
     "output_type": "stream",
     "text": [
      "[2023-01-23 21:09:58,660] INFO Authorization Token : Expired\n",
      "[2023-01-23 21:09:58,661] INFO Reauthorize Method: Tokens\n",
      "[2023-01-23 21:09:59,139] WARNING It is required that you pass in a value for the \"algorithms\" argument when calling decode().\n",
      "[2023-01-23 21:09:59,140] INFO Reauthorize Result: Passed\n",
      "[2023-01-23 21:09:59,506] INFO Authorization Status: None\n",
      "[2023-01-23 21:09:59,507] INFO Authorization Method: Tokens\n"
     ]
    },
    {
     "name": "stdout",
     "output_type": "stream",
     "text": [
      "2021-09-30 09:32:38\n",
      "/data/chime/intensity/processed/2021/09/30/astro_188760957\n",
      "{'intensity-fitburst': 1632995010.624}\n",
      "Locked id 1632995010.624\n",
      "169\n",
      "169\n",
      "{'event_id': 188760957, 'fitburst_snr': 11.332086272899804, 'fitburst_dm': 349.5296541942308, 'fitburst_dm_error': 0.055181739197075, 'num_sub_bursts': 1, 'pulse_width_ms': [0.0021743316133050004], 'pulse_width_ms_error': [0.00027823387784400004], 'scattering_time_ms': 0.004348663226610001, 'scattering_time_ms_error': 0, 'fitburst_amplitude': [2.7719201596842044e-05], 'fitburst_amplitude_error': [1.2202009820266612e-05], 'spectral_index': [27.05884903160525], 'spectral_index_error': [8.22071158992608], 'spectral_running': [-131.3564742663251], 'spectral_running_error': [37.41377188542152], 'Bandwidth': 0.0, 'Central Frequency': 0.0, 'UTC_400': ['2021-09-30 09:32:38.521022'], 'UTC_400_err': [0.001344123107755], 'type_of_data': 'intensity'} \n",
      "\n",
      "198142107\n"
     ]
    },
    {
     "name": "stderr",
     "output_type": "stream",
     "text": [
      "[2023-01-23 21:09:59,822] INFO Authorization Token : Expired\n",
      "[2023-01-23 21:09:59,823] INFO Reauthorize Method: Tokens\n",
      "[2023-01-23 21:10:00,339] WARNING It is required that you pass in a value for the \"algorithms\" argument when calling decode().\n",
      "[2023-01-23 21:10:00,340] INFO Reauthorize Result: Passed\n",
      "[2023-01-23 21:10:00,710] INFO Authorization Status: None\n",
      "[2023-01-23 21:10:00,710] INFO Authorization Method: Tokens\n"
     ]
    },
    {
     "name": "stdout",
     "output_type": "stream",
     "text": [
      "2021-11-18 06:22:54\n",
      "/data/chime/intensity/processed/2021/11/18/astro_198142107\n",
      "{'intensity-fitburst': 1667330556.964, 'intensity-dm-pipeline': 1667330084.148}\n",
      "Locked id 1667330556.964\n",
      "1169\n",
      "1169\n",
      "{'event_id': 198142107, 'fitburst_snr': 14.129389627111546, 'fitburst_dm': 350.21475012766626, 'fitburst_dm_error': 0.04690739722823101, 'num_sub_bursts': 1, 'pulse_width_ms': [0.0036849673246810003], 'pulse_width_ms_error': [0.00037485593172900005], 'scattering_time_ms': 0.007369934649362001, 'scattering_time_ms_error': 0, 'fitburst_amplitude': [2.055788006008318e-05], 'fitburst_amplitude_error': [9.065563171975668e-06], 'spectral_index': [21.735708727071508], 'spectral_index_error': [4.900103704355601], 'spectral_running': [-60.85367673721211], 'spectral_running_error': [13.276061216801958], 'Bandwidth': 0.0, 'Central Frequency': 0.0, 'UTC_400': ['2021-11-18 06:22:54.953842'], 'UTC_400_err': [0.0024389469286710003], 'type_of_data': 'intensity'} \n",
      "\n",
      "201096712\n"
     ]
    },
    {
     "name": "stderr",
     "output_type": "stream",
     "text": [
      "[2023-01-23 21:10:01,022] INFO Authorization Token : Expired\n",
      "[2023-01-23 21:10:01,023] INFO Reauthorize Method: Tokens\n",
      "[2023-01-23 21:10:01,569] WARNING It is required that you pass in a value for the \"algorithms\" argument when calling decode().\n",
      "[2023-01-23 21:10:01,570] INFO Reauthorize Result: Passed\n"
     ]
    },
    {
     "name": "stdout",
     "output_type": "stream",
     "text": [
      "2021-12-05 05:01:59\n",
      "/data/chime/intensity/processed/2021/12/05/astro_201096712\n",
      "{'intensity-dm-pipeline': 1674501805.648, 'intensity-fitburst': 1674507245.677}\n",
      "Locked id 1674507245.677\n",
      "1169\n",
      "1169\n",
      "{'event_id': 201096712, 'fitburst_snr': 7.6775055404276635, 'fitburst_dm': 349.24552503509335, 'fitburst_dm_error': 0.015856226037773, 'num_sub_bursts': 1, 'pulse_width_ms': [0.0009999999], 'pulse_width_ms_error': [0.000185558901666], 'scattering_time_ms': 0.0019999998, 'scattering_time_ms_error': 0, 'fitburst_amplitude': [2.329562615305814e-05], 'fitburst_amplitude_error': [8.954600840376394e-06], 'spectral_index': [-0.09156356017540901], 'spectral_index_error': [2.5704288483414492], 'spectral_running': [-1.146494757051617], 'spectral_running_error': [3.833635157811746], 'Bandwidth': 0.0, 'Central Frequency': 0.0, 'UTC_400': ['2021-12-05 05:01:59.850211'], 'UTC_400_err': [0.007311715784967], 'type_of_data': 'intensity'} \n",
      "\n"
     ]
    }
   ],
   "source": [
    "All_event_data = []\n",
    "no_lock = []\n",
    "failed = []\n",
    "r3_events = []\n",
    "r2_events = []\n",
    "for e in R3_int_pub:\n",
    "    R3_fitburst_event = {'event_id': e,\n",
    "                         'fitburst_snr': 0,\n",
    "                         'fitburst_dm': 0,\n",
    "                         'fitburst_dm_error':0.0,\n",
    "                         'num_sub_bursts':0,\n",
    "                         'pulse_width_ms': [0],\n",
    "                         'pulse_width_ms_error': [0],\n",
    "                         'scattering_time_ms': 0,\n",
    "                         'scattering_time_ms_error': 0,\n",
    "                         'fitburst_amplitude': [0],\n",
    "                         'fitburst_amplitude_error': [0],\n",
    "                         'spectral_index': [0],\n",
    "                         'spectral_index_error': [0],\n",
    "                         'spectral_running': [0],\n",
    "                         'spectral_running_error':[0],\n",
    "                         'Bandwidth':0.0,\n",
    "                         'Central Frequency':0.0,\n",
    "                         'UTC_400': 0.0,\n",
    "                         'UTC_400_err':0.0,\n",
    "                         'type_of_data': 'intensity'\n",
    "                        }\n",
    "    frb_master_base_url = \"http://frb-vsop.chime:8001\"\n",
    "    master = frb_master.FRBMaster(base_url = frb_master_base_url)\n",
    "\n",
    "\n",
    "    event_id = e\n",
    "    print(event_id)\n",
    "\n",
    "    event = master.events.get_event(event_number=int(event_id))\n",
    "    \n",
    "    burst_time_str = event['measured_parameters'][0]['datetime'][0:19]\n",
    "    burst_time = dt.datetime.strptime(burst_time_str, \"%Y-%m-%d %H:%M:%S\")\n",
    "    print(burst_time)\n",
    "\n",
    "    year = burst_time.strftime(\"%Y\")\n",
    "    month = burst_time.strftime(\"%m\")\n",
    "    day = burst_time.strftime(\"%d\")\n",
    "\n",
    "    file = '/data/chime/intensity/processed/{}/{}/{}/astro_{}'.format(year, month, day, event_id)\n",
    "    gc.collect()\n",
    "    print(file)\n",
    "    try:\n",
    "        print(event['locked'])\n",
    "    except:\n",
    "        print(\"NO LOCKED DATA\")\n",
    "        no_lock.append(e)\n",
    "\n",
    "    try:\n",
    "        round2 = False\n",
    "        round3 = False\n",
    "        complete = False\n",
    "        if \"locked\" in event:\n",
    "            if \"intensity-fitburst\" in event[\"locked\"]:\n",
    "                locked_id = event[\"locked\"][\"intensity-fitburst\"]\n",
    "                print(\"Locked id\", locked_id)\n",
    "                for mp in event[\"measured_parameters\"]:\n",
    "                    if mp[\"pipeline\"][\"name\"] == \"intensity-fitburst\":\n",
    "                        if (mp[\"measurement_id\"] == locked_id) \\\n",
    "                            and not (mp[\"pipeline\"][\"status\"] == \"ERROR\"):\n",
    "                            if mp[\"pipeline\"][\"logs\"] == \"Round 2 - \":\n",
    "                                round2_results = mp\n",
    "                                round2 = True\n",
    "                                print(mp[\"beam_number\"])\n",
    "                            if mp[\"pipeline\"][\"logs\"] == \"Round 3 - \":\n",
    "                                round3_results = mp\n",
    "                                round3 = True\n",
    "                                print(mp[\"beam_number\"])\n",
    "            # pick round 3 over round 2 as in first catalog\n",
    "            if round3 \\\n",
    "                and \"snr\" in round3_results.keys() and \"ftest_statistic\" in round3_results.keys() \\\n",
    "                and round3_results[\"snr\"] >= round2_results[\"snr\"] \\\n",
    "                and round3_results[\"ftest_statistic\"] <= 0.001 \\\n",
    "                and (np.array(round3_results[\"sub_burst_scattering_timescale\"]) >= 0.0001).all() \\\n",
    "                and (np.array(round3_results[\"sub_burst_scattering_timescale\"]) \\\n",
    "                    > 1 * np.array(round3_results[\"sub_burst_scattering_timescale_error\"])).all():\n",
    "                print(\"##########ROUND 3 is a better fit#########\")\n",
    "                r3_events.append(e)\n",
    "                R3_fitburst_event['fitburst_snr'] = round3_results[\"snr\"]\n",
    "                R3_fitburst_event['fitburst_dm'] = round3_results[\"sub_burst_dm\"][0]\n",
    "                R3_fitburst_event['fitburst_dm_error'] = round3_results[\"sub_burst_dm_error\"][0]\n",
    "                R3_fitburst_event['num_sub_bursts'] = len(round3_results[\"sub_burst_width\"])\n",
    "                R3_fitburst_event['pulse_width_ms'] = round3_results[\"sub_burst_width\"]\n",
    "                R3_fitburst_event['pulse_width_ms_error'] = round3_results[\"sub_burst_width_error\"]\n",
    "                R3_fitburst_event['scattering_time_ms'] = round3_results[\"sub_burst_scattering_timescale\"][0]\n",
    "                R3_fitburst_event['scattering_time_ms_error'] = round3_results[\"sub_burst_scattering_timescale_error\"][0]\n",
    "                R3_fitburst_event['fitburst_amplitude'] = round3_results[\"sub_burst_fluence\"]\n",
    "                R3_fitburst_event['fitburst_amplitude_error'] = round3_results[\"sub_burst_fluence_error\"]\n",
    "                R3_fitburst_event['spectral_index'] = round3_results[\"sub_burst_spectral_index\"]\n",
    "                R3_fitburst_event['spectral_index_error'] = round3_results[\"sub_burst_spectral_index_error\"]\n",
    "                R3_fitburst_event['spectral_running'] = round3_results[\"sub_burst_spectral_running\"]\n",
    "                R3_fitburst_event['spectral_running_error'] = round3_results[\"sub_burst_spectral_running_error\"]\n",
    "                R3_fitburst_event['UTC_400'] = round3_results[\"sub_burst_timestamp_UTC\"]\n",
    "                R3_fitburst_event['UTC_400_err'] = round3_results[\"sub_burst_timestamp_error\"]\n",
    "                complete = True\n",
    "            elif round2:\n",
    "                r2_events.append(e)\n",
    "                R3_fitburst_event['fitburst_snr'] = round2_results[\"snr\"]\n",
    "                R3_fitburst_event['fitburst_dm'] = round2_results[\"sub_burst_dm\"][0]\n",
    "                R3_fitburst_event['fitburst_dm_error'] = round2_results[\"sub_burst_dm_error\"][0]\n",
    "                R3_fitburst_event['num_sub_bursts'] = len(round2_results[\"sub_burst_width\"])\n",
    "                R3_fitburst_event['pulse_width_ms'] = round2_results[\"sub_burst_width\"]\n",
    "                R3_fitburst_event['pulse_width_ms_error'] = round2_results[\"sub_burst_width_error\"]\n",
    "                R3_fitburst_event['scattering_time_ms'] = 2 * min(round2_results[\"sub_burst_width\"])\n",
    "                R3_fitburst_event['fitburst_amplitude'] = round2_results[\"sub_burst_fluence\"]\n",
    "                R3_fitburst_event['fitburst_amplitude_error'] = round2_results[\"sub_burst_fluence_error\"]\n",
    "                R3_fitburst_event['spectral_index'] = round2_results[\"sub_burst_spectral_index\"]\n",
    "                R3_fitburst_event['spectral_index_error'] = round2_results[\"sub_burst_spectral_index_error\"]\n",
    "                R3_fitburst_event['spectral_running'] = round2_results[\"sub_burst_spectral_running\"]\n",
    "                R3_fitburst_event['spectral_running_error'] = round2_results[\"sub_burst_spectral_running_error\"]\n",
    "                R3_fitburst_event['UTC_400'] = round2_results[\"sub_burst_timestamp_UTC\"]\n",
    "                R3_fitburst_event['UTC_400_err'] = round2_results[\"sub_burst_timestamp_error\"]\n",
    "                complete = True\n",
    "    except:\n",
    "        print(\"EVENT FAILED\")\n",
    "        failed.append(e)\n",
    "\n",
    "    \n",
    "    print(R3_fitburst_event, \"\\n\")\n",
    "    All_event_data.append(R3_fitburst_event)\n",
    "    gc.collect()"
   ]
  },
  {
   "cell_type": "code",
   "execution_count": 7,
   "id": "565d4e30",
   "metadata": {},
   "outputs": [
    {
     "name": "stdout",
     "output_type": "stream",
     "text": [
      "{'event_id': 157779605, 'fitburst_snr': 18.418199218993657, 'fitburst_dm': 348.772, 'fitburst_dm_error': 0.0, 'num_sub_bursts': 1, 'pulse_width_ms': [0.001779030418484], 'pulse_width_ms_error': [8.123560044916047e-06], 'scattering_time_ms': 0.002662012109273, 'scattering_time_ms_error': 7.310451091642492e-06, 'fitburst_amplitude': [-3.869625612528428], 'fitburst_amplitude_error': [0.029384464439283], 'spectral_index': [0], 'spectral_index_error': [0], 'spectral_running': [0], 'spectral_running_error': [0], 'Bandwidth': [40.37254951976685], 'Central Frequency': [668.0375455002746], 'UTC_400': array(['2021-02-14 00:12:42.949611'], dtype='<U26'), 'UTC_400_err': 0.0, 'type_of_data': 'intensity'} \n",
      "\n",
      "{'event_id': 162981697, 'fitburst_snr': 3.928380589899192, 'fitburst_dm': 348.772, 'fitburst_dm_error': 0.0, 'num_sub_bursts': 1, 'pulse_width_ms': [0.001832425914638], 'pulse_width_ms_error': [0.00033755373790000004], 'scattering_time_ms': 0.002302564548625, 'scattering_time_ms_error': 0.000617471440872, 'fitburst_amplitude': [-3.910761908712735], 'fitburst_amplitude_error': [0.06387598248821201], 'spectral_index': [0], 'spectral_index_error': [0], 'spectral_running': [0], 'spectral_running_error': [0], 'Bandwidth': [51.90657993311264], 'Central Frequency': [432.1598237245552], 'UTC_400': array(['2021-03-01 23:21:50.418838'], dtype='<U26'), 'UTC_400_err': 0.0, 'type_of_data': 'intensity'} \n",
      "\n",
      "{'event_id': 163181404, 'fitburst_snr': 10.975732117535694, 'fitburst_dm': 348.772, 'fitburst_dm_error': 0.0, 'num_sub_bursts': 1, 'pulse_width_ms': [0.00160313585354], 'pulse_width_ms_error': [0.00026012247276800004], 'scattering_time_ms': 0.002091745567723, 'scattering_time_ms_error': 0.000658436178943, 'fitburst_amplitude': [-3.8825864986221372], 'fitburst_amplitude_error': [0.065607212569753], 'spectral_index': [0], 'spectral_index_error': [0], 'spectral_running': [0], 'spectral_running_error': [0], 'Bandwidth': [28.610219874167107], 'Central Frequency': [489.9491616397749], 'UTC_400': array(['2021-03-02 23:28:27.391257'], dtype='<U26'), 'UTC_400_err': 0.0, 'type_of_data': 'intensity'} \n",
      "\n",
      "{'event_id': 165238765, 'fitburst_snr': 14.653257679694189, 'fitburst_dm': 348.772, 'fitburst_dm_error': 0.0, 'num_sub_bursts': 1, 'pulse_width_ms': [0.00057402191802], 'pulse_width_ms_error': [0.00014323136656700002], 'scattering_time_ms': 0.0020804230522540003, 'scattering_time_ms_error': 0.00047677569683400004, 'fitburst_amplitude': [-3.6155628850517862], 'fitburst_amplitude_error': [0.057319982506259005], 'spectral_index': [0], 'spectral_index_error': [0], 'spectral_running': [0], 'spectral_running_error': [0], 'Bandwidth': [11.508242108998923], 'Central Frequency': [434.2402382421003], 'UTC_400': array(['2021-03-20 21:41:56.454417'], dtype='<U26'), 'UTC_400_err': 0.0, 'type_of_data': 'intensity'} \n",
      "\n",
      "{'event_id': 175084048, 'fitburst_snr': 14.007091941951145, 'fitburst_dm': 348.772, 'fitburst_dm_error': 0.0, 'num_sub_bursts': 1, 'pulse_width_ms': [0.0013640287137640001], 'pulse_width_ms_error': [0.000267663624953], 'scattering_time_ms': 0.002173008391117, 'scattering_time_ms_error': 0.0008759858795910001, 'fitburst_amplitude': [-3.511348885413502], 'fitburst_amplitude_error': [0.10067508965485801], 'spectral_index': [0], 'spectral_index_error': [0], 'spectral_running': [0], 'spectral_running_error': [0], 'Bandwidth': [21.872062511916205], 'Central Frequency': [396.3341520070669], 'UTC_400': array(['2021-06-26 15:52:16.182347'], dtype='<U26'), 'UTC_400_err': 0.0, 'type_of_data': 'intensity'} \n",
      "\n",
      "{'event_id': 175930797, 'fitburst_snr': 12.782363235980267, 'fitburst_dm': 348.772, 'fitburst_dm_error': 0.0, 'num_sub_bursts': 1, 'pulse_width_ms': [0.000363959424903], 'pulse_width_ms_error': [4.978273649051842e-06], 'scattering_time_ms': 0.000562214298365, 'scattering_time_ms_error': 2.528460918862922e-06, 'fitburst_amplitude': [-4.158724684374175], 'fitburst_amplitude_error': [0.040443831110895], 'spectral_index': [0], 'spectral_index_error': [0], 'spectral_running': [0], 'spectral_running_error': [0], 'Bandwidth': [26.19960077763819], 'Central Frequency': [665.5066423310699], 'UTC_400': array(['2021-07-11 14:32:49.256215'], dtype='<U26'), 'UTC_400_err': 0.0, 'type_of_data': 'intensity'} \n",
      "\n"
     ]
    }
   ],
   "source": [
    "##### Here timestamp is taken using different notebook get TOA ######\n",
    "tstamps = [['2021-02-14 00:12:42.949611'], ['2021-03-01 23:21:50.418838'], ['2021-03-02 23:28:27.391257'], \n",
    "           ['2021-03-20 21:41:56.454417'], ['2021-06-26 15:52:16.182347'], ['2021-07-11 14:32:49.256215']]\n",
    "tstamps = np.array(tstamps)\n",
    "for i in range(len(R3_e_fon)):\n",
    "    event_id = R3_e_fon[i]\n",
    "    file  = '/data/user-data/efonseca/runs/R3/solutions/with_scattering/results_fitburst_{}.json'.format(event_id)\n",
    "    data = pd.read_json(file)\n",
    "\n",
    "    R3_fitburst_event = {'event_id': event_id,\n",
    "                         'fitburst_snr': 0,\n",
    "                         'fitburst_dm': 0,\n",
    "                         'fitburst_dm_error':0.0,\n",
    "                         'num_sub_bursts':0,\n",
    "                         'pulse_width_ms': [0],\n",
    "                         'pulse_width_ms_error': [0],\n",
    "                         'scattering_time_ms': 0,\n",
    "                         'scattering_time_ms_error': 0,\n",
    "                         'fitburst_amplitude': [0],\n",
    "                         'fitburst_amplitude_error': [0],\n",
    "                         'spectral_index': [0],\n",
    "                         'spectral_index_error': [0],\n",
    "                         'spectral_running': [0],\n",
    "                         'spectral_running_error':[0],\n",
    "                         'Bandwidth':0.0,\n",
    "                         'Central Frequency':0.0,\n",
    "                         'UTC_400': 0.0,\n",
    "                         'UTC_400_err':0.0,\n",
    "                         'type_of_data': 'intensity'\n",
    "                        }\n",
    "\n",
    "\n",
    "    R3_fitburst_event['fitburst_snr'] = data[\"fit_statistics\"][\"snr\"]\n",
    "    R3_fitburst_event['fitburst_dm'] = data[\"model_parameters\"][\"dm\"][0]\n",
    "    R3_fitburst_event['num_sub_bursts'] = len(data[\"fit_statistics\"][\"bestfit_parameters\"][\"burst_width\"])\n",
    "    R3_fitburst_event['pulse_width_ms'] = data[\"fit_statistics\"][\"bestfit_parameters\"][\"burst_width\"]\n",
    "    R3_fitburst_event['pulse_width_ms_error'] = data[\"fit_statistics\"][\"bestfit_uncertainties\"][\"burst_width\"]\n",
    "    R3_fitburst_event['scattering_time_ms'] = data[\"fit_statistics\"][\"bestfit_parameters\"][\"scattering_timescale\"][0]\n",
    "    R3_fitburst_event['scattering_time_ms_error'] = data[\"fit_statistics\"][\"bestfit_uncertainties\"][\"scattering_timescale\"][0]\n",
    "    R3_fitburst_event['fitburst_amplitude'] = data[\"fit_statistics\"][\"bestfit_parameters\"][\"amplitude\"]\n",
    "    R3_fitburst_event['fitburst_amplitude_error'] = data[\"fit_statistics\"][\"bestfit_uncertainties\"][\"amplitude\"]\n",
    "    R3_fitburst_event['Central Frequency'] = data[\"fit_statistics\"][\"bestfit_parameters\"][\"freq_mean\"]\n",
    "    R3_fitburst_event['Bandwidth'] = data[\"fit_statistics\"][\"bestfit_parameters\"][\"freq_width\"]\n",
    "    R3_fitburst_event['UTC_400'] = tstamps[i]\n",
    "\n",
    "    print(R3_fitburst_event, \"\\n\")\n",
    "    All_event_data.append(R3_fitburst_event)"
   ]
  },
  {
   "cell_type": "code",
   "execution_count": 8,
   "id": "366861da",
   "metadata": {},
   "outputs": [],
   "source": [
    "import csv\n",
    "field_names = ['event_id','fitburst_snr','fitburst_dm','fitburst_dm_error','num_sub_bursts','pulse_width_ms',\n",
    "              'pulse_width_ms_error','scattering_time_ms','scattering_time_ms_error','fitburst_amplitude',\n",
    "              'fitburst_amplitude_error','spectral_index','spectral_index_error','spectral_running',\n",
    "              'spectral_running_error','Bandwidth','Central Frequency','UTC_400','UTC_400_err',\n",
    "              'type_of_data']\n",
    "with open('R3_intensity_pub.csv', 'w') as csvfile:\n",
    "    writer = csv.DictWriter(csvfile, fieldnames = field_names)\n",
    "    writer.writeheader()\n",
    "    writer.writerows(All_event_data)"
   ]
  },
  {
   "cell_type": "code",
   "execution_count": 28,
   "id": "c0e3756a",
   "metadata": {},
   "outputs": [],
   "source": [
    "from iautils import scripts"
   ]
  },
  {
   "cell_type": "code",
   "execution_count": null,
   "id": "ffcded2f",
   "metadata": {},
   "outputs": [],
   "source": [
    "timestamps = scripts.compute_timestamps.compute_timestamps([eventid], ftest_threshold=0.001, precision=5, \n",
    "                                                    rajd=catalog_event[\"ra\"], decjd=catalog_event[\"dec\"])\n",
    "catalog_event['toa'] = timestamps[eventid][\"fitburst_timestamp_UTC_MJD\"]\n",
    "catalog_event['toa_error'] = timestamps[eventid][\"fitburst_mjd_err\"]\n",
    "catalog_event['toa_inf'] = timestamps[eventid][\"corrected_timestamp_infinite_freq_MJD\"]\n",
    "catalog_event['toa_inf_error'] = timestamps[eventid][\"corrected_timestamp_inf_MJD_err\"]\n",
    "if complete[\"localization\"]:\n",
    "    catalog_event['toas_inf'] = timestamps[eventid][\"corrected_timestamp_infinite_freq_MJD_bary\"]\n",
    "complete[\"toas\"] = True"
   ]
  },
  {
   "cell_type": "code",
   "execution_count": null,
   "id": "f840183a",
   "metadata": {},
   "outputs": [],
   "source": []
  }
 ],
 "metadata": {
  "kernelspec": {
   "display_name": "Python 3 (ipykernel)",
   "language": "python",
   "name": "python3"
  },
  "language_info": {
   "codemirror_mode": {
    "name": "ipython",
    "version": 3
   },
   "file_extension": ".py",
   "mimetype": "text/x-python",
   "name": "python",
   "nbconvert_exporter": "python",
   "pygments_lexer": "ipython3",
   "version": "3.7.9"
  }
 },
 "nbformat": 4,
 "nbformat_minor": 5
}
