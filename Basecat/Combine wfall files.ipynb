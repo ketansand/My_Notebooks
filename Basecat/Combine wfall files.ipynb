{
 "cells": [
  {
   "cell_type": "code",
   "execution_count": 1,
   "id": "750c591a",
   "metadata": {},
   "outputs": [],
   "source": [
    "import sys\n",
    "from PIL import Image"
   ]
  },
  {
   "cell_type": "code",
   "execution_count": 9,
   "id": "4fcae318",
   "metadata": {},
   "outputs": [],
   "source": [
    "events = [28129879]"
   ]
  },
  {
   "cell_type": "code",
   "execution_count": 2,
   "id": "7888da9b",
   "metadata": {},
   "outputs": [],
   "source": [
    "events = [22154974, 22310619, 22457855, 22574084, 23070533, 23232723, 23438043, 23463808, 23526901, 23613379, 23723094, 23789294, 23891929, 23907110, 23948798, 24114218, 24194876, 24342210, 24365582, 24366209, 24510924, 24512726, 24644651, 25281508, 25660576, 25677682, 25884250, 26690059, 26804245, 27052203, 27112562, 27618689, 27687783, 28012492, 28129879, 28783556, 28845693, 29100738, 29204654, 29332367, 29433373, 29641002, 29866131, 30105124, 30282040, 30286763, 30502098, 30557515, 30904409, 31641122, 31644043, 31818035, 31938812, 32158184, 32328347, 32407381, 32415255, 33749364, 33769804, 33928716, 34024464, 34114954, 34532625, 35579228, 36154661, 36234050, 36370989, 36427698, 37129627, 37253504, 37338232, 37342401, 37637444, 37696333, 37888771, 37948191, 38176957, 38440671, 38536189, 38547575, 38552211, 38588698, 39069820, 39095517, 39189271, 39218186, 39240093, 40594289, 40608623, 40750224, 40750656, 40949542, 41006263, 41119469, 41189480, 41208961, 41242296, 41252817, 41257959, 41358073, 41366878, 41422618, 41464641, 41473417, 41507681, 41597828, 41643446, 41683788, 41692959, 41710598, 41742525, 41750859, 41788644, 41802046, 41866365, 41866423, 41866523, 41872738, 41965143, 42059187, 42095127, 42186702, 42295086, 42435604, 42608900, 42630260, 42637411, 42800571, 42809769, 42964441, 43054366, 43098433, 43123299, 43153989, 43168950, 43244763, 43246206]"
   ]
  },
  {
   "cell_type": "code",
   "execution_count": 10,
   "id": "cf923ba4",
   "metadata": {},
   "outputs": [
    {
     "name": "stdout",
     "output_type": "stream",
     "text": [
      "3338\n",
      "1578\n"
     ]
    }
   ],
   "source": [
    "for event in events:\n",
    "\n",
    "    bb_wfall = '/Users/ketansand/Notebooks/Basecat/Basecat_baseband_wfall_v2/{}_Profile_wfall.jpg'.format(event)\n",
    "    int_wfall = '/Users/ketansand/Notebooks/Basecat/Basecat_intensity_wfall_v2/{}_intensity_wfall.jpg'.format(event)\n",
    "    images = [Image.open(x) for x in [int_wfall, bb_wfall]]\n",
    "    widths, heights = zip(*(i.size for i in images))\n",
    "\n",
    "    total_width = sum(widths)\n",
    "    max_height = min(heights)\n",
    "    \n",
    "    print(total_width)\n",
    "    print(max_height)\n",
    "\n",
    "    new_im = Image.new('RGB', (total_width, max_height))\n",
    "\n",
    "    x_offset = 0\n",
    "    for im in images:\n",
    "      new_im.paste(im, (x_offset,0))\n",
    "      x_offset += im.size[0]\n",
    "\n",
    "    save_name = '/Users/ketansand/Notebooks/Basecat/Paper_plots/{}_combined.pdf'.format(event)\n",
    "    new_im.save(save_name)"
   ]
  },
  {
   "cell_type": "code",
   "execution_count": null,
   "id": "a1db5dee",
   "metadata": {},
   "outputs": [],
   "source": []
  }
 ],
 "metadata": {
  "kernelspec": {
   "display_name": "Python 3",
   "language": "python",
   "name": "python3"
  },
  "language_info": {
   "codemirror_mode": {
    "name": "ipython",
    "version": 3
   },
   "file_extension": ".py",
   "mimetype": "text/x-python",
   "name": "python",
   "nbconvert_exporter": "python",
   "pygments_lexer": "ipython3",
   "version": "3.8.8"
  }
 },
 "nbformat": 4,
 "nbformat_minor": 5
}
