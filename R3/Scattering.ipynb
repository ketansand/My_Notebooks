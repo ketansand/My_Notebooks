{
 "cells": [
  {
   "cell_type": "code",
   "execution_count": 5,
   "id": "41b4b47f",
   "metadata": {},
   "outputs": [],
   "source": [
    "import numpy as np\n",
    "import pandas as pd\n",
    "import matplotlib.pyplot as plt\n",
    "from uncertainties import ufloat\n",
    "from uncertainties.umath import *"
   ]
  },
  {
   "cell_type": "code",
   "execution_count": 21,
   "id": "a6623335",
   "metadata": {},
   "outputs": [],
   "source": [
    "### Converting scin bw to scattering ###\n",
    "def f_to_sc(fsci): ###bandwidth in MHz\n",
    "    sc = 1/(2*np.pi*fsci)\n",
    "\n",
    "def scale_sc(sc, obs_freq, ref_f=1000, p=-4):\n",
    "    sc_1g = sc*((ref_f/obs_freq)**p)\n",
    "    return sc_1g\n",
    "    "
   ]
  },
  {
   "cell_type": "code",
   "execution_count": 7,
   "id": "30ef56f1",
   "metadata": {},
   "outputs": [
    {
     "name": "stdout",
     "output_type": "stream",
     "text": [
      "[0.14874294 0.15757915 0.04681028] [0.01017725 0.01763014 0.00052589]\n"
     ]
    }
   ],
   "source": [
    "###### Getting scattering for effelesberg bursts ######\n",
    "sc_bw = [1.07,1.01,3.4] ##MHz\n",
    "sc_bw_err = [0.46,0.71,0.24]\n",
    "\n",
    "sc_bw=np.array(sc_bw)\n",
    "sc_bw_err = np.array(sc_bw_err)\n",
    "\n",
    "sc_eff, sc_err_eff = f_to_sc(sc_bw,sc_bw_err) ### in microseconds\n",
    "\n",
    "print(sc_eff,sc_err_eff)"
   ]
  },
  {
   "cell_type": "code",
   "execution_count": 8,
   "id": "f3e8d5b0",
   "metadata": {},
   "outputs": [],
   "source": [
    "#### MJD for R3 detections by other telescopes ####\n",
    "MJD_others = [58931.4200371, 58931.4523516, 58932.3291835, 58802.25840267, 58836.16929624, 58836.16929695,\n",
    "              58836.17591822, 58868.08221442, 58868.08461892, 58868.08679636, 58653.2785078914, 58708.14344,\n",
    "              58722.20383, 58723.21829, 59353.830062663, 59435.751975537, 59484.464427655]\n",
    "MJD_others = np.array(MJD_others)\n"
   ]
  },
  {
   "cell_type": "code",
   "execution_count": 9,
   "id": "eb9740a7",
   "metadata": {},
   "outputs": [],
   "source": [
    "#### Reading Scattering data ####\n",
    "\n",
    "data_sc = pd.read_csv('/Users/ketansand/Downloads/Codes/CSV/Scattering.csv')\n",
    "freq = data_sc[\"Freq\"].to_numpy()\n",
    "sc = data_sc[\"Scattering\"].to_numpy()\n",
    "sc_errs = data_sc[\"Sc_Err\"].to_numpy()\n",
    "\n",
    "data_BB = pd.read_csv('BB_data_R3.csv')\n",
    "sc_BB = data_BB['Scattering(s)'].to_numpy()\n",
    "sc_err_BB = data_BB['Sc_err(s)'].to_numpy()\n",
    "MJD_BB = data_BB['MJD'].to_numpy()\n",
    "freq_BB = np.full(len(sc_BB),600)"
   ]
  },
  {
   "cell_type": "code",
   "execution_count": 12,
   "id": "e13118c2",
   "metadata": {},
   "outputs": [
    {
     "name": "stdout",
     "output_type": "stream",
     "text": [
      "0.000510144888315302 0.0003598110823086 0.0022331977864801 8.772376470278798e-05\n"
     ]
    }
   ],
   "source": [
    "print(np.mean(sc_BB), np.median(sc_BB), np.max(sc_BB), np.min(sc_BB))"
   ]
  },
  {
   "cell_type": "code",
   "execution_count": 13,
   "id": "66356a09",
   "metadata": {},
   "outputs": [
    {
     "name": "stdout",
     "output_type": "stream",
     "text": [
      "[2.51000000e+00 1.65000000e+00 1.16000000e+00 2.90000000e+00\n",
      " 5.90000000e+00 5.90000000e+00 1.70000000e+00 4.10000000e+00\n",
      " 3.10000000e+00 1.80000000e+00 3.00000000e-03 5.41420000e+01\n",
      " 9.45500000e+01 4.66900000e+01 1.48742937e-04 1.57579152e-04\n",
      " 4.68102774e-05]\n",
      "[4.00000000e-01 5.00000000e-01 3.00000000e-01 1.00000000e-04\n",
      " 3.00000000e-01 3.00000000e-01 1.00000000e-04 3.00000000e-01\n",
      " 5.00000000e-01 9.00000000e-01 1.00000000e-04 4.00000000e-03\n",
      " 2.00000000e-02 3.00000000e-02 1.01772523e-05 1.76301442e-05\n",
      " 5.25888496e-07]\n",
      "[ 400  400  800  350  350  350  350  350  350  350 1700  150  150  150\n",
      " 5000 5000 5000]\n"
     ]
    }
   ],
   "source": [
    "sc_others = []\n",
    "sc_err_others = []\n",
    "freq_others = []\n",
    "for i in range(len(sc)):\n",
    "    if (freq[i]!=328) and (sc_errs[i]<10):\n",
    "        sc_others.append(sc[i])\n",
    "        sc_err_others.append(sc_errs[i])\n",
    "        freq_others.append(freq[i])\n",
    "        \n",
    "for j in range(len(sc_eff)):\n",
    "    sc_others.append(sc_eff[j]/1e3)\n",
    "    sc_err_others.append(sc_err_eff[j]/1e3)\n",
    "    freq_others.append(5000)\n",
    "\n",
    "sc_others = np.array(sc_others)\n",
    "sc_err_others = np.array(sc_err_others)\n",
    "freq_others = np.array(freq_others)\n",
    "\n",
    "print(sc_others)\n",
    "print(sc_err_others)\n",
    "print(freq_others)"
   ]
  },
  {
   "cell_type": "code",
   "execution_count": 14,
   "id": "a1e9a8e1",
   "metadata": {},
   "outputs": [],
   "source": [
    "sc_err_BB = sc_err_BB*1e3 ## Converting to milliseconds\n",
    "sc_BB = sc_BB*1e3\n",
    "sc_all = np.concatenate((sc_others,sc_BB)) ### Combining data\n",
    "sc_err_all = np.concatenate((sc_err_others,sc_err_BB))\n",
    "freq_all = np.concatenate((freq_others,freq_BB))\n",
    "Mjd_all = np.concatenate((MJD_others,MJD_BB))"
   ]
  },
  {
   "cell_type": "code",
   "execution_count": 15,
   "id": "9e5e8acf",
   "metadata": {},
   "outputs": [
    {
     "name": "stdout",
     "output_type": "stream",
     "text": [
      "[0.49580247 0.32592593 3.66617284 0.335788   0.6831549  0.6831549\n",
      " 0.19684124 0.47473476 0.35894579 0.20842014 0.19333565 0.21149219\n",
      " 0.36933594 0.18238281 0.71731741 0.75993032 0.22574401 0.80186315\n",
      " 0.56449695 0.25310975 0.28958772 1.54579716 0.2702961  0.71212348\n",
      " 0.13658506 2.23319779 0.57490646 2.20939471 0.35981108 0.35757661\n",
      " 0.59587738 0.56958596 0.4477475  0.13512326 0.45124572 0.15793692\n",
      " 0.49863251 0.19119343 0.33294788 1.0114809  0.87564708 0.19000777\n",
      " 0.64886114 0.16012003 0.2541209  0.2013459  0.49531791 0.24648686\n",
      " 0.46075733 0.08772376 0.88414172 0.18030317 0.32425621 0.35633803\n",
      " 0.4432835  0.15657131 0.66020971 0.41539796 0.40344524 0.25599499\n",
      " 0.21976821 0.33590375]\n"
     ]
    },
    {
     "data": {
      "image/png": "[encoded data removed]",
      "text/plain": [
       "<Figure size 576x432 with 1 Axes>"
      ]
     },
     "metadata": {
      "needs_background": "light"
     },
     "output_type": "display_data"
    }
   ],
   "source": [
    "sc_ref = scale_sc(sc_all,freq_all,600)\n",
    "print(sc_ref)\n",
    "ne2001 = scale_sc(0.021,1000,600)\n",
    "plt.figure(figsize=(8,6))\n",
    "plt.plot(Mjd_all, sc_ref, linestyle='', marker='o')\n",
    "plt.xlabel(\"MJD\", fontsize=14)\n",
    "plt.ylabel(\"Scattering(ms)\", fontsize=14)\n",
    "plt.axhline(ne2001, linestyle='--', c='k')\n",
    "plt.xticks(fontsize=14)\n",
    "plt.yticks(fontsize=14)\n",
    "plt.show()"
   ]
  },
  {
   "cell_type": "code",
   "execution_count": 28,
   "id": "f6697c6a",
   "metadata": {},
   "outputs": [
    {
     "name": "stdout",
     "output_type": "stream",
     "text": [
      "0.00019684124228395064\n"
     ]
    }
   ],
   "source": [
    "s = scale_sc(1.7e-3,350,600)\n",
    "print(s)"
   ]
  },
  {
   "cell_type": "code",
   "execution_count": 32,
   "id": "70cfebfd",
   "metadata": {},
   "outputs": [
    {
     "name": "stdout",
     "output_type": "stream",
     "text": [
      "2.7921388937832297\n"
     ]
    }
   ],
   "source": [
    "sc,err = f_to_sc(0.059,0.013)\n",
    "print(sc+err)"
   ]
  },
  {
   "cell_type": "code",
   "execution_count": 25,
   "id": "eb94b49e",
   "metadata": {},
   "outputs": [
    {
     "name": "stdout",
     "output_type": "stream",
     "text": [
      "(1.5+/-0.6)e+03\n",
      "(1.6+/-1.1)e+03\n",
      "468+/-33\n"
     ]
    }
   ],
   "source": [
    "for i in range(len(sc_bw)):\n",
    "    f = ufloat(sc_bw[i],sc_bw_err[i])\n",
    "    x = 1/(2*np.pi*f)\n",
    "    y = scale_sc(x,6000,600)\n",
    "    print(y*)"
   ]
  },
  {
   "cell_type": "code",
   "execution_count": null,
   "id": "569439ce",
   "metadata": {},
   "outputs": [],
   "source": []
  }
 ],
 "metadata": {
  "kernelspec": {
   "display_name": "Python 3",
   "language": "python",
   "name": "python3"
  },
  "language_info": {
   "codemirror_mode": {
    "name": "ipython",
    "version": 3
   },
   "file_extension": ".py",
   "mimetype": "text/x-python",
   "name": "python",
   "nbconvert_exporter": "python",
   "pygments_lexer": "ipython3",
   "version": "3.8.8"
  }
 },
 "nbformat": 4,
 "nbformat_minor": 5
}
