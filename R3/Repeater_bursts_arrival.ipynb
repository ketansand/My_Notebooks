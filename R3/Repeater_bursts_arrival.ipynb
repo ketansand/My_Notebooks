{
 "cells": [
  {
   "cell_type": "code",
   "execution_count": 60,
   "id": "4ada5edc",
   "metadata": {},
   "outputs": [],
   "source": [
    "import numpy as np\n",
    "import pandas as pd\n",
    "import json\n",
    "import matplotlib.pyplot as plt\n",
    "from datetime import datetime\n",
    "from dateutil import parser\n",
    "from matplotlib.dates import DateFormatter"
   ]
  },
  {
   "cell_type": "code",
   "execution_count": 3,
   "id": "1fcb9e25",
   "metadata": {},
   "outputs": [],
   "source": [
    "df = pd.read_json('/Users/ketansand/Downloads/repeaters.json')"
   ]
  },
  {
   "cell_type": "code",
   "execution_count": 59,
   "id": "b8c703a3",
   "metadata": {},
   "outputs": [
    {
     "name": "stdout",
     "output_type": "stream",
     "text": [
      "Not a timestamp\n",
      "Not a timestamp\n",
      "Not a timestamp\n",
      "Not a timestamp\n",
      "Not a timestamp\n",
      "Not a timestamp\n",
      "Not a timestamp\n",
      "Not a timestamp\n",
      "Not a timestamp\n",
      "Not a timestamp\n",
      "Not a timestamp\n"
     ]
    }
   ],
   "source": [
    "R3 = df['FRB20180916B'].dropna()\n",
    "R3_tstamps = []\n",
    "for i in range(len(R3)):\n",
    "    try:\n",
    "        R3_tstamps.append(R3[i]['timestamp']['value'])\n",
    "    except:\n",
    "        print(\"Not a timestamp\")\n",
    "R3_toas = []\n",
    "for i in range(len(R3_tstamps)):\n",
    "    R3_toas.append(parser.parse(R3_tstamps[i]))\n",
    "R3_toas = np.sort(np.array(R3_toas))\n"
   ]
  },
  {
   "cell_type": "code",
   "execution_count": 65,
   "id": "d87cf7a6",
   "metadata": {},
   "outputs": [
    {
     "name": "stdout",
     "output_type": "stream",
     "text": [
      "Not a timestamp\n",
      "Not a timestamp\n",
      "Not a timestamp\n"
     ]
    }
   ],
   "source": [
    "R67 = df['FRB20201124A'].dropna()\n",
    "R67_tstamps = []\n",
    "for i in range(len(R67)):\n",
    "    try:\n",
    "        R67_tstamps.append(R67[i]['timestamp']['value'])\n",
    "    except:\n",
    "        print(\"Not a timestamp\")\n",
    "R67_toas = []\n",
    "for i in range(len(R67_tstamps)):\n",
    "    R67_toas.append(parser.parse(R67_tstamps[i]))\n",
    "R67_toas = np.sort(np.array(R67_toas))"
   ]
  },
  {
   "cell_type": "code",
   "execution_count": 74,
   "id": "5e01f6fa",
   "metadata": {},
   "outputs": [
    {
     "name": "stdout",
     "output_type": "stream",
     "text": [
      "Not a timestamp\n",
      "Not a timestamp\n"
     ]
    }
   ],
   "source": [
    "R117 = df['FRB20220912A'].dropna()\n",
    "R117_tstamps = []\n",
    "for i in range(len(R117)):\n",
    "    try:\n",
    "        R117_tstamps.append(R117[i]['timestamp']['value'])\n",
    "    except:\n",
    "        print(\"Not a timestamp\")\n",
    "R117_toas = []\n",
    "for i in range(len(R117_tstamps)):\n",
    "    R117_toas.append(parser.parse(R117_tstamps[i]))\n",
    "R117_toas = np.sort(np.array(R117_toas))"
   ]
  },
  {
   "cell_type": "code",
   "execution_count": 104,
   "id": "f00162b0",
   "metadata": {},
   "outputs": [
    {
     "data": {
      "image/png": "[encoded data removed]",
      "text/plain": [
       "<Figure size 864x144 with 1 Axes>"
      ]
     },
     "metadata": {
      "needs_background": "light"
     },
     "output_type": "display_data"
    }
   ],
   "source": [
    "fig = plt.figure(figsize=(12,2))\n",
    "#plt.grid(axis='both')\n",
    "plt.scatter(R3_toas, np.ones_like(R3_toas), marker='|', label='FRB20180916B', s=200)\n",
    "plt.scatter(R67_toas, np.ones_like(R67_toas)+0.001, marker='|', label='FRB20201124A', color='r', s=200)\n",
    "plt.scatter(R117_toas, np.ones_like(R117_toas)+0.002, marker='|', label='FRB20220912A', color='g', s=200)\n",
    "\n",
    "# plt.bar(R3_toas, np.ones_like(R3_toas), label='FRB20180916B')\n",
    "# plt.bar(R67_toas, np.ones_like(R67_toas), label='FRB20201124A', color='r')\n",
    "# plt.bar(R117_toas, np.ones_like(R117_toas), label='FRB20220912A', color='g')\n",
    "\n",
    "plt.xlabel('Timestamp', fontsize=14)\n",
    "plt.ylabel('Bursts', fontsize=14)\n",
    "plt.yticks([])  # Hide the y-axis ticks\n",
    "plt.title('Event Occurrences', fontsize=14)\n",
    "plt.legend(loc='upper left', fontsize=12)\n",
    "plt.savefig('repeater_bursts.jpg', bbox_inches='tight', dpi=300)\n",
    "# plt.gca().xaxis.set_major_formatter(DateFormatter('%Y-%m-%d %H:%M:%S'))"
   ]
  },
  {
   "cell_type": "code",
   "execution_count": null,
   "id": "fdd7606e",
   "metadata": {},
   "outputs": [],
   "source": []
  }
 ],
 "metadata": {
  "kernelspec": {
   "display_name": "Python 3",
   "language": "python",
   "name": "python3"
  },
  "language_info": {
   "codemirror_mode": {
    "name": "ipython",
    "version": 3
   },
   "file_extension": ".py",
   "mimetype": "text/x-python",
   "name": "python",
   "nbconvert_exporter": "python",
   "pygments_lexer": "ipython3",
   "version": "3.8.8"
  }
 },
 "nbformat": 4,
 "nbformat_minor": 5
}
